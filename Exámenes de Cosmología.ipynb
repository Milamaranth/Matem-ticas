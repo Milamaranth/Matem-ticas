{
 "cells": [
  {
   "cell_type": "markdown",
   "metadata": {},
   "source": [
    "# Contenidos\n",
    "\n",
    " * [Símbolos de Christoffel](#Símbolos-de-Christoffel)\n",
    "\n",
    " * [Vectores de Killing y cantidad conservada asociada](#Vector-de-Killing)\n",
    "   * [Comprobar que un campo de vector es vector de Killing](#Comprobar-que-un-campo-de-vectores-es-de-Killing)\n",
    "\n",
    "* [Demostrar que la luz puede seguir una órbita circular con coordenada radial r = 3M](#Demostrar-que-la-luz-puede-seguir-una-órbita-circular-con-coordenada-radial-$r-=-3M$:)\n",
    "\n",
    "* [Ecuaciones de la geodésicas](#Ecuaciones-geodésicas)\n",
    "     * [Ecuaciones de la geodésicas de género tiempo y espacio $(T(\\tau)$ y $X(\\tau))$](#Ecuaciones-geodésicas)\n",
    "\n",
    "     * [La EDO (1er orden) que satisface $T(X)$ para las geodésicas de género tiempo](#Ecuaciones-geodésicas)\n",
    "\n",
    "     * [Calcular $X(T)$ para las geodésicas de género luz](#Ecuaciones-geodésicas)\n",
    "     \n",
    "     * [Demostrar que $u^\\alpha \\xi_\\alpha$ es cte a lo largo de una geodésica, siendo u el cuadrivector tg a la geodésica](#Demostrar-que-$u^\\alpha-\\xi_\\alpha$-es-cte-a-lo-largo-de-una-geodésica,-siendo-u-el-cuadrivector-tg-a-la-geodésica)\n",
    "     \n",
    "* [Tensor de Ricci y curvatura escalar](#Tensor-de-Ricci-y-curvatura-escalar)\n",
    "\n",
    "* [¿Es plano el universo?](#¿Es-el-universo-plano?)\n",
    "\n",
    "* [Calcular curvatura del universo](#¿Es-el-universo-plano?)\n",
    "\n",
    "* [Calcular la edad del universo](#Calcular-la-edad-del-universo)\n",
    "\n",
    "* [¿Está este universo dominado por la materia, radiación ó energía oscura?](#¿Está-este-universo-dominado-por-la-materia,-radiación-ó-energía-oscura?)\n",
    "\n",
    "* [Calcular $𝑎(𝑡)$, $𝑡(𝑧)$ y $𝑑_𝐴(𝑧)$ en función de $𝐻_0$ en un universo plano de sólo materia](#Calcular-$a(t)$,-$t(z)$-y-$d_A(z)$-en-función-de-$H_0^{-1}$)\n",
    "\n",
    "* [Calcular la distancia al horizonte visible](#Distancia-propia-al-horizonte-visible)\n",
    "\n",
    "* [Calcular la temperatura de los fotones 3 minutos tras el Big Bang](#Calcular-la-temperatura-de-los-fotones-3-minutos-tras-el-Big-Bang)\n",
    "\n",
    "* [Temperatura de los neutrinos en determinado redshift](#Temperatura-de-los-neutrinos-en-determinado-redshift)\n",
    "\n",
    "* [Calcula el tiempo para pasar de $T_i$ a $T_f$](#Calcula-el-$t$-que-necesitó-el-universo-para-que-su-temperatura-pasara-de-$10^{12}$K-a-$10^{11}K$-¿Y-a-$10^{10}-K$?)\n",
    "\n",
    "* [Calcula el incremento de temperatura cuando los piones se aniquilaron por debajo de 140 MeV](#Calcula-el-incremento-de-temperatura-cuando-los-piones-se-aniquilaron-por-debajo-de-140-MeV)\n",
    "\n",
    "* [¿A qué temperatura la densidad de los monopolos igualó a la densidad de la radiación?](#¿A-qué-temperatura-la-densidad-de-los-monopolos-igualó-a-la-densidad-de-la-radiación?)\n",
    "\n",
    "* [ Demostrar que $\\frac{d}{dt}(1-\\Omega(t)) = -2 \\frac{\\ddot{a}}{\\dot{a}}(1-\\Omega(t))$](#Demostrar-que-$\\frac{d}{dt}(1-\\Omega(t))-=--2-\\frac{\\ddot{a}}{\\dot{a}}(1-\\Omega(t))$)\n",
    "\n",
    "* [Hallar Longitudes, Áreas y Volúmenes](#Hallar-Longitudes,-Áreas-y-Volúmenes)\n",
    "\n",
    "* [Derivada covariante de vectores y formas](#Derivada-covariante-de-vectores-y-formas)\n",
    "\n",
    "\n",
    "For a given metric $g_{\\mu\\nu}$ we can compute:\n",
    "- The inverse metric: $g^{\\mu\\nu}$.\n",
    "- Ricci tensor: $R_{\\mu\\nu} = {R^\\lambda}_{\\mu\\lambda\\nu}$.\n",
    "- Scalar curvature: $R = g^{\\mu\\nu}R_{\\mu\\nu}$.\n",
    "- Einstein tensor: $G_{\\mu\\nu} = R_{\\mu\\nu}-\\frac{1}{2}g_{\\mu\\nu}R$.\n",
    "- Einstein equiations: $R_{\\mu\\nu} = S_{\\mu\\nu}$, $S_{\\mu\\nu} = 8\\pi G(T_{\\mu\\nu}-\\frac{1}{2} g_{\\mu\\nu}R_{\\mu}^{\\mu})$\n",
    "- Geodesics: $L = g_{\\alpha \\beta}(x) \\dot{x}^{\\alpha}\\dot{x}^{\\beta} = \\frac{ds^2}{dt^2}$\n",
    "- Euler-Lagrange equations: $\\frac{\\partial}{\\partial s}\\frac{\\partial L}{\\partial \\dot{x_i}} = \\frac{\\partial L}{\\partial x_i}$, i = 1,2,...\n",
    "- Christoffel Symbols: $\\frac{d^2 x^{\\mu}}{ds^2} + \\Gamma^{\\mu}_{\\nu\\lambda}\\frac{dx^{\\nu}}{ds}\\frac{dx^{\\lambda}}{ds} = 0$,\n",
    "${\\Gamma^{\\lambda}}_{\\mu\\nu}= \\frac{1}{2}g^{\\lambda\\sigma}\\left(\\partial_\\mu g_{\\sigma\\nu}+\\partial_\\nu g_{\\sigma\\mu}-\\partial_\\sigma g_{\\mu\\nu} \\right)$.\n",
    "- Killing vector: $\\nabla_iw_j + \\nabla_jw_i = 0$.\n",
    "- Covariant derivative: $\\nabla_{\\gamma}w_{\\alpha} = \\frac{\\partial w_{\\alpha}}{\\partial x^{\\gamma}} - w_{\\mu}\\Gamma^{\\mu}_{\\gamma\\alpha}$\n",
    "- Riemann tensor: ${R^\\lambda}_{\\mu\\nu\\sigma}=\\partial_\\nu {\\Gamma^\\lambda}_{\\mu\\sigma}-\\partial_\\sigma {\\Gamma^\\lambda}_{\\mu\\nu}+\\Gamma^\\eta_{\\mu\\sigma}\\Gamma^\\lambda_{\\eta\\nu}-\\Gamma^\\eta_{\\mu\\nu}\\Gamma^\\lambda_{\\eta\\sigma}$.\n",
    "- Comoving coordinates: ${\\Gamma^i}_{0 0} = 0$\n",
    "- Comoving observer: $u^\\mu = (1,0,0,0)$\n",
    "- Energy-momentum tensor conservation: $\\bigtriangledown_\\beta T^{\\alpha \\beta} = \\frac{\\partial T^{t\\beta}_\\beta}{\\partial x^\\beta} + \\Gamma^{t}_{\\beta \\gamma} T^{\\gamma \\beta} + \\Gamma_{\\beta \\gamma}^\\beta T^{t\\gamma} = 0$, donde $T^{t t} = \\rho$ y $\\frac{\\partial T^{t\\beta}_\\beta}{\\partial x^\\beta} = \\frac{\\partial T^{tt}}{\\partial t} = \\dot{\\rho}$\n",
    "\n",
    "- Friedmann equations: $\\dot{\\rho} + 3(\\rho + p)\\frac{\\dot{a}}{a} = 0$\n",
    "- Equation of state: $p = w \\rho \\Rightarrow \\rho$ ~ $a^{-3(1+w)}$\n",
    "    - Cold matter(dust) : $p = 0$, $w = 0 \\Rightarrow \\rho$ ~ $a^{-3}$\n",
    "    - Hot matter(radiation) : $p = \\rho/3$, $w = 1/3 \\Rightarrow \\rho$ ~ $a^{-4}$\n",
    "    -Vacuum energy(cosmological cte) : $p = -\\rho$, $w = -1 \\Rightarrow \\rho$ ~ cte\n"
   ]
  },
  {
   "cell_type": "code",
   "execution_count": 129,
   "metadata": {},
   "outputs": [],
   "source": [
    "%display latex"
   ]
  },
  {
   "cell_type": "code",
   "execution_count": 130,
   "metadata": {},
   "outputs": [],
   "source": [
    "d=4 # dimensión\n",
    "M = Manifold(d, 'M')"
   ]
  },
  {
   "cell_type": "code",
   "execution_count": 131,
   "metadata": {},
   "outputs": [
    {
     "data": {
      "text/html": [
       "<html><script type=\"math/tex; mode=display\">\\newcommand{\\Bold}[1]{\\mathbf{#1}}\\left(M,(t, r, \\theta, \\phi)\\right)</script></html>"
      ],
      "text/plain": [
       "Chart (M, (t, r, theta, phi))"
      ]
     },
     "execution_count": 131,
     "metadata": {},
     "output_type": "execute_result"
    }
   ],
   "source": [
    "X.<t,r, theta, phi> = M.chart(r\" t r theta phi\")\n",
    "X"
   ]
  },
  {
   "cell_type": "code",
   "execution_count": 132,
   "metadata": {},
   "outputs": [
    {
     "data": {
      "text/html": [
       "<html><script type=\"math/tex; mode=display\">\\newcommand{\\Bold}[1]{\\mathbf{#1}}g = -f_{1} \\mathrm{d} t\\otimes \\mathrm{d} t + \\frac{1}{f_{1}} \\mathrm{d} r\\otimes \\mathrm{d} r + f_{2}^{2} \\mathrm{d} \\theta\\otimes \\mathrm{d} \\theta -f_{2}^{2} \\sin\\left(\\theta\\right)^{2} \\mathrm{d} \\phi\\otimes \\mathrm{d} \\phi</script></html>"
      ],
      "text/plain": [
       "g = -f1 dt*dt + 1/f1 dr*dr + f2^2 dtheta*dtheta - f2^2*sin(theta)^2 dphi*dphi"
      ]
     },
     "execution_count": 132,
     "metadata": {},
     "output_type": "execute_result"
    }
   ],
   "source": [
    "g = M.metric('g')\n",
    "f1 = var('f1')\n",
    "f2 = var('f2')\n",
    "g[0,0] = -f1\n",
    "g[1,1] = 1/f1\n",
    "g[2,2] = f2^2\n",
    "g[3,3] = -f2^2*sin(theta)^2\n",
    "\n",
    "g.display()"
   ]
  },
  {
   "cell_type": "code",
   "execution_count": 133,
   "metadata": {
    "scrolled": true
   },
   "outputs": [
    {
     "data": {
      "text/html": [
       "<html><script type=\"math/tex; mode=display\">\\newcommand{\\Bold}[1]{\\mathbf{#1}}\\left(\\begin{array}{rrrr}\n",
       "-f_{1} & 0 & 0 & 0 \\\\\n",
       "0 & \\frac{1}{f_{1}} & 0 & 0 \\\\\n",
       "0 & 0 & f_{2}^{2} & 0 \\\\\n",
       "0 & 0 & 0 & -f_{2}^{2} \\sin\\left(\\theta\\right)^{2}\n",
       "\\end{array}\\right)</script></html>"
      ],
      "text/plain": [
       "[               -f1                  0                  0                  0]\n",
       "[                 0               1/f1                  0                  0]\n",
       "[                 0                  0               f2^2                  0]\n",
       "[                 0                  0                  0 -f2^2*sin(theta)^2]"
      ]
     },
     "execution_count": 133,
     "metadata": {},
     "output_type": "execute_result"
    }
   ],
   "source": [
    "g[:]"
   ]
  },
  {
   "cell_type": "markdown",
   "metadata": {},
   "source": [
    "## Símbolos de Christoffel"
   ]
  },
  {
   "cell_type": "code",
   "execution_count": 134,
   "metadata": {},
   "outputs": [
    {
     "data": {
      "text/html": [
       "<html><script type=\"math/tex; mode=display\">\\newcommand{\\Bold}[1]{\\mathbf{#1}}\\begin{array}{lcl} \\Gamma_{ \\phantom{\\, \\theta} \\, \\phi \\, \\phi }^{ \\, \\theta \\phantom{\\, \\phi} \\phantom{\\, \\phi} } & = & \\cos\\left(\\theta\\right) \\sin\\left(\\theta\\right) \\\\ \\Gamma_{ \\phantom{\\, \\phi} \\, \\theta \\, \\phi }^{ \\, \\phi \\phantom{\\, \\theta} \\phantom{\\, \\phi} } & = & \\frac{\\cos\\left(\\theta\\right)}{\\sin\\left(\\theta\\right)} \\end{array}</script></html>"
      ],
      "text/plain": [
       "Gam^theta_phi,phi = cos(theta)*sin(theta) \n",
       "Gam^phi_theta,phi = cos(theta)/sin(theta) "
      ]
     },
     "execution_count": 134,
     "metadata": {},
     "output_type": "execute_result"
    }
   ],
   "source": [
    "g.christoffel_symbols_display()\n",
    "# Los que no se muestran son 0"
   ]
  },
  {
   "cell_type": "code",
   "execution_count": 135,
   "metadata": {},
   "outputs": [
    {
     "data": {
      "text/html": [
       "<html><script type=\"math/tex; mode=display\">\\newcommand{\\Bold}[1]{\\mathbf{#1}}\\mathrm{True}</script></html>"
      ],
      "text/plain": [
       "True"
      ]
     },
     "execution_count": 135,
     "metadata": {},
     "output_type": "execute_result"
    }
   ],
   "source": [
    "# Comprobando simetrías\n",
    "g.christoffel_symbols()[0,0,1] == g.christoffel_symbols()[0,1,0]"
   ]
  },
  {
   "cell_type": "markdown",
   "metadata": {},
   "source": [
    "# Vector de Killing"
   ]
  },
  {
   "cell_type": "markdown",
   "metadata": {},
   "source": [
    "- Killing vector: $\\nabla_iw_j + \\nabla_jw_i = 0$.\n",
    "\n",
    "La cantidad conservada viene de $\\xi \\cdot u = g_{\\alpha \\beta}\\xi^{\\alpha}u^{\\beta} = cte$"
   ]
  },
  {
   "cell_type": "code",
   "execution_count": 136,
   "metadata": {},
   "outputs": [
    {
     "data": {
      "text/html": [
       "<html><script type=\"math/tex; mode=display\">\\newcommand{\\Bold}[1]{\\mathbf{#1}}\\mathrm{True}</script></html>"
      ],
      "text/plain": [
       "True"
      ]
     },
     "execution_count": 136,
     "metadata": {},
     "output_type": "execute_result"
    }
   ],
   "source": [
    "M.default_frame() is X.frame()"
   ]
  },
  {
   "cell_type": "code",
   "execution_count": 137,
   "metadata": {},
   "outputs": [
    {
     "data": {
      "text/html": [
       "<html><script type=\"math/tex; mode=display\">\\newcommand{\\Bold}[1]{\\mathbf{#1}}\\left(M, \\left(\\frac{\\partial}{\\partial t },\\frac{\\partial}{\\partial r },\\frac{\\partial}{\\partial \\theta },\\frac{\\partial}{\\partial \\phi }\\right)\\right)</script></html>"
      ],
      "text/plain": [
       "Coordinate frame (M, (d/dt,d/dr,d/dtheta,d/dphi))"
      ]
     },
     "execution_count": 137,
     "metadata": {},
     "output_type": "execute_result"
    }
   ],
   "source": [
    "X.frame()"
   ]
  },
  {
   "cell_type": "code",
   "execution_count": 138,
   "metadata": {},
   "outputs": [
    {
     "data": {
      "text/html": [
       "<html><script type=\"math/tex; mode=display\">\\newcommand{\\Bold}[1]{\\mathbf{#1}}\\frac{\\partial}{\\partial t }</script></html>"
      ],
      "text/plain": [
       "Vector field d/dt on the 4-dimensional differentiable manifold M"
      ]
     },
     "execution_count": 138,
     "metadata": {},
     "output_type": "execute_result"
    }
   ],
   "source": [
    "xi = X.frame()[0] ; xi"
   ]
  },
  {
   "cell_type": "code",
   "execution_count": 139,
   "metadata": {},
   "outputs": [
    {
     "name": "stdout",
     "output_type": "stream",
     "text": [
      "1-form xi_form on the 4-dimensional differentiable manifold M\n"
     ]
    },
    {
     "data": {
      "text/html": [
       "<html><script type=\"math/tex; mode=display\">\\newcommand{\\Bold}[1]{\\mathbf{#1}}\\underline{\\xi} = -f_{1} \\mathrm{d} t</script></html>"
      ],
      "text/plain": [
       "xi_form = -f1 dt"
      ]
     },
     "execution_count": 139,
     "metadata": {},
     "output_type": "execute_result"
    }
   ],
   "source": [
    "xi_form = xi.down(g)\n",
    "xi_form.set_name('xi_form', r'\\underline{\\xi}')\n",
    "print(xi_form) ; xi_form.display()"
   ]
  },
  {
   "cell_type": "code",
   "execution_count": 140,
   "metadata": {},
   "outputs": [
    {
     "name": "stdout",
     "output_type": "stream",
     "text": [
      "Levi-Civita connection nabla_g associated with the Riemannian metric g on the 4-dimensional differentiable manifold M\n"
     ]
    }
   ],
   "source": [
    "nab = g.connection() ; print(nab)"
   ]
  },
  {
   "cell_type": "code",
   "execution_count": 141,
   "metadata": {},
   "outputs": [
    {
     "data": {
      "text/html": [
       "<html><script type=\"math/tex; mode=display\">\\newcommand{\\Bold}[1]{\\mathbf{#1}}\\nabla_{g} g = 0</script></html>"
      ],
      "text/plain": [
       "nabla_g(g) = 0"
      ]
     },
     "execution_count": 141,
     "metadata": {},
     "output_type": "execute_result"
    }
   ],
   "source": [
    "nab(g).display()"
   ]
  },
  {
   "cell_type": "code",
   "execution_count": 142,
   "metadata": {},
   "outputs": [
    {
     "name": "stdout",
     "output_type": "stream",
     "text": [
      "Tensor field nabla_g(xi_form) of type (0,2) on the 4-dimensional differentiable manifold M\n"
     ]
    },
    {
     "data": {
      "text/html": [
       "<html><script type=\"math/tex; mode=display\">\\newcommand{\\Bold}[1]{\\mathbf{#1}}\\nabla_{g} \\underline{\\xi} = 0</script></html>"
      ],
      "text/plain": [
       "nabla_g(xi_form) = 0"
      ]
     },
     "execution_count": 142,
     "metadata": {},
     "output_type": "execute_result"
    }
   ],
   "source": [
    "nab_xi = nab(xi_form)\n",
    "print(nab_xi) ; nab_xi.display()"
   ]
  },
  {
   "cell_type": "code",
   "execution_count": 143,
   "metadata": {},
   "outputs": [
    {
     "data": {
      "text/html": [
       "<html><script type=\"math/tex; mode=display\">\\newcommand{\\Bold}[1]{\\mathbf{#1}}0</script></html>"
      ],
      "text/plain": [
       "0"
      ]
     },
     "execution_count": 143,
     "metadata": {},
     "output_type": "execute_result"
    }
   ],
   "source": [
    "# Vemos que no es cero, luego no es vector de Killing\n",
    "nab_xi.symmetrize().display()"
   ]
  },
  {
   "cell_type": "code",
   "execution_count": 144,
   "metadata": {},
   "outputs": [
    {
     "data": {
      "text/html": [
       "<html><script type=\"math/tex; mode=display\">\\newcommand{\\Bold}[1]{\\mathbf{#1}}0</script></html>"
      ],
      "text/plain": [
       "0"
      ]
     },
     "execution_count": 144,
     "metadata": {},
     "output_type": "execute_result"
    }
   ],
   "source": [
    "# Otra forma de comprobarlo\n",
    "g.lie_der(xi).display()"
   ]
  },
  {
   "cell_type": "code",
   "execution_count": 145,
   "metadata": {},
   "outputs": [
    {
     "data": {
      "text/html": [
       "<html><script type=\"math/tex; mode=display\">\\newcommand{\\Bold}[1]{\\mathbf{#1}}\\frac{\\partial}{\\partial \\phi }</script></html>"
      ],
      "text/plain": [
       "Vector field d/dphi on the 4-dimensional differentiable manifold M"
      ]
     },
     "execution_count": 145,
     "metadata": {},
     "output_type": "execute_result"
    }
   ],
   "source": [
    "xi = X.frame()[3] ; xi"
   ]
  },
  {
   "cell_type": "code",
   "execution_count": 146,
   "metadata": {},
   "outputs": [
    {
     "data": {
      "text/html": [
       "<html><script type=\"math/tex; mode=display\">\\newcommand{\\Bold}[1]{\\mathbf{#1}}0</script></html>"
      ],
      "text/plain": [
       "0"
      ]
     },
     "execution_count": 146,
     "metadata": {},
     "output_type": "execute_result"
    }
   ],
   "source": [
    "g.lie_der(xi).display()"
   ]
  },
  {
   "cell_type": "code",
   "execution_count": 147,
   "metadata": {},
   "outputs": [
    {
     "data": {
      "text/html": [
       "<html><script type=\"math/tex; mode=display\">\\newcommand{\\Bold}[1]{\\mathbf{#1}}0</script></html>"
      ],
      "text/plain": [
       "0"
      ]
     },
     "execution_count": 147,
     "metadata": {},
     "output_type": "execute_result"
    }
   ],
   "source": [
    "nab_xi.symmetrize().display()"
   ]
  },
  {
   "cell_type": "code",
   "execution_count": 148,
   "metadata": {},
   "outputs": [
    {
     "name": "stdout",
     "output_type": "stream",
     "text": [
      "1-form xi_form on the 4-dimensional differentiable manifold M\n"
     ]
    },
    {
     "data": {
      "text/html": [
       "<html><script type=\"math/tex; mode=display\">\\newcommand{\\Bold}[1]{\\mathbf{#1}}\\underline{\\xi} = -f_{2}^{2} \\sin\\left(\\theta\\right)^{2} \\mathrm{d} \\phi</script></html>"
      ],
      "text/plain": [
       "xi_form = -f2^2*sin(theta)^2 dphi"
      ]
     },
     "execution_count": 148,
     "metadata": {},
     "output_type": "execute_result"
    }
   ],
   "source": [
    "xi_form = xi.down(g)\n",
    "xi_form.set_name('xi_form', r'\\underline{\\xi}')\n",
    "print(xi_form) ; xi_form.display()"
   ]
  },
  {
   "cell_type": "code",
   "execution_count": 149,
   "metadata": {},
   "outputs": [
    {
     "name": "stdout",
     "output_type": "stream",
     "text": [
      "Tensor field nabla_g(xi_form) of type (0,2) on the 4-dimensional differentiable manifold M\n"
     ]
    },
    {
     "data": {
      "text/html": [
       "<html><script type=\"math/tex; mode=display\">\\newcommand{\\Bold}[1]{\\mathbf{#1}}\\nabla_{g} \\underline{\\xi} = f_{2}^{2} \\cos\\left(\\theta\\right) \\sin\\left(\\theta\\right) \\mathrm{d} \\theta\\otimes \\mathrm{d} \\phi -f_{2}^{2} \\cos\\left(\\theta\\right) \\sin\\left(\\theta\\right) \\mathrm{d} \\phi\\otimes \\mathrm{d} \\theta</script></html>"
      ],
      "text/plain": [
       "nabla_g(xi_form) = f2^2*cos(theta)*sin(theta) dtheta*dphi - f2^2*cos(theta)*sin(theta) dphi*dtheta"
      ]
     },
     "execution_count": 149,
     "metadata": {},
     "output_type": "execute_result"
    }
   ],
   "source": [
    "nab_xi = nab(xi_form)\n",
    "print(nab_xi) ; nab_xi.display()"
   ]
  },
  {
   "cell_type": "code",
   "execution_count": 150,
   "metadata": {},
   "outputs": [
    {
     "data": {
      "text/html": [
       "<html><script type=\"math/tex; mode=display\">\\newcommand{\\Bold}[1]{\\mathbf{#1}}0</script></html>"
      ],
      "text/plain": [
       "0"
      ]
     },
     "execution_count": 150,
     "metadata": {},
     "output_type": "execute_result"
    }
   ],
   "source": [
    "# Este sí es vector de Killing\n",
    "nab_xi.symmetrize().display()"
   ]
  },
  {
   "cell_type": "code",
   "execution_count": 151,
   "metadata": {},
   "outputs": [
    {
     "data": {
      "text/html": [
       "<html><script type=\"math/tex; mode=display\">\\newcommand{\\Bold}[1]{\\mathbf{#1}}0</script></html>"
      ],
      "text/plain": [
       "0"
      ]
     },
     "execution_count": 151,
     "metadata": {},
     "output_type": "execute_result"
    }
   ],
   "source": [
    "g.lie_der(xi).display()"
   ]
  },
  {
   "cell_type": "code",
   "execution_count": 152,
   "metadata": {
    "scrolled": true
   },
   "outputs": [
    {
     "name": "stdout",
     "output_type": "stream",
     "text": [
      "2-form F on the 4-dimensional differentiable manifold M\n"
     ]
    },
    {
     "data": {
      "text/html": [
       "<html><script type=\"math/tex; mode=display\">\\newcommand{\\Bold}[1]{\\mathbf{#1}}F = -f_{2}^{2} \\cos\\left(\\theta\\right) \\sin\\left(\\theta\\right) \\mathrm{d} \\theta\\wedge \\mathrm{d} \\phi</script></html>"
      ],
      "text/plain": [
       "F = -f2^2*cos(theta)*sin(theta) dtheta/\\dphi"
      ]
     },
     "execution_count": 152,
     "metadata": {},
     "output_type": "execute_result"
    }
   ],
   "source": [
    "# Función de antisimetrías\n",
    "F = - nab_xi.antisymmetrize()\n",
    "F.set_name('F')\n",
    "print(F)\n",
    "F.display()"
   ]
  },
  {
   "cell_type": "code",
   "execution_count": 153,
   "metadata": {},
   "outputs": [
    {
     "data": {
      "text/html": [
       "<html><script type=\"math/tex; mode=display\">\\newcommand{\\Bold}[1]{\\mathbf{#1}}\\mathrm{True}</script></html>"
      ],
      "text/plain": [
       "True"
      ]
     },
     "execution_count": 153,
     "metadata": {},
     "output_type": "execute_result"
    }
   ],
   "source": [
    "# Así también vemos que este segundo xi sí es de Killing\n",
    "F == - nab_xi"
   ]
  },
  {
   "cell_type": "markdown",
   "metadata": {},
   "source": [
    "## Comprobar que un campo de vectores es de Killing"
   ]
  },
  {
   "cell_type": "markdown",
   "metadata": {},
   "source": [
    "Consideremos el siguiente campo de vectores sobre $M$."
   ]
  },
  {
   "cell_type": "code",
   "execution_count": 154,
   "metadata": {},
   "outputs": [
    {
     "data": {
      "text/html": [
       "<html><script type=\"math/tex; mode=display\">\\newcommand{\\Bold}[1]{\\mathbf{#1}}\\left( \\sqrt{x^{2} + 1} \\cos\\left(y\\right) \\right) \\frac{\\partial}{\\partial t } + \\left( -\\frac{\\sqrt{x^{2} + 1} \\sin\\left(y\\right)}{x} \\right) \\frac{\\partial}{\\partial r }</script></html>"
      ],
      "text/plain": [
       "sqrt(x^2 + 1)*cos(y) d/dt - sqrt(x^2 + 1)*sin(y)/x d/dr"
      ]
     },
     "execution_count": 154,
     "metadata": {},
     "output_type": "execute_result"
    }
   ],
   "source": [
    "omega = sqrt(1+x^2)*cos(y)*X.frame()[0]-sqrt(1+x^2)/x*sin(y)*X.frame()[1]; omega.display()"
   ]
  },
  {
   "cell_type": "markdown",
   "metadata": {},
   "source": [
    "### Opción 1: Derivada de Lie"
   ]
  },
  {
   "cell_type": "markdown",
   "metadata": {},
   "source": [
    "Es vector de Killing si y sólo si da 0."
   ]
  },
  {
   "cell_type": "code",
   "execution_count": 155,
   "metadata": {},
   "outputs": [
    {
     "data": {
      "text/html": [
       "<html><script type=\"math/tex; mode=display\">\\newcommand{\\Bold}[1]{\\mathbf{#1}}0</script></html>"
      ],
      "text/plain": [
       "0"
      ]
     },
     "execution_count": 155,
     "metadata": {},
     "output_type": "execute_result"
    }
   ],
   "source": [
    "g.lie_der(omega).display()"
   ]
  },
  {
   "cell_type": "markdown",
   "metadata": {},
   "source": [
    "### Opción 2: Simetrización"
   ]
  },
  {
   "cell_type": "markdown",
   "metadata": {},
   "source": [
    "Tomamos la conexión de Levi-Civita $\\nabla$ de $g$. Dado un vector $v$, nos permite hacer la derivada covariante $\\nabla_v$."
   ]
  },
  {
   "cell_type": "code",
   "execution_count": 156,
   "metadata": {
    "scrolled": true
   },
   "outputs": [
    {
     "name": "stdout",
     "output_type": "stream",
     "text": [
      "Levi-Civita connection nabla_g associated with the Riemannian metric g on the 4-dimensional differentiable manifold M\n"
     ]
    }
   ],
   "source": [
    "nab = g.connection(); print(nab)"
   ]
  },
  {
   "cell_type": "code",
   "execution_count": 157,
   "metadata": {},
   "outputs": [
    {
     "data": {
      "text/html": [
       "<html><script type=\"math/tex; mode=display\">\\newcommand{\\Bold}[1]{\\mathbf{#1}}\\left( -\\sqrt{x^{2} + 1} f_{1} \\cos\\left(y\\right) \\right) \\mathrm{d} t + \\left( -\\frac{\\sqrt{x^{2} + 1} \\sin\\left(y\\right)}{f_{1} x} \\right) \\mathrm{d} r</script></html>"
      ],
      "text/plain": [
       "-sqrt(x^2 + 1)*f1*cos(y) dt - sqrt(x^2 + 1)*sin(y)/(f1*x) dr"
      ]
     },
     "execution_count": 157,
     "metadata": {},
     "output_type": "execute_result"
    }
   ],
   "source": [
    "omegadown = omega.down(g); omegadown.display()"
   ]
  },
  {
   "cell_type": "code",
   "execution_count": 158,
   "metadata": {},
   "outputs": [
    {
     "data": {
      "text/html": [
       "<html><script type=\"math/tex; mode=display\">\\newcommand{\\Bold}[1]{\\mathbf{#1}}0</script></html>"
      ],
      "text/plain": [
       "0"
      ]
     },
     "execution_count": 158,
     "metadata": {},
     "output_type": "execute_result"
    }
   ],
   "source": [
    "nav_omegadown = nab(omegadown); nav_omegadown.display()"
   ]
  },
  {
   "cell_type": "markdown",
   "metadata": {},
   "source": [
    "Es vector de Killing si y sólo si da 0."
   ]
  },
  {
   "cell_type": "code",
   "execution_count": 159,
   "metadata": {},
   "outputs": [
    {
     "data": {
      "text/html": [
       "<html><script type=\"math/tex; mode=display\">\\newcommand{\\Bold}[1]{\\mathbf{#1}}0</script></html>"
      ],
      "text/plain": [
       "0"
      ]
     },
     "execution_count": 159,
     "metadata": {},
     "output_type": "execute_result"
    }
   ],
   "source": [
    "nav_omegadown.symmetrize().display()"
   ]
  },
  {
   "cell_type": "markdown",
   "metadata": {},
   "source": [
    "### Demostrar que la luz puede seguir una órbita circular con coordenada radial $r = 3M$:"
   ]
  },
  {
   "cell_type": "markdown",
   "metadata": {},
   "source": [
    "Sea el agujero negro tipo Schwartzchild, que tiene métrica:\n",
    "\n",
    "$$g = -\\Big(1 - \\frac{2GM}{r^2}dt^2 +\\Big) + \\Big(1 - \\frac{2GM}{r^2}dt^2 +\\Big)^{-1} dr^2 + r^2d\\Omega^2$$\n",
    "\n",
    "El vector cuadrivelocidad de los fotones es $u^\\alpha = \\frac{dx^\\alpha}{d\\lambda}$. Calculamos los vectores de Killing y cantidades conservadas:"
   ]
  },
  {
   "cell_type": "markdown",
   "metadata": {},
   "source": [
    "$$\\xi = (1,0,0,0) \\Rightarrow e = -\\xi u = cte = (1 - \\frac{2M}{r^2}dt^2 +\\Big) \\frac{dt}{d\\lambda}$$\n",
    "$$\\mu = (1,0,0,0) \\Rightarrow e = \\mu u = cte = r^2sin^2(\\theta) \\frac{d\\phi}{d\\lambda} = r^2$$\n",
    "Pues $\\theta = \\pi/2$. Para los fotones $u^2 = 0$:\n",
    "\n",
    "$$-\\frac{e^2}{1- \\frac{2M}{r}} +  \\frac{1}{1- \\frac{2M}{r}} \\frac{dr^2}{d\\lambda^2} + \\frac{l^2}{r^2} = 0$$\n",
    "\n",
    "Despejando: \n",
    "\n",
    "$$  \\frac{dr^2}{d\\lambda^2}  = e^2 +   \\frac{l^2}{r^2}\\Big(1 - \\frac{2M}{r}\\Big) = e^2 - V_{eff}^2 = 0$$\n",
    "\n",
    "Luego $\\frac{dr}{d\\lambda} = 0$ y la órbita es circular. Derivamos:\n",
    "\n",
    "$$  0 =\\frac{d^2r}{d\\lambda^2} = 0 - \\frac{dV_{eff}^2}{d\\lambda} = - \\frac{dV_{eff}^2}{2 dr} = \\frac{-2l^2}{r^3} + \\frac{6Ml^2}{r^4}$$\n",
    "\n",
    "Entonces, efectivalmente $r = 3M$."
   ]
  },
  {
   "cell_type": "markdown",
   "metadata": {},
   "source": [
    "#### Estabilidad de esta órbita\n",
    "\n",
    "Para ver la estabilidad estudiamos la segunda derivada. Como:\n",
    "\n",
    "$$\\frac{d^2V_{eff}^2}{dr^2} (r = 3M) = - \\frac{2l^2}{81 M^4} < 0$$. Entonces es inestable."
   ]
  },
  {
   "cell_type": "markdown",
   "metadata": {},
   "source": [
    "#### Período de esa órbita observador en infto"
   ]
  },
  {
   "cell_type": "markdown",
   "metadata": {},
   "source": [
    "$$dx_i = 0 \\space\\space\\space\\space\\space y \\space\\space\\space\\space\\space d\\tau^2 = dt^2$$\n",
    "\n",
    "$$\\frac{d\\phi}{dt} = \\frac{d\\phi/d\\lambda}{dt/d\\lambda} = \\frac{l/r^2}{e/(1 - \\frac{2M}{r})} = \\frac{l}{er^2}(1 - \\frac{2M}{r}) = \\frac{l}{27 e M^2}$$\n",
    "\n",
    "Luego $P = \\frac{54 \\pi e M^2}{l} = \\frac{18\\pi M}{\\sqrt{3}}$."
   ]
  },
  {
   "cell_type": "markdown",
   "metadata": {},
   "source": [
    "#### Período de observador en r = 3M"
   ]
  },
  {
   "cell_type": "markdown",
   "metadata": {},
   "source": [
    "$$-d\\tau^2 = \\Big(1 - \\frac{2M}{3M}\\Big) dt^2 = - \\frac{1}{3}dt^2 $$\n",
    "\n",
    "Como $ \\frac{2\\pi}{P} = \\frac{d\\phi}{d\\tau}$, entonces:\n",
    "\n",
    "$$P \\frac{d\\tau}{dt} = T = \\frac{18\\pi M}{\\sqrt{3}}\\sqrt{\\frac{1}{3}}$$"
   ]
  },
  {
   "cell_type": "markdown",
   "metadata": {},
   "source": [
    "#### Dada la masa del sol, expresar el radio en metros"
   ]
  },
  {
   "cell_type": "markdown",
   "metadata": {},
   "source": [
    "$$r = \\frac{GM}{c^2} = 4427.087 m $$"
   ]
  },
  {
   "cell_type": "markdown",
   "metadata": {},
   "source": [
    "# Ecuaciones geodésicas"
   ]
  },
  {
   "cell_type": "markdown",
   "metadata": {},
   "source": [
    "#### Geodésicas de género tiempo \n",
    "$\\ddot{x}^{\\mu} = 0$ derivada respecto $\\tau$ tiempo propio\n",
    "\n",
    "$\\frac{d^2x^{\\alpha}}{d\\tau^2} = \\Gamma^{\\alpha}_{\\beta \\gamma} \\frac{dx^{\\beta}}{d\\tau}\\frac{dx^{\\gamma}}{d\\tau}$"
   ]
  },
  {
   "cell_type": "markdown",
   "metadata": {},
   "source": [
    "#### Geodésicas de género luz (null-geodésica ó de género espacio)\n",
    "\n",
    "$\\frac{d^2x^{\\alpha}}{d\\lambda^2} = -\\Gamma^{\\alpha}_{\\beta \\gamma} \\frac{dx^{\\beta}}{d\\lambda}\\frac{dx^{\\gamma}}{d\\lambda}$"
   ]
  },
  {
   "cell_type": "markdown",
   "metadata": {},
   "source": [
    "#### Método de Lagrange\n",
    "\n",
    "Como $s$ es parámetro afín.\n",
    "\n",
    "$ L = g_{\\alpha \\beta} \\dot{x}^\\alpha \\dot{x}^\\beta = \\frac{1}{1+x^2}\\dot{x}^2 + x^2\\dot{y}^2 $\n",
    "\n",
    "Usamos las ecuaciones de Euler-Lagrange.\n",
    "\n",
    "$ \\frac{d}{ds} \\frac{\\partial L}{\\partial \\dot{x}} = \\frac{\\partial L}{\\partial x}$\n",
    "\n",
    "$ \\frac{d}{ds} \\frac{\\partial L}{\\partial \\dot{y}} = \\frac{\\partial L}{\\partial y}$\n",
    "\n",
    "Obtenemos al final una ecuación diferencia de segundo orden:\n",
    "\n",
    "$ \\ddot{x} = \\left(\\frac{x\\dot{x}^2}{(1+x^2)^2} + x\\dot{y}^2\\right)(1+x^2) $\n",
    "\n",
    "$ \\ddot{y} = -\\frac{2\\dot{x}\\dot{y}}{x} $"
   ]
  },
  {
   "cell_type": "markdown",
   "metadata": {},
   "source": [
    "#### Demostrar que $u^\\alpha \\xi_\\alpha$ es cte a lo largo de una geodésica, siendo u el cuadrivector tg a la geodésica"
   ]
  },
  {
   "cell_type": "markdown",
   "metadata": {},
   "source": [
    "$$\\frac{dA}{d\\tau} = \\nabla_u A = u^\\alpha \\nabla_\\alpha A$$\n",
    "\n",
    "Por seguir la geodésica:\n",
    "$$u^\\alpha \\nabla_\\alpha u = \\nabla_u u = 0 = \\frac{Du}{D\\tau}$$\n",
    "\n",
    "$$ \\frac{D(u^\\alpha \\xi_\\alpha)}{D\\tau} =\\frac{Du^\\alpha}{D\\tau} \\xi_\\alpha + u^\\alpha\\frac{D\\xi_\\alpha}{D\\tau} =  0 + u^\\alpha(u^\\beta(\\nabla_\\beta \\xi_\\alpha)) =  (u^\\alpha u^\\beta)(\\nabla_\\beta \\xi_\\alpha) = 0$$\n",
    "\n",
    "Se anula porque es el producto de un vector simétrico y otro antisimétrico."
   ]
  },
  {
   "cell_type": "markdown",
   "metadata": {},
   "source": [
    "###### Cantidad conservada asociada al vector de Killing\n",
    "La cantidad conservada por un vector de Killing $\\xi$ a lo largo de una geodésica $\\gamma$ es $\\xi_\\alpha\\dot{\\gamma}^\\alpha$."
   ]
  },
  {
   "cell_type": "code",
   "execution_count": null,
   "metadata": {},
   "outputs": [],
   "source": []
  },
  {
   "cell_type": "markdown",
   "metadata": {},
   "source": [
    "## Tensor de Ricci y curvatura escalar"
   ]
  },
  {
   "cell_type": "code",
   "execution_count": 160,
   "metadata": {},
   "outputs": [
    {
     "data": {
      "text/html": [
       "<html><script type=\"math/tex; mode=display\">\\newcommand{\\Bold}[1]{\\mathbf{#1}}\\mathrm{Ric}\\left(g\\right) = \\mathrm{d} \\theta\\otimes \\mathrm{d} \\theta -\\sin\\left(\\theta\\right)^{2} \\mathrm{d} \\phi\\otimes \\mathrm{d} \\phi</script></html>"
      ],
      "text/plain": [
       "Ric(g) = dtheta*dtheta - sin(theta)^2 dphi*dphi"
      ]
     },
     "execution_count": 160,
     "metadata": {},
     "output_type": "execute_result"
    }
   ],
   "source": [
    "Ric = g.ricci()\n",
    "Ric.display()"
   ]
  },
  {
   "cell_type": "code",
   "execution_count": 161,
   "metadata": {
    "scrolled": true
   },
   "outputs": [
    {
     "data": {
      "text/html": [
       "<html><script type=\"math/tex; mode=display\">\\newcommand{\\Bold}[1]{\\mathbf{#1}}\\left(\\begin{array}{rrrr}\n",
       "0 & 0 & 0 & 0 \\\\\n",
       "0 & 0 & 0 & 0 \\\\\n",
       "0 & 0 & 1 & 0 \\\\\n",
       "0 & 0 & 0 & -\\sin\\left(\\theta\\right)^{2}\n",
       "\\end{array}\\right)</script></html>"
      ],
      "text/plain": [
       "[            0             0             0             0]\n",
       "[            0             0             0             0]\n",
       "[            0             0             1             0]\n",
       "[            0             0             0 -sin(theta)^2]"
      ]
     },
     "execution_count": 161,
     "metadata": {},
     "output_type": "execute_result"
    }
   ],
   "source": [
    "Ric[:]"
   ]
  },
  {
   "cell_type": "markdown",
   "metadata": {},
   "source": [
    "La curvatura escalar cumple que:\n",
    "$$R = g^{\\mu\\nu} R_{\\mu\\nu}$$"
   ]
  },
  {
   "cell_type": "code",
   "execution_count": 162,
   "metadata": {},
   "outputs": [],
   "source": [
    "ginv=g.inverse()\n",
    "ScalarCurvature=ginv['^{ab}']*Ric['_ab']"
   ]
  },
  {
   "cell_type": "code",
   "execution_count": 163,
   "metadata": {},
   "outputs": [
    {
     "data": {
      "text/html": [
       "<html><script type=\"math/tex; mode=display\">\\newcommand{\\Bold}[1]{\\mathbf{#1}}\\begin{array}{llcl} & M & \\longrightarrow & \\mathbb{R} \\\\ & \\left(t, r, \\theta, \\phi\\right) & \\longmapsto & \\frac{2}{f_{2}^{2}} \\end{array}</script></html>"
      ],
      "text/plain": [
       "M --> R\n",
       "(t, r, theta, phi) |--> 2/f2^2"
      ]
     },
     "execution_count": 163,
     "metadata": {},
     "output_type": "execute_result"
    }
   ],
   "source": [
    "ScalarCurvature.display()"
   ]
  },
  {
   "cell_type": "markdown",
   "metadata": {},
   "source": [
    "# ¿Es el universo plano?\n",
    "\n",
    "$K = 0$ : $\\rho(t) = \\rho_c(t)$ PLANO\n",
    "\n",
    "$K > 0$ : $\\rho(t) > \\rho_c(t)$ esfera (Universo CERRADO)\n",
    "\n",
    "$K < 0$ : $\\rho(t) < \\rho_c(t)$ hiperbólico (Universo ABIERTO)"
   ]
  },
  {
   "cell_type": "markdown",
   "metadata": {},
   "source": [
    "- Riemann tensor: ${R^\\lambda}_{\\mu\\nu\\sigma}=\\partial_\\nu {\\Gamma^\\lambda}_{\\mu\\sigma}-\\partial_\\sigma {\\Gamma^\\lambda}_{\\mu\\nu}+\\Gamma^\\eta_{\\mu\\sigma}\\Gamma^\\lambda_{\\eta\\nu}-\\Gamma^\\eta_{\\mu\\nu}\\Gamma^\\lambda_{\\eta\\sigma}$.\n",
    "- Densidad crítica: $\\rho_{c;0} = 9*10^{-27}$ kg/m^3 \n",
    "- Curvatura: $K = \\frac{8*pi*G}{3}*a^2(\\rho(t)-\\rho_{c}(t))$"
   ]
  },
  {
   "cell_type": "markdown",
   "metadata": {},
   "source": [
    "Método 1: Para ver si un modelo es abierto, cerrado o plano, comparamos con la métrica de Robertson-Walker:"
   ]
  },
  {
   "cell_type": "markdown",
   "metadata": {},
   "source": [
    "$$ ds^2 = -dt^2 + a(t)^2 \\Big(\\frac{dr^2}{1-K r^2} + r^2 d\\Omega^2\\Big)$$\n",
    "donde $d\\Omega^2 = d\\theta^2 + \\sin^2(\\theta) d\\phi^2$\n"
   ]
  },
  {
   "cell_type": "markdown",
   "metadata": {},
   "source": [
    "Método 2: Es plano si el tensor de Riemann asociado se anula y es curvo en c.c."
   ]
  },
  {
   "cell_type": "code",
   "execution_count": 164,
   "metadata": {},
   "outputs": [
    {
     "name": "stdout",
     "output_type": "stream",
     "text": [
      "Tensor field Riem(g) of type (1,3) on the 4-dimensional differentiable manifold M\n"
     ]
    }
   ],
   "source": [
    "Riem = g.riemann()\n",
    "print(Riem)"
   ]
  },
  {
   "cell_type": "code",
   "execution_count": 165,
   "metadata": {},
   "outputs": [
    {
     "data": {
      "text/html": [
       "<html><script type=\"math/tex; mode=display\">\\newcommand{\\Bold}[1]{\\mathbf{#1}}\\begin{array}{lcl} \\mathrm{Riem}\\left(g\\right)_{ \\phantom{\\, \\theta} \\, \\phi \\, \\theta \\, \\phi }^{ \\, \\theta \\phantom{\\, \\phi} \\phantom{\\, \\theta} \\phantom{\\, \\phi} } & = & -\\sin\\left(\\theta\\right)^{2} \\\\ \\mathrm{Riem}\\left(g\\right)_{ \\phantom{\\, \\phi} \\, \\theta \\, \\theta \\, \\phi }^{ \\, \\phi \\phantom{\\, \\theta} \\phantom{\\, \\theta} \\phantom{\\, \\phi} } & = & -1 \\end{array}</script></html>"
      ],
      "text/plain": [
       "Riem(g)^theta_phi,theta,phi = -sin(theta)^2 \n",
       "Riem(g)^phi_theta,theta,phi = -1 "
      ]
     },
     "execution_count": 165,
     "metadata": {},
     "output_type": "execute_result"
    }
   ],
   "source": [
    "Riem.display_comp(only_nonredundant=True) \n",
    "#Estos elementos no se anulan entre sí, por tanto este espacio no es plano"
   ]
  },
  {
   "cell_type": "code",
   "execution_count": 166,
   "metadata": {},
   "outputs": [],
   "source": [
    "Riemdown = Riem.down(g);\n",
    "Riemup = Riem.up(g);"
   ]
  },
  {
   "cell_type": "code",
   "execution_count": 167,
   "metadata": {},
   "outputs": [],
   "source": [
    "ginv = g.inverse()"
   ]
  },
  {
   "cell_type": "code",
   "execution_count": 168,
   "metadata": {},
   "outputs": [
    {
     "data": {
      "text/html": [
       "<html><script type=\"math/tex; mode=display\">\\newcommand{\\Bold}[1]{\\mathbf{#1}}\\begin{array}{lcl} X_{ \\phantom{\\, \\theta}\\phantom{\\, \\phi} \\, \\theta \\, \\phi }^{ \\, \\theta \\, \\phi \\phantom{\\, \\theta} \\phantom{\\, \\phi} } & = & \\frac{1}{f_{2}^{2}} \\\\ X_{ \\phantom{\\, \\phi}\\phantom{\\, \\theta} \\, \\theta \\, \\phi }^{ \\, \\phi \\, \\theta \\phantom{\\, \\theta} \\phantom{\\, \\phi} } & = & -\\frac{1}{f_{2}^{2}} \\end{array}</script></html>"
      ],
      "text/plain": [
       "X^theta,phi_theta,phi = f2^(-2) \n",
       "X^phi,theta_theta,phi = -1/f2^2 "
      ]
     },
     "execution_count": 168,
     "metadata": {},
     "output_type": "execute_result"
    }
   ],
   "source": [
    "# El tensor X  también es el tensor de Riemann pero subiendo la coordenada\n",
    "# Esto nos sirve para ver más claramente si el tensor se anula o no\n",
    "# En este caso, se ve que no se anulan\n",
    "Rup2down2 = Riem['^a_{bcd}']*ginv['^{be}']\n",
    "Rup2down2.display_comp(only_nonredundant=True)"
   ]
  },
  {
   "cell_type": "code",
   "execution_count": 169,
   "metadata": {},
   "outputs": [],
   "source": [
    "# Constantes y unidades de medida\n",
    "year = units.time.year\n",
    "kms = units.length.kilometer / units.time.second\n",
    "mpc = units.si_prefixes.mega * units.length.parsec\n",
    "kelvin = units.temperature.kelvin\n",
    "eV = units.energy.electron_volt\n",
    "c = 299792.458 * kms"
   ]
  },
  {
   "cell_type": "markdown",
   "metadata": {},
   "source": [
    "## Sobre la constante de Hubble hoy"
   ]
  },
  {
   "cell_type": "markdown",
   "metadata": {},
   "source": [
    "El profesor usa la siguiente definición de $H_0$:"
   ]
  },
  {
   "cell_type": "code",
   "execution_count": 170,
   "metadata": {},
   "outputs": [
    {
     "data": {
      "text/html": [
       "<html><script type=\"math/tex; mode=display\">\\newcommand{\\Bold}[1]{\\mathbf{#1}}\\frac{1.02249488752556 \\times 10^{-10}}{\\mathit{year}}</script></html>"
      ],
      "text/plain": [
       "(1.02249488752556e-10)/year"
      ]
     },
     "execution_count": 170,
     "metadata": {},
     "output_type": "execute_result"
    }
   ],
   "source": [
    "Hzero = 1/(9.78*10^9*units.time.year); Hzero"
   ]
  },
  {
   "cell_type": "markdown",
   "metadata": {},
   "source": [
    "Si la $H_0$ estuviera bien definida, $1/H_0$ daría el tiempo del universo asumiendo expansión constante. Es decir, unos  $1.4·10^{10}$ años. Sin embargo, esto nos da:"
   ]
  },
  {
   "cell_type": "code",
   "execution_count": 171,
   "metadata": {},
   "outputs": [
    {
     "data": {
      "text/html": [
       "<html><script type=\"math/tex; mode=display\">\\newcommand{\\Bold}[1]{\\mathbf{#1}}9.78000000000000 \\times 10^{9} \\, \\mathit{year}</script></html>"
      ],
      "text/plain": [
       "9.78000000000000e9*year"
      ]
     },
     "execution_count": 171,
     "metadata": {},
     "output_type": "execute_result"
    }
   ],
   "source": [
    "(1/Hzero)"
   ]
  },
  {
   "cell_type": "markdown",
   "metadata": {},
   "source": [
    "La constante reducida de Hubble, $h$ se suele definir como $h = H_0 / (100 kms/Mpc)$. Para la definición correcta de $H_0$, esto nos da $h=0.68$."
   ]
  },
  {
   "cell_type": "code",
   "execution_count": 172,
   "metadata": {},
   "outputs": [],
   "source": [
    "h = 0.68"
   ]
  },
  {
   "cell_type": "markdown",
   "metadata": {},
   "source": [
    "Al multiplciar $H_0·h$ obtenemos la constante de Hubble habitual. Esto podría indicar que $H_0$ está siendo aquí en realidad una constante de cambio de unidades. Representada en $kms/Mpc$:"
   ]
  },
  {
   "cell_type": "code",
   "execution_count": 173,
   "metadata": {},
   "outputs": [
    {
     "data": {
      "text/html": [
       "<html><script type=\"math/tex; mode=display\">\\newcommand{\\Bold}[1]{\\mathbf{#1}}68.0326129698626 \\, \\left(\\frac{\\mathit{kilometer}}{\\mathit{mega} \\mathit{parsec} \\mathit{second}}\\right)</script></html>"
      ],
      "text/plain": [
       "68.0326129698626*(kilometer/(mega*parsec*second))"
      ]
     },
     "execution_count": 173,
     "metadata": {},
     "output_type": "execute_result"
    }
   ],
   "source": [
    "(Hzero*h).convert(kms/mpc)"
   ]
  },
  {
   "cell_type": "markdown",
   "metadata": {},
   "source": [
    "## ¿Está este universo dominado por la materia, radiación ó energía oscura?\n",
    "\n",
    "Hacemos uso de la ley de Hubble: $H(t) = \\frac{\\dot{a}(t)}{a(t)}$\n",
    "\n",
    "Recordamos que:\n",
    "\n",
    "* Si $K = 0$:\n",
    "    * Si domina la materia: $a(t) \\propto t^{2/3}$ ;  $ T \\propto \\frac{1}{\\alpha(t)} $ ; $H(t) = 2/3t$\n",
    "\n",
    "    * Si domina la radiación: $a(t) \\propto t^{1/2}$  ; $H(t) = 1/2t$\n",
    "    * Si domina la energía oscura: $a(t) \\propto e^{H_0 t}$,\n"
   ]
  },
  {
   "cell_type": "markdown",
   "metadata": {},
   "source": [
    "## Calcula la densidad del universo\n",
    "\n",
    "Suponiendo válidas las ecuaciones de Friedmann:\n",
    "\n",
    "$$\\rho(t) = \\frac{3}{8\\pi G}\\Big(\\frac{\\dot{a}(t)}{a(t)}\\Big)^2 = \\frac{3}{32\\pi G} \\frac{1}{t^2}$$\n",
    "\n",
    "$G = 6.674*10^{-11}$ N* m^2/kg^2"
   ]
  },
  {
   "cell_type": "code",
   "execution_count": 174,
   "metadata": {},
   "outputs": [],
   "source": [
    "def UniverseDensity(t,a):\n",
    "    G = 6.674*10^(-11)\n",
    "    # a = t^(1/2)\n",
    "    da = a.derivative()\n",
    "    d = 3/(8*G*pi)*(a/da)^2\n",
    "    return d"
   ]
  },
  {
   "cell_type": "code",
   "execution_count": 175,
   "metadata": {},
   "outputs": [
    {
     "data": {
      "text/html": [
       "<html><script type=\"math/tex; mode=display\">\\newcommand{\\Bold}[1]{\\mathbf{#1}}\\frac{1}{2 \\, \\sqrt{t}}</script></html>"
      ],
      "text/plain": [
       "1/2/sqrt(t)"
      ]
     },
     "execution_count": 175,
     "metadata": {},
     "output_type": "execute_result"
    }
   ],
   "source": [
    "a = t^(1/2)\n",
    "da = a.derivative()\n",
    "da"
   ]
  },
  {
   "cell_type": "markdown",
   "metadata": {},
   "source": [
    "## Calcular la edad del universo"
   ]
  },
  {
   "cell_type": "code",
   "execution_count": 176,
   "metadata": {},
   "outputs": [],
   "source": [
    "def AgeUniverse(OmegaLambda, OmegaM, OmegaR, h):\n",
    "    Omegak = 1 - OmegaLambda - OmegaM - OmegaR\n",
    "    return numerical_integral(1/(x*sqrt(OmegaLambda + OmegaM/x^3 + OmegaR/x^4 + Omegak/x^2)), 0, 1)[0]/(h*Hzero)"
   ]
  },
  {
   "cell_type": "code",
   "execution_count": 177,
   "metadata": {
    "scrolled": false
   },
   "outputs": [
    {
     "data": {
      "text/html": [
       "<html><script type=\"math/tex; mode=display\">\\newcommand{\\Bold}[1]{\\mathbf{#1}}1.38279417337585 \\times 10^{10} \\, \\mathit{year}</script></html>"
      ],
      "text/plain": [
       "1.38279417337585e10*year"
      ]
     },
     "execution_count": 177,
     "metadata": {},
     "output_type": "execute_result"
    }
   ],
   "source": [
    "AgeUniverse(0.6825, 0.3175, 0, 0.6711)"
   ]
  },
  {
   "cell_type": "markdown",
   "metadata": {},
   "source": [
    "## Calcular la edad del universo en una galaxia a redshift $z$:"
   ]
  },
  {
   "cell_type": "code",
   "execution_count": 178,
   "metadata": {},
   "outputs": [],
   "source": [
    "def AgeUniverseAtRedshift(OmegaLambda, OmegaM, OmegaR, h, z):\n",
    "    Omegak = 1 - OmegaLambda - OmegaM - OmegaR\n",
    "    return numerical_integral(1/(x*sqrt(OmegaLambda + OmegaM/x^3 + OmegaR/x^4 + Omegak/x^2)), 0, 1/(1+z))[0]/(h*Hzero)"
   ]
  },
  {
   "cell_type": "code",
   "execution_count": 179,
   "metadata": {},
   "outputs": [
    {
     "data": {
      "text/html": [
       "<html><script type=\"math/tex; mode=display\">\\newcommand{\\Bold}[1]{\\mathbf{#1}}329759.843165775 \\, \\mathit{year}</script></html>"
      ],
      "text/plain": [
       "329759.843165775*year"
      ]
     },
     "execution_count": 179,
     "metadata": {},
     "output_type": "execute_result"
    }
   ],
   "source": [
    "AgeUniverseAtRedshift(0.75, 0.25, 0, 0.68, 1500)"
   ]
  },
  {
   "cell_type": "markdown",
   "metadata": {},
   "source": [
    "### Calcular $a(t)$, $t(z)$ y $d_A(z)$ en función de $H_0^{-1}$"
   ]
  },
  {
   "cell_type": "markdown",
   "metadata": {},
   "source": [
    "Considérese un universo plano y con sólo materia"
   ]
  },
  {
   "cell_type": "markdown",
   "metadata": {},
   "source": [
    "a(t) es el factor de escala"
   ]
  },
  {
   "cell_type": "markdown",
   "metadata": {},
   "source": [
    "Partiendo de:\n",
    "$$ \\frac{\\dot{a}}{a} = h\\cdot H_0 \\sqrt{\\Omega_\\Lambda + \\Omega_M \\left(\\frac{a_0}{a}\\right)^3 + \\Omega_R \\left(\\frac{a_0}{a}\\right)^4 + \\Omega_K \\left(\\frac{a_0}{a}\\right)^2}$$"
   ]
  },
  {
   "cell_type": "markdown",
   "metadata": {},
   "source": [
    "Como el universo es plano $\\Omega_K=0$. Además, como sólo hay materia, $\\Omega_M=1$, luego la ecuación nos queda:\n",
    "\n",
    "$$ \\frac{\\dot{a}}{a} = h\\cdot H_0 \\sqrt{\\left(\\frac{a_0}{a}\\right)^3}$$\n",
    "\n",
    "Reorganizando:\n",
    "\n",
    "$$ \\dot{a}\\sqrt{a} = h\\cdot H_0 a_0^{3/2} $$\n",
    "\n",
    "Integrando respecto $t$ obtenemos:\n",
    "\n",
    "$$ \\int_{0}^t \\sqrt{a}\\frac{da}{dt'} dt' = h\\cdot H_0 a_0^{3/2} \\int_{0}^t dt'$$\n",
    "\n",
    "Evaluando la integral, entonces obtenemos:\n",
    "\n",
    "$$ \\frac{2}{3}(a^{3/2}(t) - a^{3/2}(0)) = h\\cdot H_0 a_0^{3/2} t $$\n",
    "\n",
    "Como $a(0)=0$ tenemos entonces que:\n",
    "\n",
    "$$ a(t) = \\left(\\frac{3}{2} h H_0 a_0 t\\right)^{2/3} \\propto t^{2/3} $$\n",
    "\n",
    "En términos de $H_0^{-1}$, sería:\n",
    "\n",
    "$$ a(t) = (H_0^{-1})^{-2/3} \\left(\\frac{3}{2} h t a_0 \\right)^{2/3}$$\n"
   ]
  },
  {
   "cell_type": "markdown",
   "metadata": {},
   "source": [
    "### Derivando edad del universo por redshift $t(z)$"
   ]
  },
  {
   "cell_type": "markdown",
   "metadata": {},
   "source": [
    "Hagamos $\\frac{a}{a_0} = x$. Por lo tanto:\n",
    "$$ \\frac{dx}{dt} = \\frac{dx}{da}\\frac{da}{dt} = \\frac{1}{a_0} \\left(x\\cdot a_0 \\cdot h \\cdot H_0 \\sqrt{\\Omega_\\Lambda + \\Omega_M x^{-3} + \\Omega_R x^{-4} + \\Omega_K x^{-2}}\\right) $$\n",
    "\n",
    "En consecuencia:\n",
    "\n",
    "$$ dt = \\frac{dx}{x \\cdot h \\cdot H_0 \\sqrt{\\Omega_\\Lambda + \\Omega_M x^{-3} + \\Omega_R x^{-4} + \\Omega_K x^{-2}}} $$\n",
    "\n",
    "Entonces para un redshift $z$, dado que $1+z = \\frac{a_0}{a}=1/x$. Entonces:\n",
    "\n",
    "$$t(z) = \\int_0^{t(z)} dt = \\frac{1}{h \\cdot H_0} \\int_0^{\\frac{1}{1+z}} \\frac{dx}{x \\cdot \\sqrt{\\Omega_\\Lambda + \\Omega_M x^{-3} + \\Omega_R x^{-4} + \\Omega_K x^{-2}}} $$\n",
    "\n",
    "Para nuestro modelo cosmológico:\n",
    "\n",
    "$$ t(z) = \\frac{1}{h \\cdot H_0} \\int_0^{\\frac{1}{1+z}} \\sqrt{x} dx = \\frac{2}{3h H_0 (1+z)^{3/2}}$$"
   ]
  },
  {
   "cell_type": "markdown",
   "metadata": {},
   "source": [
    "### Distancia lumínica de redshift"
   ]
  },
  {
   "cell_type": "markdown",
   "metadata": {},
   "source": [
    "Calculamos la distancia lumínica partiendo de la forma general:\n",
    "\n",
    "$$ d_L(z) = \\frac{1+z}{hH_0\\Omega_k^{1/2}} \\sinh\\left(\\Omega_k^{1/2} \\int_{1/(1+z)}^1 \\frac{dx}{x^2 \\sqrt{\\Omega_\\Lambda + \\Omega_M x^{-3} + \\Omega_R x^{-4} + \\Omega_K x^{-2}}}\\right)$$\n",
    "\n",
    "Por lo tanto, para un universo plano de sólo materia (usamos que $\\frac{\\sinh{ax}}{x} = a$ cuando $x \\to 0$):\n",
    "\n",
    "$$ d_L(z) = \\frac{1+z}{hH_0} \\int_{1/(1+z)}^1 \\frac{dx}{x^{1/2}} = 2\\frac{1+z}{hH_0} \\left(\\frac{1}{(1+z)^{1/2}}-1\\right) $$"
   ]
  },
  {
   "cell_type": "code",
   "execution_count": 180,
   "metadata": {},
   "outputs": [],
   "source": [
    "def LuminosityDistanceAtRedshift(OmegaLambda, OmegaM, OmegaR, h, z):\n",
    "    OmegaK = round(1 - OmegaLambda - OmegaM - OmegaR, 5)\n",
    "    if OmegaK == 0:\n",
    "        return (1+z) / (h*Hzero) * numerical_integral(1/(x^2*sqrt(OmegaLambda + OmegaM/x^3+OmegaR/x^4)), 1/(1+z), 1)[0]\n",
    "    else:\n",
    "        return (1+z) / (h*Hzero*sqrt(OmegaK)) * sinh(sqrt(OmegaK)*numerical_integral(1/(x^2*sqrt(OmegaLambda + OmegaM/x^3+OmegaR/x^4)), 1/(1+z), 1)[0])"
   ]
  },
  {
   "cell_type": "code",
   "execution_count": 181,
   "metadata": {},
   "outputs": [
    {
     "data": {
      "text/html": [
       "<html><script type=\"math/tex; mode=display\">\\newcommand{\\Bold}[1]{\\mathbf{#1}}101105.780355022 \\, \\left(\\mathit{mega} \\mathit{parsec}\\right)</script></html>"
      ],
      "text/plain": [
       "101105.780355022*(mega*parsec)"
      ]
     },
     "metadata": {},
     "output_type": "display_data"
    }
   ],
   "source": [
    "# Distancia luminosidad\n",
    "dl =(LuminosityDistanceAtRedshift(0.69, 0.31, 0, 0.678, 9.6)*c).convert(mpc)\n",
    "show(dl)"
   ]
  },
  {
   "cell_type": "markdown",
   "metadata": {},
   "source": [
    "### Diferencia entre magnitudes relativas m - M:"
   ]
  },
  {
   "cell_type": "markdown",
   "metadata": {},
   "source": [
    "$$d_L = 10^{1+ \\frac{1}{5}(m-M)}$$\n",
    "\n",
    "Despejando: $m - M = 5 \\log_{10}\\Big(\\frac{d_L}{10 Mpc}\\Big)$"
   ]
  },
  {
   "cell_type": "code",
   "execution_count": 182,
   "metadata": {},
   "outputs": [
    {
     "data": {
      "text/html": [
       "<html><script type=\"math/tex; mode=display\">\\newcommand{\\Bold}[1]{\\mathbf{#1}}\\frac{46.10668742504706}{\\log\\left(10\\right)}</script></html>"
      ],
      "text/plain": [
       "46.10668742504706/log(10)"
      ]
     },
     "execution_count": 182,
     "metadata": {},
     "output_type": "execute_result"
    }
   ],
   "source": [
    "mM = 5*log(dl/(10*mpc),10)\n",
    "mM.simplify()"
   ]
  },
  {
   "cell_type": "markdown",
   "metadata": {},
   "source": [
    "### Distancia diametro-angular de redshift"
   ]
  },
  {
   "cell_type": "markdown",
   "metadata": {},
   "source": [
    "Calculamos la distancia diametro-angular $d_A(z)$ usando que $d_A(z) = d_L(z)/(1+z)^2$. Por lo que:\n",
    "\n",
    "$$ d_A(z) = 2 \\frac{1}{hH_0 (1+z)}\\left(\\frac{1}{\\sqrt{1+z}} - 1\\right) $$\n",
    "\n",
    "Siendo $K = 0$."
   ]
  },
  {
   "cell_type": "code",
   "execution_count": null,
   "metadata": {},
   "outputs": [],
   "source": [
    "def DiameterAngularDistanceAtRedshift(OmegaLambda, OmegaM, OmegaR, h, z):\n",
    "    return LuminosityDistanceAtRedshift(OmegaLambda, OmegaM, OmegaR, h, z) / (1+z)^2"
   ]
  },
  {
   "cell_type": "code",
   "execution_count": null,
   "metadata": {},
   "outputs": [],
   "source": [
    "(DiameterAngularDistanceAtRedshift(0.69, 0.31, 0, 0.68, 3)*c).convert(mpc)"
   ]
  },
  {
   "cell_type": "markdown",
   "metadata": {},
   "source": [
    "Para un universo plano con sólo materia con $h=0.68$:"
   ]
  },
  {
   "cell_type": "code",
   "execution_count": null,
   "metadata": {},
   "outputs": [],
   "source": [
    "OmegaLambda = 0\n",
    "OmegaM = 1\n",
    "OmegaR = 0\n",
    "h = 0.68"
   ]
  },
  {
   "cell_type": "markdown",
   "metadata": {},
   "source": [
    "Calculemos la edad del universo hoy:"
   ]
  },
  {
   "cell_type": "code",
   "execution_count": null,
   "metadata": {},
   "outputs": [],
   "source": [
    "AgeUniverse(OmegaLambda, OmegaM, OmegaR, h)"
   ]
  },
  {
   "cell_type": "markdown",
   "metadata": {},
   "source": [
    "Calculemos la edad del universo en $z=100$:"
   ]
  },
  {
   "cell_type": "code",
   "execution_count": 51,
   "metadata": {},
   "outputs": [
    {
     "data": {
      "text/html": [
       "<html><script type=\"math/tex; mode=display\">\\newcommand{\\Bold}[1]{\\mathbf{#1}}2.02006897167665 \\times 10^{9} \\, \\mathit{year}</script></html>"
      ],
      "text/plain": [
       "2.02006897167665e9*year"
      ]
     },
     "execution_count": 51,
     "metadata": {},
     "output_type": "execute_result"
    }
   ],
   "source": [
    "AgeUniverseAtRedshift(0, 0.31, 0.69, 0.68, 1)"
   ]
  },
  {
   "cell_type": "markdown",
   "metadata": {},
   "source": [
    "Calculemos la distancia angular en $z=100$."
   ]
  },
  {
   "cell_type": "code",
   "execution_count": null,
   "metadata": {},
   "outputs": [],
   "source": [
    "(DiameterAngularDistanceAtRedshift(OmegaLambda, OmegaM, OmegaR, h, z=100)*c).convert(mpc)"
   ]
  },
  {
   "cell_type": "markdown",
   "metadata": {},
   "source": [
    "### Distancia diametro-angular máxima"
   ]
  },
  {
   "cell_type": "markdown",
   "metadata": {},
   "source": [
    "Basta derivar e igualar a cero para ver que la distancia diámetro-angular llega a un máximo en $z=1$."
   ]
  },
  {
   "cell_type": "code",
   "execution_count": null,
   "metadata": {},
   "outputs": [],
   "source": [
    "def f(z):\n",
    "    return DiameterAngularDistanceAtRedshift(OmegaLambda, OmegaM, OmegaR, h, z)/year"
   ]
  },
  {
   "cell_type": "code",
   "execution_count": null,
   "metadata": {
    "scrolled": true
   },
   "outputs": [],
   "source": [
    "plot(f, (x, 0, 5))"
   ]
  },
  {
   "cell_type": "markdown",
   "metadata": {},
   "source": [
    "### Distancia propia al horizonte visible"
   ]
  },
  {
   "cell_type": "code",
   "execution_count": null,
   "metadata": {},
   "outputs": [],
   "source": [
    "def ProperDistanceAtRedshift(OmegaLambda, OmegaM, OmegaR, h):\n",
    "    OmegaK = 1 - OmegaLambda - OmegaM - OmegaR\n",
    "    return numerical_integral(1/(sqrt(OmegaLambda + OmegaM*(1+x)^3 + OmegaR*(1+x)^4 + OmegaK*(1+x)^2)), 0, +oo)[0] / (h*Hzero)"
   ]
  },
  {
   "cell_type": "code",
   "execution_count": null,
   "metadata": {},
   "outputs": [],
   "source": [
    "(ProperDistanceAtRedshift(0.69, 0.31, 0, 0.68)*c).convert(units.length.light_year)"
   ]
  },
  {
   "cell_type": "markdown",
   "metadata": {},
   "source": [
    "### Calcular la temperatura de los fotones 3 minutos tras el Big Bang"
   ]
  },
  {
   "cell_type": "markdown",
   "metadata": {},
   "source": [
    "En este momento comienza la nucleosíntesis, donde $\\rho_M(T) = \\rho_R(T)$, es decir, hay equilibrio entre materia y radiación."
   ]
  },
  {
   "cell_type": "markdown",
   "metadata": {},
   "source": [
    "$$ T_{\\gamma(t)} \\propto \\frac{1}{\\alpha(t)} $$"
   ]
  },
  {
   "cell_type": "markdown",
   "metadata": {},
   "source": [
    "$\\rho_R = \\rho_{R,0} \\left(\\frac{a_0}{a}\\right)^4$\n",
    "\n",
    "$\\rho_M = \\rho_{M,0} \\left(\\frac{a_0}{a}\\right)^3 $\n",
    "\n",
    "$\\Omega_R = \\frac{\\rho_{R,0}}{\\rho_{C,0}} $"
   ]
  },
  {
   "cell_type": "code",
   "execution_count": null,
   "metadata": {},
   "outputs": [],
   "source": [
    "h = var('h')"
   ]
  },
  {
   "cell_type": "code",
   "execution_count": null,
   "metadata": {},
   "outputs": [],
   "source": [
    "T0 = 2.72 * units.temperature.kelvin\n",
    "T0"
   ]
  },
  {
   "cell_type": "code",
   "execution_count": null,
   "metadata": {},
   "outputs": [],
   "source": [
    "OmegaR = 4.15*10^(-5) * h^(-2)\n",
    "OmegaR"
   ]
  },
  {
   "cell_type": "code",
   "execution_count": null,
   "metadata": {},
   "outputs": [],
   "source": [
    "OmegaM = 0.15 * h^(-2)\n",
    "OmegaM"
   ]
  },
  {
   "cell_type": "code",
   "execution_count": null,
   "metadata": {},
   "outputs": [],
   "source": [
    "kelvin_to_ev = eV / (11606*kelvin)"
   ]
  },
  {
   "cell_type": "code",
   "execution_count": null,
   "metadata": {},
   "outputs": [],
   "source": [
    "T = (OmegaM/OmegaR)*T0\n",
    "kelvin_to_ev*T"
   ]
  },
  {
   "cell_type": "markdown",
   "metadata": {},
   "source": [
    "### Temperatura de los neutrinos en determinado redshift"
   ]
  },
  {
   "cell_type": "markdown",
   "metadata": {},
   "source": [
    "La temperatura del CMB es $T_{\\gamma}$:\n",
    "$$1+z = \\frac{T_{\\gamma}}{T_{\\gamma,0}}$$\n",
    "$T_{\\gamma,0} = 2.725$ K\n",
    "\n",
    "La temperatura de los neutrinos es:\n",
    "\n",
    "$$T_{\\nu} = \\Big(\\frac{4}{11}\\Big)^{1/3} T_{\\gamma} $$"
   ]
  },
  {
   "cell_type": "markdown",
   "metadata": {},
   "source": [
    "### Calcula T cuando $\\rho_M(T) = \\rho_\\Lambda(T)$ :"
   ]
  },
  {
   "cell_type": "markdown",
   "metadata": {},
   "source": [
    "$h = 0.69$\n",
    "\n",
    "$\\rho_\\Lambda = \\rho_{\\Lambda,0} \\left(\\frac{a_0}{a}\\right)^0 = \\rho_{\\Lambda,0} = 5.83×10^{-30} g/cm^3$\n",
    "\n",
    "$\\rho_M = \\rho_{M,0} \\left(\\frac{a_0}{a}\\right)^3 $\n",
    "\n",
    "$\\Omega_\\Lambda = \\frac{\\rho_{\\Lambda,0}}{\\rho_{C,0}} = 0.685$\n"
   ]
  },
  {
   "cell_type": "code",
   "execution_count": null,
   "metadata": {},
   "outputs": [],
   "source": [
    "OmegaL = 0.685\n",
    "h = 0.674\n",
    "OmegaM = 0.15*h^(-2)\n",
    "T = (OmegaL/OmegaM)*T0\n",
    "T"
   ]
  },
  {
   "cell_type": "code",
   "execution_count": null,
   "metadata": {},
   "outputs": [],
   "source": [
    "kelvin_to_ev*T"
   ]
  },
  {
   "cell_type": "code",
   "execution_count": null,
   "metadata": {},
   "outputs": [],
   "source": [
    "## Según los apuntes, 1+z = T/T_,0\n",
    "## En este caso z = 0.3 y T0 = 2.72 K\n",
    "\n",
    "T = T0*(1+0.3)\n",
    "T"
   ]
  },
  {
   "cell_type": "markdown",
   "metadata": {},
   "source": [
    "Si tenemos igualdad materia-radiación: $1 + z = \\frac{\\rho_R}{\\rho_M}$\n",
    "\n",
    "Si tenemos igualdad materia-cte cosmológica: \n"
   ]
  },
  {
   "cell_type": "markdown",
   "metadata": {},
   "source": [
    "### Calcula el $t$ que necesitó el universo para que su temperatura pasara de $10^{12}$K a $10^{11}K$ ¿Y a $10^{10} K$?"
   ]
  },
  {
   "cell_type": "code",
   "execution_count": null,
   "metadata": {},
   "outputs": [],
   "source": [
    "T0 = kelvin_to_ev*(10^(12)*kelvin); round(T0.expand()/eV, 3)"
   ]
  },
  {
   "cell_type": "markdown",
   "metadata": {},
   "source": [
    "Caso particular:\n",
    "Según la ecuación fundamental de cosmología\n",
    "\n",
    "$$ \\dot{a}^2 + k = \\frac{8\\pi G}{3} \\rho a^2 $$\n",
    "\n",
    "* Si domina la materia: $a(t) \\propto t^{2/3}$ ;  $ T \\propto \\frac{1}{\\alpha(t)} $\n",
    "\n",
    "* Si domina la radiación: $a(t) \\propto t^{1/2}$.\n",
    "* Si domina la energía oscura: $a(t) \\propto e^{H_0 t}$.\n",
    "\n",
    "\n",
    "Longitud de Planck: $\\ell_{Pl} \\equiv (G\\hbar/c^3)^{1/2} = 1.62\\times10^{-33} cm$. En unidades geometrizadas, $\\hbar = \\ell^2_{PL}$.\n",
    "\n",
    "De $a(t) \\propto t^{2/3}$. Derivando $t^{2/3}$ tenemos $\\frac{2}{3}t^{-1/3}$. Por lo tanto: $\\dot{a} \\propto t^{-1/3}$.\n",
    "\n",
    "$\\frac{4}{9}t^{-2/3} = \\frac{8\\pi}{3} \\rho(t)$.\n",
    "\n",
    "Despejando $t$:\n",
    "\n",
    "$t = (6\\pi\\rho(t))^{-3/2}$"
   ]
  },
  {
   "cell_type": "markdown",
   "metadata": {},
   "source": [
    "##### MÉTODO GENERAL: Tabla $g_{eff}$ número efectivo de especies\n",
    "\n",
    "$t T^2 = \\frac{2.43}{\\sqrt{g_{eff}}}  MeV^2s$\n",
    "\n",
    "Sustituyendo de la tabla, tenemos $g_{eff} = 43/4$."
   ]
  },
  {
   "cell_type": "code",
   "execution_count": null,
   "metadata": {},
   "outputs": [],
   "source": [
    "geff = 43/4\n",
    "Ti = 40 #MeV\n",
    "Tf = 8\n",
    "ti = 2.43/(Ti^2*(geff)^(1/2))\n",
    "tf = 2.43/(Tf^2*(geff)^(1/2))\n",
    "tiempo = tf - ti\n",
    "float(tiempo)"
   ]
  },
  {
   "cell_type": "code",
   "execution_count": null,
   "metadata": {},
   "outputs": [],
   "source": [
    "# 1 GeV = 10^3  MeV\n",
    "# 1 eV  = 10^-6 Mev\n",
    "geff = 345/4\n",
    "Ti = 50000 #MeV \n",
    "Tf = 30000\n",
    "ti = 2.43/(Ti^2*(geff)^(1/2))\n",
    "tf = 2.43/(Tf^2*(geff)^(1/2))\n",
    "tiempo = tf - ti\n",
    "float(tiempo),tf,ti"
   ]
  },
  {
   "cell_type": "code",
   "execution_count": null,
   "metadata": {},
   "outputs": [],
   "source": [
    "# 1 GeV = 10^3  MeV\n",
    "# 1 eV  = 10^-6 Mev\n",
    "# 1 KeV = 10^-3 MeV\n",
    "geff = 13.44/4\n",
    "T =  10^(-3) #MeV \n",
    "tiempo = 2.43/(T^2*(geff)^(1/2))\n",
    "float(tiempo)/(60)"
   ]
  },
  {
   "cell_type": "markdown",
   "metadata": {},
   "source": [
    "## Calcula el incremento de temperatura cuando los piones se aniquilaron por debajo de 140 MeV\n",
    "\n",
    "$$g_{eff} a^3 T^3 = cte$$\n",
    "$g_{eff,antes} a^3 T^3_{antes} = g_{eff,desp} a^3 T^3_{desp} \\Rightarrow T_{desp} = (\\frac{g_{eff,antes} }{g_{eff,desp} })^{1/3} T_{antes} $\n",
    "\n",
    "Con la tabla hallamos que $T_{desp} = 149$ MeV"
   ]
  },
  {
   "cell_type": "markdown",
   "metadata": {},
   "source": [
    "## ¿A qué temperatura la densidad de los monopolos igualó a la densidad de la radiación?"
   ]
  },
  {
   "cell_type": "code",
   "execution_count": null,
   "metadata": {},
   "outputs": [],
   "source": [
    "Tmon = 3*10^(28)*kelvin #kelvin\n",
    "kelvin_to_ev*T\n",
    "float(kelvin_to_ev*Tmon/eV) #eV\n",
    "# Era de la gran unificación"
   ]
  },
  {
   "cell_type": "code",
   "execution_count": null,
   "metadata": {},
   "outputs": [],
   "source": [
    "densidad_monopolo = 10^(-10)\n",
    "# K = 0"
   ]
  },
  {
   "cell_type": "code",
   "execution_count": null,
   "metadata": {},
   "outputs": [],
   "source": [
    "Tcero = 3*kelvin #Kelvin\n",
    "float(kelvin_to_ev*Tcero/eV) #eV"
   ]
  },
  {
   "cell_type": "markdown",
   "metadata": {},
   "source": [
    "Imponemos que se da la igualdad entre densidades:\n",
    "$\\frac{\\rho_{mon}}{\\rho_{rad}} = \\frac{\\Omega_{mon}(\\frac{a_0}{a})^3}{\\Omega_{rad}(\\frac{a_0}{a})^4} = 1$\n",
    "Cuando el universo está dominado por la radiación, $\\Omega_{rad} = 1$, entonces:\n",
    "$ \\Omega_{mon}{(\\frac{a}{a_0})} = \\Omega_{mon}{(\\frac{T_{mon}}{T})} = 1$\n",
    "$T = \\Omega_{mon}T_{mon} = 3*10^{18}$ K\n",
    "\n",
    "¿Es compatible con las observaciones actuales?\n",
    "$$\\frac{T}{T_0} = \\frac{\\Omega_{mon}}{\\Omega_{rad}} = 10^{18} K$$\n",
    "Despejando, ahora $\\Omega_{rad} = 10^{-5}$.\n"
   ]
  },
  {
   "cell_type": "code",
   "execution_count": null,
   "metadata": {},
   "outputs": [],
   "source": [
    "float(densidad_monopolo*Tmon/kelvin)*kelvin"
   ]
  },
  {
   "cell_type": "markdown",
   "metadata": {},
   "source": [
    "### Demostrar que $\\frac{d}{dt}(1-\\Omega(t)) = -2 \\frac{\\ddot{a}}{\\dot{a}}(1-\\Omega(t))$"
   ]
  },
  {
   "cell_type": "markdown",
   "metadata": {},
   "source": [
    "$$\\dot{a} + K = \\frac{8\\pi G}{3}a^2 \\rho$$\n",
    "\n",
    "Donde $\\rho = \\frac{3}{8 \\pi G} H^2\\Omega(t)$:\n",
    "\n",
    "$$\\dot{a} + K = a^2 H^2 \\Omega(t)$$\n",
    "\n",
    "Despejamos $\\Omega(t)$:\n",
    "\n",
    "$$\\Omega(t) = \\frac{\\dot{a}^2+K}{a^2 H^2} = \\frac{\\dot{a}^2 + K}{a^2 \\frac{\\dot{a}^2}{a^2}} = 1 + \\frac{K}{\\dot{a}^2}$$\n",
    "\n",
    "Derivamos:\n",
    "\n",
    "$$\\frac{d}{dt}(1-\\Omega(t)) = 2 \\frac{K}{\\dot{a}^3} \\ddot{a} = -2 \\frac{\\ddot{a}}{\\dot{a}}(1-\\Omega(t))$$"
   ]
  },
  {
   "cell_type": "markdown",
   "metadata": {},
   "source": [
    "### Calcular la distancia propia a lo largo de la línea radial que une el centro r = 0 con el radio r = R:"
   ]
  },
  {
   "cell_type": "markdown",
   "metadata": {},
   "source": [
    "$$D(r=r_0,r=r_1) = \\int_{r_0}^{r_1} \\sqrt{g} = \\int_{r_0}^{r_1} dr \\sqrt{\\frac{g}{dr^2}}$$\n",
    "donde van a ser cero $\\frac{dt^2}{dr^2}$, $\\frac{d\\theta^2}{dr^2}$ y $\\frac{d\\varphi^2}{dr^2}$.\n",
    "\n",
    "En este caso la métrica es $ds^2 = -(1-Ar^2)^2 dt^2 + -(1-Ar^2)^2 dr^2 + r^2(d\\theta^2 + sin^2 d\\varphi^2)$:\n",
    "\n",
    "$$D(r=0,r=R) = \\int_{0}^{R} dr(1-Ar^2) = R - A \\frac{R^3}{3}$$"
   ]
  },
  {
   "cell_type": "markdown",
   "metadata": {},
   "source": [
    "## Hallar Longitudes, Áreas y Volúmenes"
   ]
  },
  {
   "cell_type": "markdown",
   "metadata": {},
   "source": [
    "$S_{AB} = \\int_A^B d\\sigma \\sqrt{g_{00}(\\frac{dx^0}{d\\sigma})^2+ ...  + g_{33}(\\frac{dx^3}{d\\sigma})^2}$ \n",
    "\n",
    "Métricas diagonales:\n",
    "3-Volumen: $dV_{AB} = \\sqrt{g_{11}}dx^1+ ...  + \\sqrt{g_{33}}dx^3$\n",
    "\n",
    "4-Volumen: $dV_{AB} = \\sqrt{-g_{00}}dx^0 + \\sqrt{g_{11}}dx^1+ ...  + \\sqrt{g_{33}}dx^3$\n",
    "\n",
    "General: \n",
    "$dA = \\sqrt{det(g_{ii})}$ #cogiendo menor inf derecha de orden 2\n",
    "\n",
    "3-vol: $dV = \\sqrt{det(g_{ii})}dx^1 dx^2 dx^3$ #cogiendo menor inf derecha de orden 3\n",
    "\n",
    "4-vol: $dV = \\sqrt{-det(g_{ii})}dx^0 dx^1 dx^2 dx^3$\n",
    "\n",
    "$V = (4*\\pi/3)*(cz_{max}/H_0)3$"
   ]
  },
  {
   "cell_type": "markdown",
   "metadata": {},
   "source": [
    "##### Calcular el área de una 2-esfera de radio r = R:"
   ]
  },
  {
   "cell_type": "code",
   "execution_count": null,
   "metadata": {},
   "outputs": [],
   "source": [
    "R = var('R')\n",
    "theta = var('theta')\n",
    "phi = var('phi')\n",
    "g = matrix([[R^2,0],[0,R^2*sin(theta)^2]])\n",
    "show(g)\n",
    "detg = g.determinant()\n",
    "\n",
    "#numerical_integral(1/(sqrt(OmegaLambda + OmegaM*(1+x)^3 + OmegaR*(1+x)^4 + OmegaK*(1+x)^2)), 0, +oo)[0] / (h*Hzero)"
   ]
  },
  {
   "cell_type": "code",
   "execution_count": null,
   "metadata": {},
   "outputs": [],
   "source": [
    "# Área\n",
    "integral(integral((detg)^(1/2),(phi,0,2*pi)).canonicalize_radical(),(theta,0,pi))"
   ]
  },
  {
   "cell_type": "code",
   "execution_count": null,
   "metadata": {},
   "outputs": [],
   "source": [
    "A = var('A')\n",
    "r = var('r')\n",
    "g = matrix([[(1-A*r^2)^2, 0, 0], [0, r^2,0], [0,0,r^2*sin(theta)^2]])\n",
    "show(g)\n",
    "sqrtdetg = sqrt(g.determinant()).canonicalize_radical()\n",
    "sqrtdetg"
   ]
  },
  {
   "cell_type": "code",
   "execution_count": null,
   "metadata": {},
   "outputs": [],
   "source": [
    "# volumen\n",
    "integral(integral(integral(sqrtdetg, (r, 0, R)), (phi,0,2*pi)), (theta, 0, pi)).full_simplify()"
   ]
  },
  {
   "cell_type": "markdown",
   "metadata": {},
   "source": [
    "## Vector normal horizonte de sucesos"
   ]
  },
  {
   "cell_type": "markdown",
   "metadata": {},
   "source": [
    "El horizonte de sucesos está a distancia r = 2MG.\n",
    "$\\overrightarrow{r} =2M \\overrightarrow{u_r}$"
   ]
  },
  {
   "cell_type": "markdown",
   "metadata": {},
   "source": [
    "## Derivada covariante de vectores y formas\n",
    "\n",
    "Sea la métrica (espacio-tiempo de Rindler)\n",
    "\n",
    "$ds^2 = -d\\tau^2 = -X^2dT^2 + dX^2$\n",
    "\n",
    "$\\rho = \\{T,X\\}$.\n",
    "\n",
    "Derivada covariante:\n",
    "\n",
    "1-forma: $\\bigtriangledown_\\nu W_\\rho =  W_{\\rho ;\\nu}  $\n",
    "\n",
    "Vector: $\\bigtriangledown_\\nu U^\\rho = (\\bigtriangledown_\\nu U)^\\rho =  U^\\rho _{\\space\\space\\space\\space   ;\\nu} $\n",
    "\n",
    "La siguiente fórmula nos da la derivada covariante:\n",
    "\n",
    "Vector: $\\nabla_\\alpha v^\\beta = \\frac{\\partial v^\\beta}{\\partial x^\\alpha} + \\Gamma_{\\alpha\\gamma}^\\beta v^\\gamma$\n",
    "\n",
    "1-forma: $\\nabla_\\alpha v_\\beta = \\frac{\\partial v^\\beta}{\\partial x^\\alpha} - \\Gamma_{\\alpha\\beta}^\\gamma v_\\gamma$\n",
    "\n",
    "$\\nabla_\\alpha v^\\beta_\\gamma = \\frac{\\partial v^\\beta_\\gamma}{\\partial x^\\alpha} + \\Gamma_{\\alpha\\delta}^\\beta v^\\delta_\\gamma - \\Gamma_{\\alpha\\beta}^\\delta v^\\beta_\\delta$"
   ]
  },
  {
   "cell_type": "code",
   "execution_count": null,
   "metadata": {},
   "outputs": [],
   "source": [
    "%display latex"
   ]
  },
  {
   "cell_type": "code",
   "execution_count": null,
   "metadata": {},
   "outputs": [],
   "source": [
    "d=2 # dimensión\n",
    "M = Manifold(d, 'M')"
   ]
  },
  {
   "cell_type": "code",
   "execution_count": null,
   "metadata": {},
   "outputs": [],
   "source": [
    "X.<t,x> = M.chart(r\"t x\")\n",
    "X"
   ]
  },
  {
   "cell_type": "code",
   "execution_count": null,
   "metadata": {},
   "outputs": [],
   "source": [
    "M.default_frame()"
   ]
  },
  {
   "cell_type": "code",
   "execution_count": null,
   "metadata": {
    "scrolled": true
   },
   "outputs": [],
   "source": [
    "g = M.metric('g')\n",
    "g[0,0] = -x^2\n",
    "g[1,1] = 1\n",
    "g.display()"
   ]
  },
  {
   "cell_type": "code",
   "execution_count": null,
   "metadata": {},
   "outputs": [],
   "source": [
    "xi = X.frame()[0] ; xi"
   ]
  },
  {
   "cell_type": "code",
   "execution_count": null,
   "metadata": {},
   "outputs": [],
   "source": [
    "X.frame()"
   ]
  },
  {
   "cell_type": "code",
   "execution_count": null,
   "metadata": {},
   "outputs": [],
   "source": [
    "g.christoffel_symbols_display()"
   ]
  },
  {
   "cell_type": "code",
   "execution_count": null,
   "metadata": {},
   "outputs": [],
   "source": [
    "nab = g.connection() ; print(nab)"
   ]
  },
  {
   "cell_type": "code",
   "execution_count": null,
   "metadata": {},
   "outputs": [],
   "source": [
    "ut = function('ut', latex_name='u^t')\n",
    "ux = function('ux', latex_name='u^x')\n",
    "u = X.frame()[0]*ut(t,x) + X.frame()[1]*ux(t,x);\n",
    "u.display()"
   ]
  },
  {
   "cell_type": "markdown",
   "metadata": {},
   "source": [
    "Aplicando el $\\nabla$ directamente sobre $u$ nos da un tensor (1,1).\n",
    "\n",
    "$\\nabla_x u^t$ es el coeficiente de  $\\partial/\\partial t \\otimes dx$"
   ]
  },
  {
   "cell_type": "code",
   "execution_count": null,
   "metadata": {},
   "outputs": [],
   "source": [
    "nab(u).display() "
   ]
  },
  {
   "cell_type": "markdown",
   "metadata": {},
   "source": [
    "Si queremos saber $\\nabla_X$:"
   ]
  },
  {
   "cell_type": "code",
   "execution_count": null,
   "metadata": {},
   "outputs": [],
   "source": [
    "nab(u)(X.frame()[0]).display()"
   ]
  },
  {
   "cell_type": "markdown",
   "metadata": {},
   "source": [
    "Para $\\nabla_T$:"
   ]
  },
  {
   "cell_type": "code",
   "execution_count": null,
   "metadata": {},
   "outputs": [],
   "source": [
    "nab(u)(X.frame()[1]).display()"
   ]
  },
  {
   "cell_type": "code",
   "execution_count": null,
   "metadata": {},
   "outputs": [],
   "source": [
    "vt = function('wt', latex_name='v^t')\n",
    "vx = function('wx', latex_name='v^x')\n",
    "v = X.coframe()[0]*vt(t,x) + X.coframe()[1]*vx(t,x);\n",
    "v.display()"
   ]
  },
  {
   "cell_type": "code",
   "execution_count": null,
   "metadata": {},
   "outputs": [],
   "source": [
    "nab(v).display()"
   ]
  },
  {
   "cell_type": "code",
   "execution_count": null,
   "metadata": {},
   "outputs": [],
   "source": [
    "((nab(v)['_ab'])*(X.frame()[0]['^a'])).display()"
   ]
  },
  {
   "cell_type": "code",
   "execution_count": null,
   "metadata": {},
   "outputs": [],
   "source": [
    "def derivadaCovarianteVector(nabla, v, idx):\n",
    "    return nabla(v)(X.frame()[idx]).display()"
   ]
  },
  {
   "cell_type": "code",
   "execution_count": null,
   "metadata": {},
   "outputs": [],
   "source": [
    "def derivadaCovarianteUnaForma(nabla, v, idx):\n",
    "    return ((nab(v)['_ab'])*(X.frame()[idx]['^a'])).display()"
   ]
  },
  {
   "cell_type": "code",
   "execution_count": null,
   "metadata": {},
   "outputs": [],
   "source": [
    "X.frame()"
   ]
  },
  {
   "cell_type": "code",
   "execution_count": null,
   "metadata": {},
   "outputs": [],
   "source": [
    "derivadaCovarianteVector(nab, u, 1)"
   ]
  },
  {
   "cell_type": "code",
   "execution_count": null,
   "metadata": {
    "scrolled": true
   },
   "outputs": [],
   "source": [
    "derivadaCovarianteUnaForma(nab, v, 1)"
   ]
  },
  {
   "cell_type": "code",
   "execution_count": null,
   "metadata": {},
   "outputs": [],
   "source": []
  },
  {
   "cell_type": "code",
   "execution_count": null,
   "metadata": {},
   "outputs": [],
   "source": []
  }
 ],
 "metadata": {
  "kernelspec": {
   "display_name": "SageMath 9.1",
   "language": "sage",
   "name": "sagemath"
  },
  "language_info": {
   "codemirror_mode": {
    "name": "ipython",
    "version": 3
   },
   "file_extension": ".py",
   "mimetype": "text/x-python",
   "name": "python",
   "nbconvert_exporter": "python",
   "pygments_lexer": "ipython3",
   "version": "3.7.3"
  }
 },
 "nbformat": 4,
 "nbformat_minor": 5
}
