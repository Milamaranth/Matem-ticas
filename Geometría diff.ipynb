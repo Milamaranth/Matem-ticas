{
 "cells": [
  {
   "cell_type": "code",
   "execution_count": 1,
   "metadata": {},
   "outputs": [],
   "source": [
    "%display latex"
   ]
  },
  {
   "cell_type": "code",
   "execution_count": 2,
   "metadata": {},
   "outputs": [
    {
     "name": "stdout",
     "output_type": "stream",
     "text": [
      "4-dimensional differentiable manifold M\n"
     ]
    }
   ],
   "source": [
    "# Ejemplo\n",
    "d=4 #space dimensions\n",
    "M = Manifold(d, 'M')\n",
    "print(M)"
   ]
  },
  {
   "cell_type": "code",
   "execution_count": 3,
   "metadata": {},
   "outputs": [
    {
     "data": {
      "text/html": [
       "<html><script type=\"math/tex; mode=display\">\\newcommand{\\Bold}[1]{\\mathbf{#1}}\\left(M,(x, y, z, q)\\right)</script></html>"
      ],
      "text/plain": [
       "Chart (M, (x, y, z, q))"
      ]
     },
     "execution_count": 3,
     "metadata": {},
     "output_type": "execute_result"
    }
   ],
   "source": [
    "X.<x,y,z,q> = M.chart(r\"x y z q:(0,+oo)\")\n",
    "X"
   ]
  },
  {
   "cell_type": "code",
   "execution_count": 4,
   "metadata": {},
   "outputs": [
    {
     "data": {
      "text/html": [
       "<html><script type=\"math/tex; mode=display\">\\newcommand{\\Bold}[1]{\\mathbf{#1}}\\left(x, y, z, q\\right)</script></html>"
      ],
      "text/plain": [
       "(x, y, z, q)"
      ]
     },
     "execution_count": 4,
     "metadata": {},
     "output_type": "execute_result"
    }
   ],
   "source": [
    "X[:]"
   ]
  },
  {
   "cell_type": "code",
   "execution_count": 6,
   "metadata": {},
   "outputs": [
    {
     "data": {
      "text/html": [
       "<html><script type=\"math/tex; mode=display\">\\newcommand{\\Bold}[1]{\\mathbf{#1}}\\left(x, y, z, q\\right)</script></html>"
      ],
      "text/plain": [
       "(x, y, z, q)"
      ]
     },
     "execution_count": 6,
     "metadata": {},
     "output_type": "execute_result"
    }
   ],
   "source": [
    "X[0],X[1],X[2],X[3]"
   ]
  },
  {
   "cell_type": "code",
   "execution_count": 12,
   "metadata": {},
   "outputs": [
    {
     "data": {
      "text/html": [
       "<html><script type=\"math/tex; mode=display\">\\newcommand{\\Bold}[1]{\\mathbf{#1}}g = -v y \\mathrm{d} x\\otimes \\mathrm{d} x +\\mathrm{d} x\\otimes \\mathrm{d} y +\\mathrm{d} y\\otimes \\mathrm{d} x + y^{2} \\mathrm{d} z\\otimes \\mathrm{d} z + y^{2} \\mathrm{d} q\\otimes \\mathrm{d} q</script></html>"
      ],
      "text/plain": [
       "g = -v*y dx*dx + dx*dy + dy*dx + y^2 dz*dz + y^2 dq*dq"
      ]
     },
     "execution_count": 12,
     "metadata": {},
     "output_type": "execute_result"
    }
   ],
   "source": [
    "# ds^2 = dx^2/(x^2+1) + x^2 dy^2\n",
    "v = var('v')\n",
    "g = M.metric('g')\n",
    "g[0,0] = -v*y\n",
    "g[0,1] = 1\n",
    "g[3,3] = y^2\n",
    "g[2,2] = y^2\n",
    "g.display()"
   ]
  },
  {
   "cell_type": "code",
   "execution_count": 13,
   "metadata": {},
   "outputs": [
    {
     "data": {
      "text/html": [
       "<html><script type=\"math/tex; mode=display\">\\newcommand{\\Bold}[1]{\\mathbf{#1}}\\begin{array}{lcl} \\Gamma_{ \\phantom{\\, x} \\, x \\, x }^{ \\, x \\phantom{\\, x} \\phantom{\\, x} } & = & \\frac{1}{2} \\, v \\\\ \\Gamma_{ \\phantom{\\, x} \\, z \\, z }^{ \\, x \\phantom{\\, z} \\phantom{\\, z} } & = & -y \\\\ \\Gamma_{ \\phantom{\\, x} \\, q \\, q }^{ \\, x \\phantom{\\, q} \\phantom{\\, q} } & = & -y \\\\ \\Gamma_{ \\phantom{\\, y} \\, x \\, x }^{ \\, y \\phantom{\\, x} \\phantom{\\, x} } & = & \\frac{1}{2} \\, v^{2} y \\\\ \\Gamma_{ \\phantom{\\, y} \\, x \\, y }^{ \\, y \\phantom{\\, x} \\phantom{\\, y} } & = & -\\frac{1}{2} \\, v \\\\ \\Gamma_{ \\phantom{\\, y} \\, z \\, z }^{ \\, y \\phantom{\\, z} \\phantom{\\, z} } & = & -v y^{2} \\\\ \\Gamma_{ \\phantom{\\, y} \\, q \\, q }^{ \\, y \\phantom{\\, q} \\phantom{\\, q} } & = & -v y^{2} \\\\ \\Gamma_{ \\phantom{\\, z} \\, y \\, z }^{ \\, z \\phantom{\\, y} \\phantom{\\, z} } & = & \\frac{1}{y} \\\\ \\Gamma_{ \\phantom{\\, q} \\, y \\, q }^{ \\, q \\phantom{\\, y} \\phantom{\\, q} } & = & \\frac{1}{y} \\end{array}</script></html>"
      ],
      "text/plain": [
       "Gam^x_xx = 1/2*v \n",
       "Gam^x_zz = -y \n",
       "Gam^x_qq = -y \n",
       "Gam^y_xx = 1/2*v^2*y \n",
       "Gam^y_xy = -1/2*v \n",
       "Gam^y_zz = -v*y^2 \n",
       "Gam^y_qq = -v*y^2 \n",
       "Gam^z_yz = 1/y \n",
       "Gam^q_yq = 1/y "
      ]
     },
     "execution_count": 13,
     "metadata": {},
     "output_type": "execute_result"
    }
   ],
   "source": [
    "g.christoffel_symbols_display()"
   ]
  },
  {
   "cell_type": "code",
   "execution_count": 14,
   "metadata": {},
   "outputs": [
    {
     "data": {
      "text/html": [
       "<html><script type=\"math/tex; mode=display\">\\newcommand{\\Bold}[1]{\\mathbf{#1}}\\mathrm{True}</script></html>"
      ],
      "text/plain": [
       "True"
      ]
     },
     "execution_count": 14,
     "metadata": {},
     "output_type": "execute_result"
    }
   ],
   "source": [
    "M.default_frame() is X.frame()"
   ]
  },
  {
   "cell_type": "code",
   "execution_count": 45,
   "metadata": {},
   "outputs": [
    {
     "name": "stdout",
     "output_type": "stream",
     "text": [
      "1-form xi_form on the 4-dimensional differentiable manifold M\n"
     ]
    },
    {
     "data": {
      "text/html": [
       "<html><script type=\"math/tex; mode=display\">\\newcommand{\\Bold}[1]{\\mathbf{#1}}\\underline{\\xi} = y^{2} \\mathrm{d} q</script></html>"
      ],
      "text/plain": [
       "xi_form = y^2 dq"
      ]
     },
     "execution_count": 45,
     "metadata": {},
     "output_type": "execute_result"
    }
   ],
   "source": [
    "xi = X.frame()[3] ; xi\n",
    "xi_form = xi.down(g)\n",
    "xi_form.set_name('xi_form', r'\\underline{\\xi}')\n",
    "print(xi_form) ; xi_form.display()"
   ]
  },
  {
   "cell_type": "code",
   "execution_count": 46,
   "metadata": {},
   "outputs": [
    {
     "name": "stdout",
     "output_type": "stream",
     "text": [
      "Levi-Civita connection nabla_g associated with the Riemannian metric g on the 4-dimensional differentiable manifold M\n"
     ]
    }
   ],
   "source": [
    "nab = g.connection() ; print(nab)"
   ]
  },
  {
   "cell_type": "code",
   "execution_count": 47,
   "metadata": {},
   "outputs": [
    {
     "data": {
      "text/html": [
       "<html><script type=\"math/tex; mode=display\">\\newcommand{\\Bold}[1]{\\mathbf{#1}}\\nabla_{g} g = 0</script></html>"
      ],
      "text/plain": [
       "nabla_g(g) = 0"
      ]
     },
     "execution_count": 47,
     "metadata": {},
     "output_type": "execute_result"
    }
   ],
   "source": [
    "nab(g).display()"
   ]
  },
  {
   "cell_type": "code",
   "execution_count": 48,
   "metadata": {},
   "outputs": [
    {
     "name": "stdout",
     "output_type": "stream",
     "text": [
      "Tensor field nabla_g(xi_form) of type (0,2) on the 4-dimensional differentiable manifold M\n"
     ]
    },
    {
     "data": {
      "text/html": [
       "<html><script type=\"math/tex; mode=display\">\\newcommand{\\Bold}[1]{\\mathbf{#1}}\\nabla_{g} \\underline{\\xi} = -y \\mathrm{d} y\\otimes \\mathrm{d} q + y \\mathrm{d} q\\otimes \\mathrm{d} y</script></html>"
      ],
      "text/plain": [
       "nabla_g(xi_form) = -y dy*dq + y dq*dy"
      ]
     },
     "execution_count": 48,
     "metadata": {},
     "output_type": "execute_result"
    }
   ],
   "source": [
    "nab_xi = nab(xi_form)\n",
    "print(nab_xi) ; nab_xi.display()"
   ]
  },
  {
   "cell_type": "code",
   "execution_count": 49,
   "metadata": {},
   "outputs": [
    {
     "data": {
      "text/html": [
       "<html><script type=\"math/tex; mode=display\">\\newcommand{\\Bold}[1]{\\mathbf{#1}}0</script></html>"
      ],
      "text/plain": [
       "0"
      ]
     },
     "execution_count": 49,
     "metadata": {},
     "output_type": "execute_result"
    }
   ],
   "source": [
    "nab_xi.symmetrize().display()"
   ]
  },
  {
   "cell_type": "code",
   "execution_count": 50,
   "metadata": {},
   "outputs": [
    {
     "name": "stdout",
     "output_type": "stream",
     "text": [
      "2-form F on the 4-dimensional differentiable manifold M\n"
     ]
    },
    {
     "data": {
      "text/html": [
       "<html><script type=\"math/tex; mode=display\">\\newcommand{\\Bold}[1]{\\mathbf{#1}}F = y \\mathrm{d} y\\wedge \\mathrm{d} q</script></html>"
      ],
      "text/plain": [
       "F = y dy/\\dq"
      ]
     },
     "execution_count": 50,
     "metadata": {},
     "output_type": "execute_result"
    }
   ],
   "source": [
    "# Función de antisimetrías\n",
    "F = - nab_xi.antisymmetrize()\n",
    "F.set_name('F')\n",
    "print(F)\n",
    "F.display()"
   ]
  },
  {
   "cell_type": "code",
   "execution_count": 51,
   "metadata": {},
   "outputs": [
    {
     "data": {
      "text/html": [
       "<html><script type=\"math/tex; mode=display\">\\newcommand{\\Bold}[1]{\\mathbf{#1}}\\mathrm{True}</script></html>"
      ],
      "text/plain": [
       "True"
      ]
     },
     "execution_count": 51,
     "metadata": {},
     "output_type": "execute_result"
    }
   ],
   "source": [
    "F == - nab_xi"
   ]
  },
  {
   "cell_type": "code",
   "execution_count": null,
   "metadata": {},
   "outputs": [],
   "source": []
  },
  {
   "cell_type": "code",
   "execution_count": null,
   "metadata": {},
   "outputs": [],
   "source": []
  }
 ],
 "metadata": {
  "kernelspec": {
   "display_name": "SageMath 9.1",
   "language": "sage",
   "name": "sagemath"
  },
  "language_info": {
   "codemirror_mode": {
    "name": "ipython",
    "version": 3
   },
   "file_extension": ".py",
   "mimetype": "text/x-python",
   "name": "python",
   "nbconvert_exporter": "python",
   "pygments_lexer": "ipython3",
   "version": "3.7.3"
  }
 },
 "nbformat": 4,
 "nbformat_minor": 4
}
