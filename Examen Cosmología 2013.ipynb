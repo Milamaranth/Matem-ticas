{
 "cells": [
  {
   "cell_type": "code",
   "execution_count": 13,
   "metadata": {},
   "outputs": [],
   "source": [
    "%display latex"
   ]
  },
  {
   "cell_type": "code",
   "execution_count": 14,
   "metadata": {},
   "outputs": [
    {
     "data": {
      "text/html": [
       "<html><script type=\"math/tex; mode=display\">\\newcommand{\\Bold}[1]{\\mathbf{#1}}\\frac{1.02249488752556 \\times 10^{-10}}{\\mathit{year}}</script></html>"
      ],
      "text/plain": [
       "(1.02249488752556e-10)/year"
      ]
     },
     "execution_count": 14,
     "metadata": {},
     "output_type": "execute_result"
    }
   ],
   "source": [
    "Hzero = 1/(9.78*10^9*units.time.year); Hzero"
   ]
  },
  {
   "cell_type": "code",
   "execution_count": 15,
   "metadata": {},
   "outputs": [],
   "source": [
    "def AgeUniverse(OmegaLambda, OmegaM, OmegaR, h):\n",
    "    Omegak = 1 - OmegaLambda - OmegaM - OmegaR\n",
    "    return numerical_integral(1/(x*sqrt(OmegaLambda + OmegaM/x^3 + OmegaR/x^4 + Omegak/x^2)), 0, 1)[0]/(h*Hzero)"
   ]
  },
  {
   "cell_type": "code",
   "execution_count": 16,
   "metadata": {},
   "outputs": [
    {
     "data": {
      "text/html": [
       "<html><script type=\"math/tex; mode=display\">\\newcommand{\\Bold}[1]{\\mathbf{#1}}1.38279417337585 \\times 10^{10} \\, \\mathit{year}</script></html>"
      ],
      "text/plain": [
       "1.38279417337585e10*year"
      ]
     },
     "execution_count": 16,
     "metadata": {},
     "output_type": "execute_result"
    }
   ],
   "source": [
    "AgeUniverse(0.6825, 0.3175, 0, 0.6711)"
   ]
  },
  {
   "cell_type": "code",
   "execution_count": 17,
   "metadata": {},
   "outputs": [],
   "source": [
    "d=4 # dimensión\n",
    "M = Manifold(d, 'M')"
   ]
  },
  {
   "cell_type": "code",
   "execution_count": 18,
   "metadata": {},
   "outputs": [
    {
     "data": {
      "text/html": [
       "<html><script type=\"math/tex; mode=display\">\\newcommand{\\Bold}[1]{\\mathbf{#1}}\\left(M,(t, x, y, z)\\right)</script></html>"
      ],
      "text/plain": [
       "Chart (M, (t, x, y, z))"
      ]
     },
     "execution_count": 18,
     "metadata": {},
     "output_type": "execute_result"
    }
   ],
   "source": [
    "X.<t,x,y,z> = M.chart(r\"t x y z\")\n",
    "X"
   ]
  },
  {
   "cell_type": "code",
   "execution_count": 19,
   "metadata": {},
   "outputs": [],
   "source": [
    "testr = var('testr')"
   ]
  },
  {
   "cell_type": "code",
   "execution_count": 20,
   "metadata": {},
   "outputs": [
    {
     "data": {
      "text/html": [
       "<html><script type=\"math/tex; mode=display\">\\newcommand{\\Bold}[1]{\\mathbf{#1}}g = -\\mathrm{d} t\\otimes \\mathrm{d} t + \\frac{t^{2}}{\\mathit{testr}^{2}} \\mathrm{d} x\\otimes \\mathrm{d} x + \\frac{t^{2}}{\\mathit{testr}^{2}} \\mathrm{d} y\\otimes \\mathrm{d} y + \\frac{t^{2}}{\\mathit{testr}^{2}} \\mathrm{d} z\\otimes \\mathrm{d} z</script></html>"
      ],
      "text/plain": [
       "g = -dt*dt + t^2/testr^2 dx*dx + t^2/testr^2 dy*dy + t^2/testr^2 dz*dz"
      ]
     },
     "execution_count": 20,
     "metadata": {},
     "output_type": "execute_result"
    }
   ],
   "source": [
    "g = M.metric('g')\n",
    "g[0,0] = -1\n",
    "g[1,1] = (t/testr)^2\n",
    "g[2,2] = (t/testr)^2\n",
    "g[3,3] = (t/testr)^2\n",
    "g.display()"
   ]
  },
  {
   "cell_type": "code",
   "execution_count": 21,
   "metadata": {},
   "outputs": [
    {
     "name": "stdout",
     "output_type": "stream",
     "text": [
      "Tensor field Riem(g) of type (1,3) on the 4-dimensional differentiable manifold M\n"
     ]
    }
   ],
   "source": [
    "Riem = g.riemann()\n",
    "print(Riem)"
   ]
  },
  {
   "cell_type": "code",
   "execution_count": 27,
   "metadata": {},
   "outputs": [
    {
     "data": {
      "text/html": [
       "<html><script type=\"math/tex; mode=display\">\\newcommand{\\Bold}[1]{\\mathbf{#1}}\\begin{array}{lcl} \\Gamma_{ \\phantom{\\, t} \\, x \\, x }^{ \\, t \\phantom{\\, x} \\phantom{\\, x} } & = & \\frac{t}{\\mathit{testr}^{2}} \\\\ \\Gamma_{ \\phantom{\\, t} \\, y \\, y }^{ \\, t \\phantom{\\, y} \\phantom{\\, y} } & = & \\frac{t}{\\mathit{testr}^{2}} \\\\ \\Gamma_{ \\phantom{\\, t} \\, z \\, z }^{ \\, t \\phantom{\\, z} \\phantom{\\, z} } & = & \\frac{t}{\\mathit{testr}^{2}} \\\\ \\Gamma_{ \\phantom{\\, x} \\, t \\, x }^{ \\, x \\phantom{\\, t} \\phantom{\\, x} } & = & \\frac{1}{t} \\\\ \\Gamma_{ \\phantom{\\, y} \\, t \\, y }^{ \\, y \\phantom{\\, t} \\phantom{\\, y} } & = & \\frac{1}{t} \\\\ \\Gamma_{ \\phantom{\\, z} \\, t \\, z }^{ \\, z \\phantom{\\, t} \\phantom{\\, z} } & = & \\frac{1}{t} \\end{array}</script></html>"
      ],
      "text/plain": [
       "Gam^t_xx = t/testr^2 \n",
       "Gam^t_yy = t/testr^2 \n",
       "Gam^t_zz = t/testr^2 \n",
       "Gam^x_tx = 1/t \n",
       "Gam^y_ty = 1/t \n",
       "Gam^z_tz = 1/t "
      ]
     },
     "execution_count": 27,
     "metadata": {},
     "output_type": "execute_result"
    }
   ],
   "source": [
    "g.christoffel_symbols_display()\n"
   ]
  },
  {
   "cell_type": "code",
   "execution_count": 22,
   "metadata": {},
   "outputs": [
    {
     "data": {
      "text/html": [
       "<html><script type=\"math/tex; mode=display\">\\newcommand{\\Bold}[1]{\\mathbf{#1}}\\begin{array}{lcl} \\mathrm{Riem}\\left(g\\right)_{ \\phantom{\\, x} \\, y \\, x \\, y }^{ \\, x \\phantom{\\, y} \\phantom{\\, x} \\phantom{\\, y} } & = & \\frac{1}{\\mathit{testr}^{2}} \\\\ \\mathrm{Riem}\\left(g\\right)_{ \\phantom{\\, x} \\, z \\, x \\, z }^{ \\, x \\phantom{\\, z} \\phantom{\\, x} \\phantom{\\, z} } & = & \\frac{1}{\\mathit{testr}^{2}} \\\\ \\mathrm{Riem}\\left(g\\right)_{ \\phantom{\\, y} \\, x \\, x \\, y }^{ \\, y \\phantom{\\, x} \\phantom{\\, x} \\phantom{\\, y} } & = & -\\frac{1}{\\mathit{testr}^{2}} \\\\ \\mathrm{Riem}\\left(g\\right)_{ \\phantom{\\, y} \\, z \\, y \\, z }^{ \\, y \\phantom{\\, z} \\phantom{\\, y} \\phantom{\\, z} } & = & \\frac{1}{\\mathit{testr}^{2}} \\\\ \\mathrm{Riem}\\left(g\\right)_{ \\phantom{\\, z} \\, x \\, x \\, z }^{ \\, z \\phantom{\\, x} \\phantom{\\, x} \\phantom{\\, z} } & = & -\\frac{1}{\\mathit{testr}^{2}} \\\\ \\mathrm{Riem}\\left(g\\right)_{ \\phantom{\\, z} \\, y \\, y \\, z }^{ \\, z \\phantom{\\, y} \\phantom{\\, y} \\phantom{\\, z} } & = & -\\frac{1}{\\mathit{testr}^{2}} \\end{array}</script></html>"
      ],
      "text/plain": [
       "Riem(g)^x_yxy = testr^(-2) \n",
       "Riem(g)^x_zxz = testr^(-2) \n",
       "Riem(g)^y_xxy = -1/testr^2 \n",
       "Riem(g)^y_zyz = testr^(-2) \n",
       "Riem(g)^z_xxz = -1/testr^2 \n",
       "Riem(g)^z_yyz = -1/testr^2 "
      ]
     },
     "execution_count": 22,
     "metadata": {},
     "output_type": "execute_result"
    }
   ],
   "source": [
    "Riem.display_comp(only_nonredundant=True) \n",
    "# Se ve que se anulan, luego es plano"
   ]
  },
  {
   "cell_type": "code",
   "execution_count": 28,
   "metadata": {},
   "outputs": [],
   "source": [
    "Riemdown = Riem.down(g);\n",
    "Riemup = Riem.up(g);"
   ]
  },
  {
   "cell_type": "code",
   "execution_count": 29,
   "metadata": {},
   "outputs": [],
   "source": [
    "ginv = g.inverse()"
   ]
  },
  {
   "cell_type": "code",
   "execution_count": 30,
   "metadata": {},
   "outputs": [
    {
     "data": {
      "text/html": [
       "<html><script type=\"math/tex; mode=display\">\\newcommand{\\Bold}[1]{\\mathbf{#1}}\\begin{array}{lcl} X_{ \\phantom{\\, x}\\phantom{\\, y} \\, x \\, y }^{ \\, x \\, y \\phantom{\\, x} \\phantom{\\, y} } & = & \\frac{1}{t^{2}} \\\\ X_{ \\phantom{\\, x}\\phantom{\\, z} \\, x \\, z }^{ \\, x \\, z \\phantom{\\, x} \\phantom{\\, z} } & = & \\frac{1}{t^{2}} \\\\ X_{ \\phantom{\\, y}\\phantom{\\, x} \\, x \\, y }^{ \\, y \\, x \\phantom{\\, x} \\phantom{\\, y} } & = & -\\frac{1}{t^{2}} \\\\ X_{ \\phantom{\\, y}\\phantom{\\, z} \\, y \\, z }^{ \\, y \\, z \\phantom{\\, y} \\phantom{\\, z} } & = & \\frac{1}{t^{2}} \\\\ X_{ \\phantom{\\, z}\\phantom{\\, x} \\, x \\, z }^{ \\, z \\, x \\phantom{\\, x} \\phantom{\\, z} } & = & -\\frac{1}{t^{2}} \\\\ X_{ \\phantom{\\, z}\\phantom{\\, y} \\, y \\, z }^{ \\, z \\, y \\phantom{\\, y} \\phantom{\\, z} } & = & -\\frac{1}{t^{2}} \\end{array}</script></html>"
      ],
      "text/plain": [
       "X^xy_xy = t^(-2) \n",
       "X^xz_xz = t^(-2) \n",
       "X^yx_xy = -1/t^2 \n",
       "X^yz_yz = t^(-2) \n",
       "X^zx_xz = -1/t^2 \n",
       "X^zy_yz = -1/t^2 "
      ]
     },
     "execution_count": 30,
     "metadata": {},
     "output_type": "execute_result"
    }
   ],
   "source": [
    "# El tensor X  también es el tensor de Riemann pero subiendo la coordenada\n",
    "# Esto nos sirve para ver más claramente si el tensor se anula o no\n",
    "# En este caso vemos que sí se anula\n",
    "Rup2down2 = Riem['^a_{bcd}']*ginv['^{be}']\n",
    "Rup2down2.display_comp(only_nonredundant=True)"
   ]
  },
  {
   "cell_type": "code",
   "execution_count": null,
   "metadata": {},
   "outputs": [],
   "source": []
  }
 ],
 "metadata": {
  "kernelspec": {
   "display_name": "SageMath 9.1",
   "language": "sage",
   "name": "sagemath"
  },
  "language_info": {
   "codemirror_mode": {
    "name": "ipython",
    "version": 3
   },
   "file_extension": ".py",
   "mimetype": "text/x-python",
   "name": "python",
   "nbconvert_exporter": "python",
   "pygments_lexer": "ipython3",
   "version": "3.7.3"
  }
 },
 "nbformat": 4,
 "nbformat_minor": 4
}
