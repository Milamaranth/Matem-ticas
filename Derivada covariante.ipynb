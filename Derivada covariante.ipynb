{
 "cells": [
  {
   "cell_type": "markdown",
   "metadata": {},
   "source": [
    "## Derivada covariante de vectores y formas\n",
    "\n",
    "Sea la métrica (espacio-tiempo de Rindler)\n",
    "\n",
    "$ds^2 = -d\\tau^2 = -X^2dT^2 + dX^2$\n",
    "\n",
    "$\\rho = \\{T,X\\}$.\n",
    "\n",
    "Derivada covariante:\n",
    "\n",
    "1-forma: $\\bigtriangledown_\\nu W_\\rho =  W_{\\rho ;\\nu}  $\n",
    "\n",
    "Vector: $\\bigtriangledown_\\nu U^\\rho = (\\bigtriangledown_\\nu U)^\\rho =  U^\\rho _{\\space\\space\\space\\space   ;\\nu} $\n",
    "\n",
    "La siguiente fórmula nos da la derivada covariante:\n",
    "\n",
    "Vector: $\\nabla_\\alpha v^\\beta = \\frac{\\partial v^\\beta}{\\partial x^\\alpha} + \\Gamma_{\\alpha\\gamma}^\\beta v^\\gamma$\n",
    "\n",
    "1-forma: $\\nabla_\\alpha v_\\beta = \\frac{\\partial v^\\beta}{\\partial x^\\alpha} - \\Gamma_{\\alpha\\beta}^\\gamma v_\\gamma$\n",
    "\n",
    "$\\nabla_\\alpha v^\\beta_\\gamma = \\frac{\\partial v^\\beta_\\gamma}{\\partial x^\\alpha} + \\Gamma_{\\alpha\\delta}^\\beta v^\\delta_\\gamma - \\Gamma_{\\alpha\\beta}^\\delta v^\\beta_\\delta$"
   ]
  },
  {
   "cell_type": "code",
   "execution_count": 8,
   "metadata": {},
   "outputs": [],
   "source": [
    "%display latex"
   ]
  },
  {
   "cell_type": "code",
   "execution_count": 72,
   "metadata": {},
   "outputs": [],
   "source": [
    "d=2 # dimensión\n",
    "M = Manifold(d, 'M')"
   ]
  },
  {
   "cell_type": "code",
   "execution_count": 73,
   "metadata": {},
   "outputs": [
    {
     "data": {
      "text/html": [
       "<html><script type=\"math/tex; mode=display\">\\newcommand{\\Bold}[1]{\\mathbf{#1}}\\left(M,(t, x)\\right)</script></html>"
      ],
      "text/plain": [
       "Chart (M, (t, x))"
      ]
     },
     "execution_count": 73,
     "metadata": {},
     "output_type": "execute_result"
    }
   ],
   "source": [
    "X.<t,x> = M.chart(r\"t x\")\n",
    "X"
   ]
  },
  {
   "cell_type": "code",
   "execution_count": 74,
   "metadata": {},
   "outputs": [
    {
     "data": {
      "text/html": [
       "<html><script type=\"math/tex; mode=display\">\\newcommand{\\Bold}[1]{\\mathbf{#1}}\\left(M, \\left(\\frac{\\partial}{\\partial t },\\frac{\\partial}{\\partial x }\\right)\\right)</script></html>"
      ],
      "text/plain": [
       "Coordinate frame (M, (d/dt,d/dx))"
      ]
     },
     "execution_count": 74,
     "metadata": {},
     "output_type": "execute_result"
    }
   ],
   "source": [
    "M.default_frame()"
   ]
  },
  {
   "cell_type": "code",
   "execution_count": 75,
   "metadata": {
    "scrolled": true
   },
   "outputs": [
    {
     "data": {
      "text/html": [
       "<html><script type=\"math/tex; mode=display\">\\newcommand{\\Bold}[1]{\\mathbf{#1}}g = -x^{2} \\mathrm{d} t\\otimes \\mathrm{d} t +\\mathrm{d} x\\otimes \\mathrm{d} x</script></html>"
      ],
      "text/plain": [
       "g = -x^2 dt*dt + dx*dx"
      ]
     },
     "execution_count": 75,
     "metadata": {},
     "output_type": "execute_result"
    }
   ],
   "source": [
    "g = M.metric('g')\n",
    "g[0,0] = -x^2\n",
    "g[1,1] = 1\n",
    "g.display()"
   ]
  },
  {
   "cell_type": "code",
   "execution_count": 76,
   "metadata": {},
   "outputs": [
    {
     "data": {
      "text/html": [
       "<html><script type=\"math/tex; mode=display\">\\newcommand{\\Bold}[1]{\\mathbf{#1}}\\frac{\\partial}{\\partial t }</script></html>"
      ],
      "text/plain": [
       "Vector field d/dt on the 2-dimensional differentiable manifold M"
      ]
     },
     "execution_count": 76,
     "metadata": {},
     "output_type": "execute_result"
    }
   ],
   "source": [
    "xi = X.frame()[0] ; xi"
   ]
  },
  {
   "cell_type": "code",
   "execution_count": 77,
   "metadata": {},
   "outputs": [
    {
     "data": {
      "text/html": [
       "<html><script type=\"math/tex; mode=display\">\\newcommand{\\Bold}[1]{\\mathbf{#1}}\\left(M, \\left(\\frac{\\partial}{\\partial t },\\frac{\\partial}{\\partial x }\\right)\\right)</script></html>"
      ],
      "text/plain": [
       "Coordinate frame (M, (d/dt,d/dx))"
      ]
     },
     "execution_count": 77,
     "metadata": {},
     "output_type": "execute_result"
    }
   ],
   "source": [
    "X.frame()"
   ]
  },
  {
   "cell_type": "code",
   "execution_count": 78,
   "metadata": {},
   "outputs": [
    {
     "data": {
      "text/html": [
       "<html><script type=\"math/tex; mode=display\">\\newcommand{\\Bold}[1]{\\mathbf{#1}}\\begin{array}{lcl} \\Gamma_{ \\phantom{\\, t} \\, t \\, x }^{ \\, t \\phantom{\\, t} \\phantom{\\, x} } & = & \\frac{1}{x} \\\\ \\Gamma_{ \\phantom{\\, x} \\, t \\, t }^{ \\, x \\phantom{\\, t} \\phantom{\\, t} } & = & x \\end{array}</script></html>"
      ],
      "text/plain": [
       "Gam^t_tx = 1/x \n",
       "Gam^x_tt = x "
      ]
     },
     "execution_count": 78,
     "metadata": {},
     "output_type": "execute_result"
    }
   ],
   "source": [
    "g.christoffel_symbols_display()"
   ]
  },
  {
   "cell_type": "code",
   "execution_count": 79,
   "metadata": {},
   "outputs": [
    {
     "name": "stdout",
     "output_type": "stream",
     "text": [
      "Levi-Civita connection nabla_g associated with the Riemannian metric g on the 2-dimensional differentiable manifold M\n"
     ]
    }
   ],
   "source": [
    "nab = g.connection() ; print(nab)"
   ]
  },
  {
   "cell_type": "code",
   "execution_count": 126,
   "metadata": {},
   "outputs": [
    {
     "data": {
      "text/html": [
       "<html><script type=\"math/tex; mode=display\">\\newcommand{\\Bold}[1]{\\mathbf{#1}}u^t\\left(t, x\\right) \\frac{\\partial}{\\partial t } + u^x\\left(t, x\\right) \\frac{\\partial}{\\partial x }</script></html>"
      ],
      "text/plain": [
       "ut(t, x) d/dt + ux(t, x) d/dx"
      ]
     },
     "execution_count": 126,
     "metadata": {},
     "output_type": "execute_result"
    }
   ],
   "source": [
    "ut = function('ut', latex_name='u^t')\n",
    "ux = function('ux', latex_name='u^x')\n",
    "u = X.frame()[0]*ut(t,x) + X.frame()[1]*ux(t,x);\n",
    "u.display()"
   ]
  },
  {
   "cell_type": "markdown",
   "metadata": {},
   "source": [
    "Aplicando el $\\nabla$ directamente sobre $u$ nos da un tensor (1,1).\n",
    "\n",
    "$\\nabla_x u^t$ es el coeficiente de  $\\partial/\\partial t \\otimes dx$"
   ]
  },
  {
   "cell_type": "code",
   "execution_count": 127,
   "metadata": {},
   "outputs": [
    {
     "data": {
      "text/html": [
       "<html><script type=\"math/tex; mode=display\">\\newcommand{\\Bold}[1]{\\mathbf{#1}}\\left( \\frac{x \\frac{\\partial\\,u^t}{\\partial t} + u^x\\left(t, x\\right)}{x} \\right) \\frac{\\partial}{\\partial t }\\otimes \\mathrm{d} t + \\left( \\frac{x \\frac{\\partial\\,u^t}{\\partial x} + u^t\\left(t, x\\right)}{x} \\right) \\frac{\\partial}{\\partial t }\\otimes \\mathrm{d} x + \\left( x u^t\\left(t, x\\right) + \\frac{\\partial\\,u^x}{\\partial t} \\right) \\frac{\\partial}{\\partial x }\\otimes \\mathrm{d} t + \\frac{\\partial\\,u^x}{\\partial x} \\frac{\\partial}{\\partial x }\\otimes \\mathrm{d} x</script></html>"
      ],
      "text/plain": [
       "(x*d(ut)/dt + ux(t, x))/x d/dt*dt + (x*d(ut)/dx + ut(t, x))/x d/dt*dx + (x*ut(t, x) + d(ux)/dt) d/dx*dt + d(ux)/dx d/dx*dx"
      ]
     },
     "execution_count": 127,
     "metadata": {},
     "output_type": "execute_result"
    }
   ],
   "source": [
    "nab(u).display() "
   ]
  },
  {
   "cell_type": "markdown",
   "metadata": {},
   "source": [
    "Si queremos saber $\\nabla_X$:"
   ]
  },
  {
   "cell_type": "code",
   "execution_count": 128,
   "metadata": {},
   "outputs": [
    {
     "data": {
      "text/html": [
       "<html><script type=\"math/tex; mode=display\">\\newcommand{\\Bold}[1]{\\mathbf{#1}}\\left( \\frac{x \\frac{\\partial\\,u^t}{\\partial t} + u^x\\left(t, x\\right)}{x} \\right) \\frac{\\partial}{\\partial t } + \\left( x u^t\\left(t, x\\right) + \\frac{\\partial\\,u^x}{\\partial t} \\right) \\frac{\\partial}{\\partial x }</script></html>"
      ],
      "text/plain": [
       "(x*d(ut)/dt + ux(t, x))/x d/dt + (x*ut(t, x) + d(ux)/dt) d/dx"
      ]
     },
     "execution_count": 128,
     "metadata": {},
     "output_type": "execute_result"
    }
   ],
   "source": [
    "nab(u)(X.frame()[0]).display()"
   ]
  },
  {
   "cell_type": "markdown",
   "metadata": {},
   "source": [
    "Para $\\nabla_T$:"
   ]
  },
  {
   "cell_type": "code",
   "execution_count": 129,
   "metadata": {},
   "outputs": [
    {
     "data": {
      "text/html": [
       "<html><script type=\"math/tex; mode=display\">\\newcommand{\\Bold}[1]{\\mathbf{#1}}\\left( \\frac{x \\frac{\\partial\\,u^t}{\\partial x} + u^t\\left(t, x\\right)}{x} \\right) \\frac{\\partial}{\\partial t } + \\frac{\\partial\\,u^x}{\\partial x} \\frac{\\partial}{\\partial x }</script></html>"
      ],
      "text/plain": [
       "(x*d(ut)/dx + ut(t, x))/x d/dt + d(ux)/dx d/dx"
      ]
     },
     "execution_count": 129,
     "metadata": {},
     "output_type": "execute_result"
    }
   ],
   "source": [
    "nab(u)(X.frame()[1]).display()"
   ]
  },
  {
   "cell_type": "code",
   "execution_count": 141,
   "metadata": {},
   "outputs": [
    {
     "data": {
      "text/html": [
       "<html><script type=\"math/tex; mode=display\">\\newcommand{\\Bold}[1]{\\mathbf{#1}}v^t\\left(t, x\\right) \\mathrm{d} t + v^x\\left(t, x\\right) \\mathrm{d} x</script></html>"
      ],
      "text/plain": [
       "wt(t, x) dt + wx(t, x) dx"
      ]
     },
     "execution_count": 141,
     "metadata": {},
     "output_type": "execute_result"
    }
   ],
   "source": [
    "vt = function('wt', latex_name='v^t')\n",
    "vx = function('wx', latex_name='v^x')\n",
    "v = X.coframe()[0]*vt(t,x) + X.coframe()[1]*vx(t,x);\n",
    "v.display()"
   ]
  },
  {
   "cell_type": "code",
   "execution_count": 142,
   "metadata": {},
   "outputs": [
    {
     "data": {
      "text/html": [
       "<html><script type=\"math/tex; mode=display\">\\newcommand{\\Bold}[1]{\\mathbf{#1}}\\left( -x v^x\\left(t, x\\right) + \\frac{\\partial\\,v^t}{\\partial t} \\right) \\mathrm{d} t\\otimes \\mathrm{d} t + \\left( \\frac{x \\frac{\\partial\\,v^t}{\\partial x} - v^t\\left(t, x\\right)}{x} \\right) \\mathrm{d} t\\otimes \\mathrm{d} x + \\left( \\frac{x \\frac{\\partial\\,v^x}{\\partial t} - v^t\\left(t, x\\right)}{x} \\right) \\mathrm{d} x\\otimes \\mathrm{d} t + \\frac{\\partial\\,v^x}{\\partial x} \\mathrm{d} x\\otimes \\mathrm{d} x</script></html>"
      ],
      "text/plain": [
       "(-x*wx(t, x) + d(wt)/dt) dt*dt + (x*d(wt)/dx - wt(t, x))/x dt*dx + (x*d(wx)/dt - wt(t, x))/x dx*dt + d(wx)/dx dx*dx"
      ]
     },
     "execution_count": 142,
     "metadata": {},
     "output_type": "execute_result"
    }
   ],
   "source": [
    "nab(v).display()"
   ]
  },
  {
   "cell_type": "code",
   "execution_count": 155,
   "metadata": {},
   "outputs": [
    {
     "data": {
      "text/html": [
       "<html><script type=\"math/tex; mode=display\">\\newcommand{\\Bold}[1]{\\mathbf{#1}}\\left( -x v^x\\left(t, x\\right) + \\frac{\\partial\\,v^t}{\\partial t} \\right) \\mathrm{d} t + \\left( \\frac{x \\frac{\\partial\\,v^t}{\\partial x} - v^t\\left(t, x\\right)}{x} \\right) \\mathrm{d} x</script></html>"
      ],
      "text/plain": [
       "(-x*wx(t, x) + d(wt)/dt) dt + (x*d(wt)/dx - wt(t, x))/x dx"
      ]
     },
     "execution_count": 155,
     "metadata": {},
     "output_type": "execute_result"
    }
   ],
   "source": [
    "((nab(v)['_ab'])*(X.frame()[0]['^a'])).display()"
   ]
  },
  {
   "cell_type": "code",
   "execution_count": 157,
   "metadata": {},
   "outputs": [],
   "source": [
    "def derivadaCovarianteVector(nabla, v, idx):\n",
    "    return nabla(v)(X.frame()[idx]).display()"
   ]
  },
  {
   "cell_type": "code",
   "execution_count": 158,
   "metadata": {},
   "outputs": [],
   "source": [
    "def derivadaCovarianteUnaForma(nabla, v, idx):\n",
    "    return ((nab(v)['_ab'])*(X.frame()[idx]['^a'])).display()"
   ]
  },
  {
   "cell_type": "code",
   "execution_count": 163,
   "metadata": {},
   "outputs": [
    {
     "data": {
      "text/html": [
       "<html><script type=\"math/tex; mode=display\">\\newcommand{\\Bold}[1]{\\mathbf{#1}}\\left(M, \\left(\\frac{\\partial}{\\partial t },\\frac{\\partial}{\\partial x }\\right)\\right)</script></html>"
      ],
      "text/plain": [
       "Coordinate frame (M, (d/dt,d/dx))"
      ]
     },
     "execution_count": 163,
     "metadata": {},
     "output_type": "execute_result"
    }
   ],
   "source": [
    "X.frame()"
   ]
  },
  {
   "cell_type": "code",
   "execution_count": 161,
   "metadata": {},
   "outputs": [
    {
     "data": {
      "text/html": [
       "<html><script type=\"math/tex; mode=display\">\\newcommand{\\Bold}[1]{\\mathbf{#1}}\\left( \\frac{x \\frac{\\partial\\,u^t}{\\partial x} + u^t\\left(t, x\\right)}{x} \\right) \\frac{\\partial}{\\partial t } + \\frac{\\partial\\,u^x}{\\partial x} \\frac{\\partial}{\\partial x }</script></html>"
      ],
      "text/plain": [
       "(x*d(ut)/dx + ut(t, x))/x d/dt + d(ux)/dx d/dx"
      ]
     },
     "execution_count": 161,
     "metadata": {},
     "output_type": "execute_result"
    }
   ],
   "source": [
    "derivadaCovarianteVector(nab, u, 1)"
   ]
  },
  {
   "cell_type": "code",
   "execution_count": 162,
   "metadata": {
    "scrolled": true
   },
   "outputs": [
    {
     "data": {
      "text/html": [
       "<html><script type=\"math/tex; mode=display\">\\newcommand{\\Bold}[1]{\\mathbf{#1}}\\left( \\frac{x \\frac{\\partial\\,v^x}{\\partial t} - v^t\\left(t, x\\right)}{x} \\right) \\mathrm{d} t + \\frac{\\partial\\,v^x}{\\partial x} \\mathrm{d} x</script></html>"
      ],
      "text/plain": [
       "(x*d(wx)/dt - wt(t, x))/x dt + d(wx)/dx dx"
      ]
     },
     "execution_count": 162,
     "metadata": {},
     "output_type": "execute_result"
    }
   ],
   "source": [
    "derivadaCovarianteUnaForma(nab, v, 1)"
   ]
  },
  {
   "cell_type": "code",
   "execution_count": null,
   "metadata": {},
   "outputs": [],
   "source": []
  }
 ],
 "metadata": {
  "kernelspec": {
   "display_name": "SageMath 9.1",
   "language": "sage",
   "name": "sagemath"
  },
  "language_info": {
   "codemirror_mode": {
    "name": "ipython",
    "version": 3
   },
   "file_extension": ".py",
   "mimetype": "text/x-python",
   "name": "python",
   "nbconvert_exporter": "python",
   "pygments_lexer": "ipython3",
   "version": "3.7.3"
  }
 },
 "nbformat": 4,
 "nbformat_minor": 4
}
