{
 "cells": [
  {
   "cell_type": "markdown",
   "metadata": {},
   "source": [
    "###### Sea la cónica del plano euclídeo de ecuación $-x^2-y^2+2x+2y+xy-1=0$, probar que los ejes de coordenadas son tangentes a la cónica; determinar en qué puntos. Determinar el centro, eje de simetría y ecuación reducida de la cónica. Representar gráficamente en las coordenadas iniciales."
   ]
  },
  {
   "cell_type": "markdown",
   "metadata": {},
   "source": [
    "Los ejes de coordenadas cartesianos son tangentes a la cónica porque la cortan en un solo punto y a siempre se quedan en un mismo cuadrante:"
   ]
  },
  {
   "cell_type": "code",
   "execution_count": 29,
   "metadata": {},
   "outputs": [
    {
     "data": {
      "text/html": [
       "<html><script type=\"math/tex; mode=display\">\\newcommand{\\Bold}[1]{\\mathbf{#1}}-x^{2} + 2 \\, x - 1</script></html>"
      ],
      "text/plain": [
       "-x^2 + 2*x - 1"
      ]
     },
     "metadata": {},
     "output_type": "display_data"
    }
   ],
   "source": [
    "f(x,y) = -x^2-y^2+2*x+2*y+x*y-1\n",
    "## Las ecuaciones de f(x,0) y de f(0,y) están siempre en el primer cuadrante.\n",
    "show(f(x,0))"
   ]
  },
  {
   "cell_type": "code",
   "execution_count": 25,
   "metadata": {},
   "outputs": [
    {
     "data": {
      "text/plain": [
       "[x == 1]"
      ]
     },
     "execution_count": 25,
     "metadata": {},
     "output_type": "execute_result"
    }
   ],
   "source": [
    "# Punto de corte con el y = 0\n",
    "solve(f(x,0)==0,x)"
   ]
  },
  {
   "cell_type": "code",
   "execution_count": 30,
   "metadata": {},
   "outputs": [
    {
     "data": {
      "text/plain": [
       "[y == 1]"
      ]
     },
     "execution_count": 30,
     "metadata": {},
     "output_type": "execute_result"
    }
   ],
   "source": [
    "# Punto de corte con el x = 0\n",
    "solve(f(0,y)==0,y)"
   ]
  },
  {
   "cell_type": "markdown",
   "metadata": {},
   "source": [
    "El centro de simetría es el punto cuyo hiperplano del infinito es vacío, entonces cumple que:"
   ]
  },
  {
   "cell_type": "code",
   "execution_count": 36,
   "metadata": {},
   "outputs": [
    {
     "data": {
      "text/html": [
       "<html><script type=\"math/tex; mode=display\">\\newcommand{\\Bold}[1]{\\mathbf{#1}}\\left(\\begin{array}{r}\n",
       "1 \\\\\n",
       "c_{1} \\\\\n",
       "c_{2}\n",
       "\\end{array}\\right)</script></html>"
      ],
      "text/plain": [
       "[ 1]\n",
       "[c1]\n",
       "[c2]"
      ]
     },
     "metadata": {},
     "output_type": "display_data"
    }
   ],
   "source": [
    "c1 = var ('c1')\n",
    "c2 = var ('c2')\n",
    "c = matrix([[1],[c1],[c2]])\n",
    "show(c)"
   ]
  },
  {
   "cell_type": "code",
   "execution_count": 34,
   "metadata": {},
   "outputs": [
    {
     "data": {
      "text/html": [
       "<html><script type=\"math/tex; mode=display\">\\newcommand{\\Bold}[1]{\\mathbf{#1}}\\left(\\begin{array}{rrr}\n",
       "-1 & 1 & 1 \\\\\n",
       "1 & -1 & \\frac{1}{2} \\\\\n",
       "1 & \\frac{1}{2} & -1\n",
       "\\end{array}\\right)</script></html>"
      ],
      "text/plain": [
       "[ -1   1   1]\n",
       "[  1  -1 1/2]\n",
       "[  1 1/2  -1]"
      ]
     },
     "metadata": {},
     "output_type": "display_data"
    }
   ],
   "source": [
    "A = matrix([[-1,1,1],[1,-1,1/2],[1,1/2,-1]])\n",
    "show(A)"
   ]
  },
  {
   "cell_type": "code",
   "execution_count": 53,
   "metadata": {},
   "outputs": [
    {
     "data": {
      "text/html": [
       "<html><script type=\"math/tex; mode=display\">\\newcommand{\\Bold}[1]{\\mathbf{#1}}\\left(\\begin{array}{r}\n",
       "c_{1} + c_{2} - 1 \\\\\n",
       "-c_{1} + \\frac{1}{2} \\, c_{2} + 1 \\\\\n",
       "\\frac{1}{2} \\, c_{1} - c_{2} + 1\n",
       "\\end{array}\\right)</script></html>"
      ],
      "text/plain": [
       "[     c1 + c2 - 1]\n",
       "[-c1 + 1/2*c2 + 1]\n",
       "[ 1/2*c1 - c2 + 1]"
      ]
     },
     "metadata": {},
     "output_type": "display_data"
    }
   ],
   "source": [
    "C = A*c\n",
    "show(C)"
   ]
  },
  {
   "cell_type": "code",
   "execution_count": 61,
   "metadata": {},
   "outputs": [
    {
     "data": {
      "text/html": [
       "<html><script type=\"math/tex; mode=display\">\\newcommand{\\Bold}[1]{\\mathbf{#1}}\\left(\\begin{array}{r}\n",
       "2 \\\\\n",
       "2\n",
       "\\end{array}\\right)</script></html>"
      ],
      "text/plain": [
       "[2]\n",
       "[2]"
      ]
     },
     "metadata": {},
     "output_type": "display_data"
    }
   ],
   "source": [
    "C = matrix([[-1,1/2],[1/2,-1]])\n",
    "b = matrix([[-1],[-1]])\n",
    "centro = C.solve_right(b)\n",
    "show(centro)"
   ]
  },
  {
   "cell_type": "code",
   "execution_count": 64,
   "metadata": {},
   "outputs": [
    {
     "data": {
      "text/plain": [
       "False"
      ]
     },
     "execution_count": 64,
     "metadata": {},
     "output_type": "execute_result"
    }
   ],
   "source": [
    "## Es necesario comprobar que la primera ecuación no es 0:\n",
    "2+2-1 == 0"
   ]
  },
  {
   "cell_type": "markdown",
   "metadata": {},
   "source": [
    "El eje de simetría es el que la simetría respecto a éste transforma la cuádrica en sí misma"
   ]
  },
  {
   "cell_type": "code",
   "execution_count": 66,
   "metadata": {},
   "outputs": [
    {
     "data": {
      "text/html": [
       "<html><script type=\"math/tex; mode=display\">\\newcommand{\\Bold}[1]{\\mathbf{#1}}\\left(\\begin{array}{rr}\n",
       "-1 & \\frac{1}{2} \\\\\n",
       "\\frac{1}{2} & -1\n",
       "\\end{array}\\right)</script></html>"
      ],
      "text/plain": [
       "[ -1 1/2]\n",
       "[1/2  -1]"
      ]
     },
     "metadata": {},
     "output_type": "display_data"
    }
   ],
   "source": [
    "E = matrix([[-1,1/2],[1/2,-1]])\n",
    "show(E)"
   ]
  },
  {
   "cell_type": "code",
   "execution_count": 67,
   "metadata": {},
   "outputs": [
    {
     "data": {
      "text/plain": [
       "[-1/2, -3/2]"
      ]
     },
     "execution_count": 67,
     "metadata": {},
     "output_type": "execute_result"
    }
   ],
   "source": [
    "E.eigenvalues()"
   ]
  },
  {
   "cell_type": "code",
   "execution_count": 68,
   "metadata": {
    "scrolled": false
   },
   "outputs": [
    {
     "data": {
      "text/plain": [
       "[(-1/2, [\n",
       "  (1, 1)\n",
       "  ], 1), (-3/2, [\n",
       "  (1, -1)\n",
       "  ], 1)]"
      ]
     },
     "execution_count": 68,
     "metadata": {},
     "output_type": "execute_result"
    }
   ],
   "source": [
    "# Estos vectores son los ve los ejes\n",
    "# Como punto tomamos el centro (2,2)\n",
    "E.eigenvectors_right()"
   ]
  },
  {
   "cell_type": "markdown",
   "metadata": {},
   "source": [
    "Para ver la ecuación reducida clasificamos la cónica. En este caso, cogemos el menor E y hacemos el determinante, y comparamos con $a_{22}$ y con el determinante de A"
   ]
  },
  {
   "cell_type": "code",
   "execution_count": 69,
   "metadata": {},
   "outputs": [
    {
     "data": {
      "text/plain": [
       "9/4"
      ]
     },
     "execution_count": 69,
     "metadata": {},
     "output_type": "execute_result"
    }
   ],
   "source": [
    "A.determinant()"
   ]
  },
  {
   "cell_type": "code",
   "execution_count": 70,
   "metadata": {},
   "outputs": [
    {
     "data": {
      "text/plain": [
       "3/4"
      ]
     },
     "execution_count": 70,
     "metadata": {},
     "output_type": "execute_result"
    }
   ],
   "source": [
    "E.determinant()"
   ]
  },
  {
   "cell_type": "code",
   "execution_count": 71,
   "metadata": {},
   "outputs": [
    {
     "data": {
      "text/plain": [
       "-1"
      ]
     },
     "execution_count": 71,
     "metadata": {},
     "output_type": "execute_result"
    }
   ],
   "source": [
    "A[2,2]"
   ]
  },
  {
   "cell_type": "markdown",
   "metadata": {},
   "source": [
    "Como E > 0, tenemos una elipse. Además, como signatura(det(A)) $\\neq$ signatura(A[2,2]), es real"
   ]
  },
  {
   "cell_type": "markdown",
   "metadata": {},
   "source": [
    "##### Considerar en el espacio proyectivo real la siguiente familia de cuádricas dependiendo del parámetro m:\n",
    "##### $$x_1^2+x_2^2+x_3^2-2mx_0x_1=0$$\n",
    "##### (a) Clasifica proyectivamente las cuádricas de la familia\n",
    "##### (b) Probar que todas las cuádricas no singulares de la familia tienen un único punto común y que todas tienen el mismo plano tangente en dicho punto."
   ]
  },
  {
   "cell_type": "code",
   "execution_count": 93,
   "metadata": {},
   "outputs": [
    {
     "data": {
      "text/html": [
       "<html><script type=\"math/tex; mode=display\">\\newcommand{\\Bold}[1]{\\mathbf{#1}}\\left(\\begin{array}{rrrr}\n",
       "0 & -m & 0 & 0 \\\\\n",
       "-m & 1 & 0 & 0 \\\\\n",
       "0 & 0 & 1 & 0 \\\\\n",
       "0 & 0 & 0 & 1\n",
       "\\end{array}\\right)</script></html>"
      ],
      "text/plain": [
       "[ 0 -m  0  0]\n",
       "[-m  1  0  0]\n",
       "[ 0  0  1  0]\n",
       "[ 0  0  0  1]"
      ]
     },
     "metadata": {},
     "output_type": "display_data"
    }
   ],
   "source": [
    "m = var('m')\n",
    "A = matrix([[0,-m,0,0],[-m,1,0,0],[0,0,1,0],[0,0,0,1]])\n",
    "show(A)"
   ]
  },
  {
   "cell_type": "code",
   "execution_count": 94,
   "metadata": {},
   "outputs": [
    {
     "data": {
      "text/html": [
       "<html><script type=\"math/tex; mode=display\">\\newcommand{\\Bold}[1]{\\mathbf{#1}}\\left[-\\frac{1}{2} \\, \\sqrt{4 \\, m^{2} + 1} + \\frac{1}{2}, \\frac{1}{2} \\, \\sqrt{4 \\, m^{2} + 1} + \\frac{1}{2}, 1, 1\\right]</script></html>"
      ],
      "text/plain": [
       "[-1/2*sqrt(4*m^2 + 1) + 1/2, 1/2*sqrt(4*m^2 + 1) + 1/2, 1, 1]"
      ]
     },
     "metadata": {},
     "output_type": "display_data"
    }
   ],
   "source": [
    "Aeig = A.eigenvalues()\n",
    "show(Aeig)"
   ]
  },
  {
   "cell_type": "code",
   "execution_count": 95,
   "metadata": {},
   "outputs": [
    {
     "data": {
      "text/plain": [
       "[m == 0]"
      ]
     },
     "execution_count": 95,
     "metadata": {},
     "output_type": "execute_result"
    }
   ],
   "source": [
    "# Vemos para qué valores se vuelve el autovalor cero\n",
    "solve(Aeig[0] == 0,m)"
   ]
  },
  {
   "cell_type": "markdown",
   "metadata": {},
   "source": [
    "Tenemos $\\lambda_0 = 0$ si $m = 0$. Si $m > 0$, entonces $\\lambda_0 < 0$. Si $ m < 0$, entonces $\\lambda_0 > 0$."
   ]
  },
  {
   "cell_type": "code",
   "execution_count": 96,
   "metadata": {},
   "outputs": [
    {
     "data": {
      "text/plain": [
       "[sqrt(4*m^2 + 1) == -1]"
      ]
     },
     "execution_count": 96,
     "metadata": {},
     "output_type": "execute_result"
    }
   ],
   "source": [
    "solve(Aeig[1] == 0,m)"
   ]
  },
  {
   "cell_type": "markdown",
   "metadata": {},
   "source": [
    "Tenemos $\\lambda_1 = 0$ si $\\sqrt{4*m^2 + 1} = -1$, que sería para valores complejos. En general, siempre es un autovalor real positivo."
   ]
  },
  {
   "cell_type": "code",
   "execution_count": 97,
   "metadata": {},
   "outputs": [
    {
     "data": {
      "text/html": [
       "<html><script type=\"math/tex; mode=display\">\\newcommand{\\Bold}[1]{\\mathbf{#1}}\\left(\\begin{array}{rrr}\n",
       "1 & 0 & 0 \\\\\n",
       "0 & 1 & 0 \\\\\n",
       "0 & 0 & 1\n",
       "\\end{array}\\right)</script></html>"
      ],
      "text/plain": [
       "[1 0 0]\n",
       "[0 1 0]\n",
       "[0 0 1]"
      ]
     },
     "metadata": {},
     "output_type": "display_data"
    }
   ],
   "source": [
    "B = matrix.identity(3)\n",
    "show(B)"
   ]
  },
  {
   "cell_type": "markdown",
   "metadata": {},
   "source": [
    "Es evidente que los autovalores de B son $\\lambda = 1$. Por tanto, es una afinmente una elipse imaginaria, para todo valor de m. \n",
    "$$(r',i') = (3,0)$$\n",
    "\n",
    "i' = mín(p',q'), que son autovalores + y -.\n",
    "\n",
    "Proyectivamente tenemos varios casos:"
   ]
  },
  {
   "cell_type": "code",
   "execution_count": 98,
   "metadata": {},
   "outputs": [
    {
     "data": {
      "text/plain": [
       "-m^2"
      ]
     },
     "execution_count": 98,
     "metadata": {},
     "output_type": "execute_result"
    }
   ],
   "source": [
    "A.determinant()"
   ]
  },
  {
   "cell_type": "markdown",
   "metadata": {},
   "source": [
    "Si $m < 0$, entonces el determinante es positivo. Si es $m > 0$, entonces es negativo y si $m = 0$, es cero."
   ]
  },
  {
   "cell_type": "code",
   "execution_count": 99,
   "metadata": {},
   "outputs": [
    {
     "data": {
      "text/html": [
       "<html><script type=\"math/tex; mode=display\">\\newcommand{\\Bold}[1]{\\mathbf{#1}}\\left(\\begin{array}{rrrr}\n",
       "0 & -m & 0 & 0 \\\\\n",
       "-m & 1 & 0 & 0 \\\\\n",
       "0 & 0 & 1 & 0 \\\\\n",
       "0 & 0 & 0 & 1\n",
       "\\end{array}\\right)</script></html>"
      ],
      "text/plain": [
       "[ 0 -m  0  0]\n",
       "[-m  1  0  0]\n",
       "[ 0  0  1  0]\n",
       "[ 0  0  0  1]"
      ]
     },
     "metadata": {},
     "output_type": "display_data"
    }
   ],
   "source": [
    "show(A)"
   ]
  },
  {
   "cell_type": "code",
   "execution_count": 101,
   "metadata": {},
   "outputs": [
    {
     "data": {
      "text/html": [
       "<html><script type=\"math/tex; mode=display\">\\newcommand{\\Bold}[1]{\\mathbf{#1}}\\left[\\left(-\\frac{1}{2} \\, \\sqrt{4 \\, m^{2} + 1} + \\frac{1}{2}, \\left[\\left(1,\\,\\frac{\\sqrt{4 \\, m^{2} + 1} - 1}{2 \\, m},\\,0,\\,0\\right)\\right], 1\\right), \\left(\\frac{1}{2} \\, \\sqrt{4 \\, m^{2} + 1} + \\frac{1}{2}, \\left[\\left(1,\\,-\\frac{\\sqrt{4 \\, m^{2} + 1} + 1}{2 \\, m},\\,0,\\,0\\right)\\right], 1\\right), \\left(1, \\left[\\left(0,\\,0,\\,1,\\,0\\right), \\left(0,\\,0,\\,0,\\,1\\right)\\right], 2\\right)\\right]</script></html>"
      ],
      "text/plain": [
       "[(-1/2*sqrt(4*m^2 + 1) + 1/2, [(1, 1/2*(sqrt(4*m^2 + 1) - 1)/m, 0, 0)], 1),\n",
       " (1/2*sqrt(4*m^2 + 1) + 1/2, [(1, -1/2*(sqrt(4*m^2 + 1) + 1)/m, 0, 0)], 1),\n",
       " (1, [(0, 0, 1, 0), (0, 0, 0, 1)], 2)]"
      ]
     },
     "metadata": {},
     "output_type": "display_data"
    }
   ],
   "source": [
    "show(A.eigenvectors_right())"
   ]
  },
  {
   "cell_type": "code",
   "execution_count": 103,
   "metadata": {},
   "outputs": [
    {
     "data": {
      "text/html": [
       "<html><script type=\"math/tex; mode=display\">\\newcommand{\\Bold}[1]{\\mathbf{#1}}\\left(\\begin{array}{rrrr}\n",
       "0 & 0 & 0 & 0 \\\\\n",
       "0 & 1 & 0 & 0 \\\\\n",
       "0 & 0 & 1 & 0 \\\\\n",
       "0 & 0 & 0 & 1\n",
       "\\end{array}\\right)</script></html>"
      ],
      "text/plain": [
       "[0 0 0 0]\n",
       "[0 1 0 0]\n",
       "[0 0 1 0]\n",
       "[0 0 0 1]"
      ]
     },
     "metadata": {},
     "output_type": "display_data"
    }
   ],
   "source": [
    "A = matrix([[0,0,0,0],[0,1,0,0],[0,0,1,0],[0,0,0,1]])\n",
    "show(A)"
   ]
  },
  {
   "cell_type": "code",
   "execution_count": 104,
   "metadata": {},
   "outputs": [
    {
     "data": {
      "text/plain": [
       "[0, 1, 1, 1]"
      ]
     },
     "execution_count": 104,
     "metadata": {},
     "output_type": "execute_result"
    }
   ],
   "source": [
    "A.eigenvalues()"
   ]
  },
  {
   "cell_type": "code",
   "execution_count": 106,
   "metadata": {},
   "outputs": [
    {
     "data": {
      "text/html": [
       "<html><script type=\"math/tex; mode=display\">\\newcommand{\\Bold}[1]{\\mathbf{#1}}\\left[\\left(0, \\left[\\left(1,\\,0,\\,0,\\,0\\right)\\right], 1\\right), \\left(1, \\left[\\left(0,\\,1,\\,0,\\,0\\right), \\left(0,\\,0,\\,1,\\,0\\right), \\left(0,\\,0,\\,0,\\,1\\right)\\right], 3\\right)\\right]</script></html>"
      ],
      "text/plain": [
       "[(0, [\n",
       "  (1, 0, 0, 0)\n",
       "  ], 1), (1, [\n",
       "  (0, 1, 0, 0),\n",
       "  (0, 0, 1, 0),\n",
       "  (0, 0, 0, 1)\n",
       "  ], 3)]"
      ]
     },
     "metadata": {},
     "output_type": "display_data"
    }
   ],
   "source": [
    "show(A.eigenvectors_right())"
   ]
  },
  {
   "cell_type": "markdown",
   "metadata": {},
   "source": [
    "En el caso de $m = 0$ tenemos $$(r,i) = (3,0)$$, que es un cono imaginario."
   ]
  },
  {
   "cell_type": "code",
   "execution_count": 107,
   "metadata": {},
   "outputs": [
    {
     "data": {
      "text/html": [
       "<html><script type=\"math/tex; mode=display\">\\newcommand{\\Bold}[1]{\\mathbf{#1}}\\left(\\begin{array}{rrrr}\n",
       "0 & -1 & 0 & 0 \\\\\n",
       "-1 & 1 & 0 & 0 \\\\\n",
       "0 & 0 & 1 & 0 \\\\\n",
       "0 & 0 & 0 & 1\n",
       "\\end{array}\\right)</script></html>"
      ],
      "text/plain": [
       "[ 0 -1  0  0]\n",
       "[-1  1  0  0]\n",
       "[ 0  0  1  0]\n",
       "[ 0  0  0  1]"
      ]
     },
     "metadata": {},
     "output_type": "display_data"
    }
   ],
   "source": [
    "A = matrix([[0,-1,0,0],[-1,1,0,0],[0,0,1,0],[0,0,0,1]])\n",
    "show(A)"
   ]
  },
  {
   "cell_type": "code",
   "execution_count": 109,
   "metadata": {},
   "outputs": [
    {
     "data": {
      "text/html": [
       "<html><script type=\"math/tex; mode=display\">\\newcommand{\\Bold}[1]{\\mathbf{#1}}\\left[\\left(1, \\left[\\left(0,\\,0,\\,1,\\,0\\right), \\left(0,\\,0,\\,0,\\,1\\right)\\right], 2\\right), \\left(-0.618033988749895?, \\left[\\left(1,\\,0.618033988749895?,\\,0,\\,0\\right)\\right], 1\\right), \\left(1.618033988749895?, \\left[\\left(1,\\,-1.618033988749895?,\\,0,\\,0\\right)\\right], 1\\right)\\right]</script></html>"
      ],
      "text/plain": [
       "[(1, [\n",
       "  (0, 0, 1, 0),\n",
       "  (0, 0, 0, 1)\n",
       "  ], 2),\n",
       " (-0.618033988749895?, [(1, 0.618033988749895?, 0, 0)], 1),\n",
       " (1.618033988749895?, [(1, -1.618033988749895?, 0, 0)], 1)]"
      ]
     },
     "metadata": {},
     "output_type": "display_data"
    }
   ],
   "source": [
    "show(A.eigenvectors_right())"
   ]
  },
  {
   "cell_type": "code",
   "execution_count": 110,
   "metadata": {},
   "outputs": [
    {
     "data": {
      "text/plain": [
       "[1, 1, -0.618033988749895?, 1.618033988749895?]"
      ]
     },
     "execution_count": 110,
     "metadata": {},
     "output_type": "execute_result"
    }
   ],
   "source": [
    "A.eigenvalues()"
   ]
  },
  {
   "cell_type": "markdown",
   "metadata": {},
   "source": [
    "En el caso de $m > 0$ tenemos $$(r,i) = (4,1)$$, que es un elipsoide."
   ]
  },
  {
   "cell_type": "code",
   "execution_count": 111,
   "metadata": {},
   "outputs": [
    {
     "data": {
      "text/html": [
       "<html><script type=\"math/tex; mode=display\">\\newcommand{\\Bold}[1]{\\mathbf{#1}}\\left(\\begin{array}{rrrr}\n",
       "0 & 1 & 0 & 0 \\\\\n",
       "1 & 1 & 0 & 0 \\\\\n",
       "0 & 0 & 1 & 0 \\\\\n",
       "0 & 0 & 0 & 1\n",
       "\\end{array}\\right)</script></html>"
      ],
      "text/plain": [
       "[0 1 0 0]\n",
       "[1 1 0 0]\n",
       "[0 0 1 0]\n",
       "[0 0 0 1]"
      ]
     },
     "metadata": {},
     "output_type": "display_data"
    }
   ],
   "source": [
    "A = matrix([[0,1,0,0],[1,1,0,0],[0,0,1,0],[0,0,0,1]])\n",
    "show(A)"
   ]
  },
  {
   "cell_type": "code",
   "execution_count": 112,
   "metadata": {},
   "outputs": [
    {
     "data": {
      "text/html": [
       "<html><script type=\"math/tex; mode=display\">\\newcommand{\\Bold}[1]{\\mathbf{#1}}\\left[\\left(1, \\left[\\left(0,\\,0,\\,1,\\,0\\right), \\left(0,\\,0,\\,0,\\,1\\right)\\right], 2\\right), \\left(-0.618033988749895?, \\left[\\left(1,\\,-0.618033988749895?,\\,0,\\,0\\right)\\right], 1\\right), \\left(1.618033988749895?, \\left[\\left(1,\\,1.618033988749895?,\\,0,\\,0\\right)\\right], 1\\right)\\right]</script></html>"
      ],
      "text/plain": [
       "[(1, [\n",
       "  (0, 0, 1, 0),\n",
       "  (0, 0, 0, 1)\n",
       "  ], 2),\n",
       " (-0.618033988749895?, [(1, -0.618033988749895?, 0, 0)], 1),\n",
       " (1.618033988749895?, [(1, 1.618033988749895?, 0, 0)], 1)]"
      ]
     },
     "metadata": {},
     "output_type": "display_data"
    }
   ],
   "source": [
    "show(A.eigenvectors_right())"
   ]
  },
  {
   "cell_type": "code",
   "execution_count": 113,
   "metadata": {},
   "outputs": [
    {
     "data": {
      "text/plain": [
       "[1, 1, -0.618033988749895?, 1.618033988749895?]"
      ]
     },
     "execution_count": 113,
     "metadata": {},
     "output_type": "execute_result"
    }
   ],
   "source": [
    "A.eigenvalues()"
   ]
  },
  {
   "cell_type": "markdown",
   "metadata": {},
   "source": [
    "En este caso de $m < 0$, igual."
   ]
  },
  {
   "cell_type": "markdown",
   "metadata": {},
   "source": [
    "##### (b) Probar que todas las cuádricas no singulares de la familia tienen un único punto común y que todas tienen el mismo plano tangente en dicho punto."
   ]
  },
  {
   "cell_type": "markdown",
   "metadata": {},
   "source": [
    "Las cuádricas no singulares son aquellas con $m \\neq 0$. Por tanto cojamos dos de ellas, veamos el punto de tangencia, luego comprobemos que es punto en común entre todas y por último veamos que todas tienen el mismo plano tangente en ese punto:"
   ]
  },
  {
   "cell_type": "code",
   "execution_count": 115,
   "metadata": {},
   "outputs": [],
   "source": [
    "f1(x,y,z) = x^2+y^2+z^2-2*x\n",
    "f2(x,y,z) = x^2+y^2+z^2+2*x"
   ]
  },
  {
   "cell_type": "code",
   "execution_count": 116,
   "metadata": {},
   "outputs": [
    {
     "data": {
      "text/plain": [
       "[[x == 0, y == r2, z == r1]]"
      ]
     },
     "execution_count": 116,
     "metadata": {},
     "output_type": "execute_result"
    }
   ],
   "source": [
    "solve(f1(x,y,z) == f2(x,y,z),x,y,z)"
   ]
  },
  {
   "cell_type": "markdown",
   "metadata": {},
   "source": [
    "Todas las cuádricas no singulares tienen el plano tangente $x = 0$, o plano YZ. Y son tangentes por el mismo punto, que es:"
   ]
  },
  {
   "cell_type": "code",
   "execution_count": 118,
   "metadata": {
    "scrolled": true
   },
   "outputs": [
    {
     "data": {
      "text/plain": [
       "[[y == r5, z == I*r5], [y == r6, z == -I*r6]]"
      ]
     },
     "execution_count": 118,
     "metadata": {},
     "output_type": "execute_result"
    }
   ],
   "source": [
    "solve(y^2+z^2 == 0,y,z)"
   ]
  },
  {
   "cell_type": "markdown",
   "metadata": {},
   "source": [
    "El único punto real posible es el (0,0,0)."
   ]
  },
  {
   "cell_type": "code",
   "execution_count": null,
   "metadata": {},
   "outputs": [],
   "source": []
  }
 ],
 "metadata": {
  "kernelspec": {
   "display_name": "SageMath 9.1",
   "language": "sage",
   "name": "sagemath"
  },
  "language_info": {
   "codemirror_mode": {
    "name": "ipython",
    "version": 3
   },
   "file_extension": ".py",
   "mimetype": "text/x-python",
   "name": "python",
   "nbconvert_exporter": "python",
   "pygments_lexer": "ipython3",
   "version": "3.7.3"
  }
 },
 "nbformat": 4,
 "nbformat_minor": 4
}
