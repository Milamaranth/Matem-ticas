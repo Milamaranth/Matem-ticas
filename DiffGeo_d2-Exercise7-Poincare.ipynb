{
 "cells": [
  {
   "cell_type": "markdown",
   "metadata": {},
   "source": [
    "# Differential Geometry Computations\n",
    "\n",
    "This notebook is based on the original notebook: https://nbviewer.jupyter.org/github/sagemanifolds/SageManifolds/blob/master/Notebooks/SM_basic_Schwarzschild.ipynb\n",
    "\n",
    "In this notebook we will use the metric of the two-dimensional euclidean space in polar coordinates. The corresponding tools have been developed within the [SageManifolds](https://sagemanifolds.obspm.fr) project.\n",
    "\n",
    "For a given metric $g_{\\mu\\nu}$ we can compute:\n",
    "- The inverse metric: $g^{\\mu\\nu}$.\n",
    "- Christoffel Symbols: ${\\Gamma^{\\lambda}}_{\\mu\\nu}= \\frac{1}{2}g^{\\lambda\\sigma}\\left(\\partial_\\mu g_{\\sigma\\nu}+\\partial_\\nu g_{\\sigma\\mu}-\\partial_\\sigma g_{\\mu\\nu} \\right)$.\n",
    "- Riemann tensor: ${R^\\lambda}_{\\mu\\nu\\sigma}=\\partial_\\nu {\\Gamma^\\lambda}_{\\mu\\sigma}-\\partial_\\sigma {\\Gamma^\\lambda}_{\\mu\\nu}+\\Gamma^\\eta_{\\mu\\sigma}\\Gamma^\\lambda_{\\eta\\nu}-\\Gamma^\\eta_{\\mu\\nu}\\Gamma^\\lambda_{\\eta\\sigma}$.\n",
    "- Ricci tensor: $R_{\\mu\\nu} = {R^\\lambda}_{\\mu\\lambda\\nu}$.\n",
    "- Scalar curvature: $R = g^{\\mu\\nu}R_{\\mu\\nu}$.\n",
    "- Einstein tensor: $G_{\\mu\\nu} = R_{\\mu\\nu}-\\frac{1}{2}g_{\\mu\\nu}R$.\n",
    "\n",
    "Although the notebook is created for $d$ dimensions, it can be generalized to whatever $d$ dimensional non-Lorentzian metric.\n",
    "\n",
    "To run it, you must start SageMath with the Jupyter interface, via the command `sage -n jupyter`"
   ]
  },
  {
   "cell_type": "code",
   "execution_count": 1,
   "metadata": {},
   "outputs": [],
   "source": [
    "version() #Sage version\n",
    "%display latex #To display LaTeX expressions in some outputs"
   ]
  },
  {
   "cell_type": "markdown",
   "metadata": {},
   "source": [
    "## Differentiable manifold\n",
    "\n",
    "We define our differentiable manifold. The method `Manifold()` must receive the following arguments: $d$ dimensions of the manifold, and name of the manifold."
   ]
  },
  {
   "cell_type": "code",
   "execution_count": 2,
   "metadata": {},
   "outputs": [
    {
     "name": "stdout",
     "output_type": "stream",
     "text": [
      "2-dimensional differentiable manifold M\n"
     ]
    }
   ],
   "source": [
    "d=2 #space dimensions\n",
    "M = Manifold(d, 'M')\n",
    "print(M)"
   ]
  },
  {
   "cell_type": "markdown",
   "metadata": {},
   "source": [
    "## List of coordinates\n",
    "\n",
    "We must define our coordinates via the method `chart()` applied to the object `M` (our manifold). Note that the argument of `chart()` is a raw string (hence the prefix `r` in front of it), which \n",
    "defines the range of each coordinate, if different from $(-\\infty, +\\infty)$, as well as its LaTeX symbol, if different from the Python symbol to denote the coordinate. The Python variables for each coordinate are declared within the `<...>` operator on the left-hand side of the identity, `X` denoting the Python variable chosen for the coordinate chart.\n",
    "\n",
    "Poincaré coordinates are the following:\n",
    "$$\n",
    "    x\\in (-\\infty,+\\infty), \\quad y\\in(0,+\\infty).\n",
    "$$"
   ]
  },
  {
   "cell_type": "code",
   "execution_count": 3,
   "metadata": {},
   "outputs": [
    {
     "data": {
      "text/html": [
       "<html><script type=\"math/tex; mode=display\">\\newcommand{\\Bold}[1]{\\mathbf{#1}}\\left(M,(x, y)\\right)</script></html>"
      ],
      "text/latex": [
       "\\begin{math}\n",
       "\\newcommand{\\Bold}[1]{\\mathbf{#1}}\\left(M,(x, y)\\right)\n",
       "\\end{math}"
      ],
      "text/plain": [
       "Chart (M, (x, y))"
      ]
     },
     "execution_count": 3,
     "metadata": {},
     "output_type": "execute_result"
    }
   ],
   "source": [
    "X.<x,y> = M.chart(r\"x y:(0,+oo)\")\n",
    "X"
   ]
  },
  {
   "cell_type": "code",
   "execution_count": 4,
   "metadata": {},
   "outputs": [
    {
     "data": {
      "text/html": [
       "<html><script type=\"math/tex; mode=display\">\\newcommand{\\Bold}[1]{\\mathbf{#1}}\\left(x, y\\right)</script></html>"
      ],
      "text/latex": [
       "\\begin{math}\n",
       "\\newcommand{\\Bold}[1]{\\mathbf{#1}}\\left(x, y\\right)\n",
       "\\end{math}"
      ],
      "text/plain": [
       "(x, y)"
      ]
     },
     "execution_count": 4,
     "metadata": {},
     "output_type": "execute_result"
    }
   ],
   "source": [
    "X[:]"
   ]
  },
  {
   "cell_type": "markdown",
   "metadata": {},
   "source": [
    "The coordinates follows the same indexing: $X^0=r$, $X^1=\\theta$."
   ]
  },
  {
   "cell_type": "code",
   "execution_count": 5,
   "metadata": {},
   "outputs": [
    {
     "data": {
      "text/html": [
       "<html><script type=\"math/tex; mode=display\">\\newcommand{\\Bold}[1]{\\mathbf{#1}}\\left(x, y\\right)</script></html>"
      ],
      "text/latex": [
       "\\begin{math}\n",
       "\\newcommand{\\Bold}[1]{\\mathbf{#1}}\\left(x, y\\right)\n",
       "\\end{math}"
      ],
      "text/plain": [
       "(x, y)"
      ]
     },
     "execution_count": 5,
     "metadata": {},
     "output_type": "execute_result"
    }
   ],
   "source": [
    "X[0],X[1]"
   ]
  },
  {
   "cell_type": "markdown",
   "metadata": {},
   "source": [
    "## Metric tensor $g_{\\mu\\nu}$.\n",
    "\n",
    "If we want to introduce a constant parameter $m$ as a symbolic positive variable, it must be done via the function `var()`:"
   ]
  },
  {
   "cell_type": "code",
   "execution_count": 6,
   "metadata": {},
   "outputs": [],
   "source": [
    "#m = var('m') #To uncomment delete #\n",
    "#r = var('r')\n",
    "#assume(r>0) #To uncomment delete #"
   ]
  },
  {
   "cell_type": "markdown",
   "metadata": {},
   "source": [
    "The metric tensor of the manifold `M` is returned by the method `metric()`; we initialize its components in the chart `X`, which is the default (unique) chart on `M`:"
   ]
  },
  {
   "cell_type": "code",
   "execution_count": 7,
   "metadata": {},
   "outputs": [
    {
     "data": {
      "text/html": [
       "<html><script type=\"math/tex; mode=display\">\\newcommand{\\Bold}[1]{\\mathbf{#1}}g = \\frac{1}{y^{2}} \\mathrm{d} x\\otimes \\mathrm{d} x + \\frac{1}{y^{2}} \\mathrm{d} y\\otimes \\mathrm{d} y</script></html>"
      ],
      "text/latex": [
       "\\begin{math}\n",
       "\\newcommand{\\Bold}[1]{\\mathbf{#1}}g = \\frac{1}{y^{2}} \\mathrm{d} x\\otimes \\mathrm{d} x + \\frac{1}{y^{2}} \\mathrm{d} y\\otimes \\mathrm{d} y\n",
       "\\end{math}"
      ],
      "text/plain": [
       "g = y^(-2) dx*dx + y^(-2) dy*dy"
      ]
     },
     "execution_count": 7,
     "metadata": {},
     "output_type": "execute_result"
    }
   ],
   "source": [
    "g = M.metric('g')\n",
    "g[0,0] = 1/y^2\n",
    "g[1,1] = 1/y^2\n",
    "g.display()"
   ]
  },
  {
   "cell_type": "markdown",
   "metadata": {},
   "source": [
    "To display the metric as a matrix:"
   ]
  },
  {
   "cell_type": "code",
   "execution_count": 8,
   "metadata": {},
   "outputs": [
    {
     "data": {
      "text/html": [
       "<html><script type=\"math/tex; mode=display\">\\newcommand{\\Bold}[1]{\\mathbf{#1}}\\left(\\begin{array}{rr}\n",
       "\\frac{1}{y^{2}} & 0 \\\\\n",
       "0 & \\frac{1}{y^{2}}\n",
       "\\end{array}\\right)</script></html>"
      ],
      "text/latex": [
       "\\begin{math}\n",
       "\\newcommand{\\Bold}[1]{\\mathbf{#1}}\\left(\\begin{array}{rr}\n",
       "\\frac{1}{y^{2}} & 0 \\\\\n",
       "0 & \\frac{1}{y^{2}}\n",
       "\\end{array}\\right)\n",
       "\\end{math}"
      ],
      "text/plain": [
       "[y^(-2)      0]\n",
       "[     0 y^(-2)]"
      ]
     },
     "execution_count": 8,
     "metadata": {},
     "output_type": "execute_result"
    }
   ],
   "source": [
    "g[:]"
   ]
  },
  {
   "cell_type": "markdown",
   "metadata": {},
   "source": [
    "In order to access to a the component of the metric with components $(\\mu,\\nu)$ we would write: `g[mu,nu]`. Where `mu` and `nu` are integer variables such that $\\mu,\\nu \\in \\{0,\\dots,d\\}$, where $\\{r,\\theta\\}\\equiv\\{0,1\\}$ for our case. Here, we display the component $g_{rr}$."
   ]
  },
  {
   "cell_type": "code",
   "execution_count": 9,
   "metadata": {},
   "outputs": [
    {
     "data": {
      "text/html": [
       "<html><script type=\"math/tex; mode=display\">\\newcommand{\\Bold}[1]{\\mathbf{#1}}\\frac{1}{y^{2}}</script></html>"
      ],
      "text/latex": [
       "\\begin{math}\n",
       "\\newcommand{\\Bold}[1]{\\mathbf{#1}}\\frac{1}{y^{2}}\n",
       "\\end{math}"
      ],
      "text/plain": [
       "y^(-2)"
      ]
     },
     "execution_count": 9,
     "metadata": {},
     "output_type": "execute_result"
    }
   ],
   "source": [
    "g[0,0]"
   ]
  },
  {
   "cell_type": "markdown",
   "metadata": {},
   "source": [
    "The inverse metric can be computed via `g.inverse()`."
   ]
  },
  {
   "cell_type": "code",
   "execution_count": 10,
   "metadata": {},
   "outputs": [
    {
     "data": {
      "text/html": [
       "<html><script type=\"math/tex; mode=display\">\\newcommand{\\Bold}[1]{\\mathbf{#1}}g^{-1}</script></html>"
      ],
      "text/latex": [
       "\\begin{math}\n",
       "\\newcommand{\\Bold}[1]{\\mathbf{#1}}g^{-1}\n",
       "\\end{math}"
      ],
      "text/plain": [
       "Tensor field inv_g of type (2,0) on the 2-dimensional differentiable manifold M"
      ]
     },
     "execution_count": 10,
     "metadata": {},
     "output_type": "execute_result"
    }
   ],
   "source": [
    "ginv=g.inverse(); ginv"
   ]
  },
  {
   "cell_type": "code",
   "execution_count": 11,
   "metadata": {},
   "outputs": [
    {
     "data": {
      "text/html": [
       "<html><script type=\"math/tex; mode=display\">\\newcommand{\\Bold}[1]{\\mathbf{#1}}g^{-1} = y^{2} \\frac{\\partial}{\\partial x }\\otimes \\frac{\\partial}{\\partial x } + y^{2} \\frac{\\partial}{\\partial y }\\otimes \\frac{\\partial}{\\partial y }</script></html>"
      ],
      "text/latex": [
       "\\begin{math}\n",
       "\\newcommand{\\Bold}[1]{\\mathbf{#1}}g^{-1} = y^{2} \\frac{\\partial}{\\partial x }\\otimes \\frac{\\partial}{\\partial x } + y^{2} \\frac{\\partial}{\\partial y }\\otimes \\frac{\\partial}{\\partial y }\n",
       "\\end{math}"
      ],
      "text/plain": [
       "inv_g = y^2 d/dx*d/dx + y^2 d/dy*d/dy"
      ]
     },
     "execution_count": 11,
     "metadata": {},
     "output_type": "execute_result"
    }
   ],
   "source": [
    "ginv.display()"
   ]
  },
  {
   "cell_type": "code",
   "execution_count": 12,
   "metadata": {},
   "outputs": [
    {
     "data": {
      "text/html": [
       "<html><script type=\"math/tex; mode=display\">\\newcommand{\\Bold}[1]{\\mathbf{#1}}\\left(\\begin{array}{rr}\n",
       "y^{2} & 0 \\\\\n",
       "0 & y^{2}\n",
       "\\end{array}\\right)</script></html>"
      ],
      "text/latex": [
       "\\begin{math}\n",
       "\\newcommand{\\Bold}[1]{\\mathbf{#1}}\\left(\\begin{array}{rr}\n",
       "y^{2} & 0 \\\\\n",
       "0 & y^{2}\n",
       "\\end{array}\\right)\n",
       "\\end{math}"
      ],
      "text/plain": [
       "[y^2   0]\n",
       "[  0 y^2]"
      ]
     },
     "execution_count": 12,
     "metadata": {},
     "output_type": "execute_result"
    }
   ],
   "source": [
    "ginv[:]"
   ]
  },
  {
   "cell_type": "markdown",
   "metadata": {},
   "source": [
    "If we multiply both matrices, we should get the $d\\times d$ identity matrix"
   ]
  },
  {
   "cell_type": "code",
   "execution_count": 13,
   "metadata": {},
   "outputs": [],
   "source": [
    "delta = g['_{ab}']*ginv['^{bc}']"
   ]
  },
  {
   "cell_type": "code",
   "execution_count": 14,
   "metadata": {},
   "outputs": [
    {
     "data": {
      "text/html": [
       "<html><script type=\"math/tex; mode=display\">\\newcommand{\\Bold}[1]{\\mathbf{#1}}\\left(\\begin{array}{rr}\n",
       "1 & 0 \\\\\n",
       "0 & 1\n",
       "\\end{array}\\right)</script></html>"
      ],
      "text/latex": [
       "\\begin{math}\n",
       "\\newcommand{\\Bold}[1]{\\mathbf{#1}}\\left(\\begin{array}{rr}\n",
       "1 & 0 \\\\\n",
       "0 & 1\n",
       "\\end{array}\\right)\n",
       "\\end{math}"
      ],
      "text/plain": [
       "[1 0]\n",
       "[0 1]"
      ]
     },
     "execution_count": 14,
     "metadata": {},
     "output_type": "execute_result"
    }
   ],
   "source": [
    "delta[:]"
   ]
  },
  {
   "cell_type": "markdown",
   "metadata": {},
   "source": [
    "## Christoffel symbols ${\\Gamma^{\\lambda}}_{\\mu\\nu}$.\n",
    "\n",
    "The Christoffel symbols of $g$ with respect to the given coordinates are\n",
    "printed by the method `christoffel_symbols_display()` applied to the metric object `g`. By \n",
    "default, only the nonzero symbols and the nonredundant ones (taking into account the symmetry of the last two indices) are displayed. Type `g.christoffel_symbols_display?` to see all possible options."
   ]
  },
  {
   "cell_type": "code",
   "execution_count": 15,
   "metadata": {},
   "outputs": [
    {
     "data": {
      "text/html": [
       "<html><script type=\"math/tex; mode=display\">\\newcommand{\\Bold}[1]{\\mathbf{#1}}\\begin{array}{lcl} \\Gamma_{ \\phantom{\\, x} \\, x \\, y }^{ \\, x \\phantom{\\, x} \\phantom{\\, y} } & = & -\\frac{1}{y} \\\\ \\Gamma_{ \\phantom{\\, y} \\, x \\, x }^{ \\, y \\phantom{\\, x} \\phantom{\\, x} } & = & \\frac{1}{y} \\\\ \\Gamma_{ \\phantom{\\, y} \\, y \\, y }^{ \\, y \\phantom{\\, y} \\phantom{\\, y} } & = & -\\frac{1}{y} \\end{array}</script></html>"
      ],
      "text/latex": [
       "\\begin{math}\n",
       "\\newcommand{\\Bold}[1]{\\mathbf{#1}}\\begin{array}{lcl} \\Gamma_{ \\phantom{\\, x} \\, x \\, y }^{ \\, x \\phantom{\\, x} \\phantom{\\, y} } & = & -\\frac{1}{y} \\\\ \\Gamma_{ \\phantom{\\, y} \\, x \\, x }^{ \\, y \\phantom{\\, x} \\phantom{\\, x} } & = & \\frac{1}{y} \\\\ \\Gamma_{ \\phantom{\\, y} \\, y \\, y }^{ \\, y \\phantom{\\, y} \\phantom{\\, y} } & = & -\\frac{1}{y} \\end{array}\n",
       "\\end{math}"
      ],
      "text/plain": [
       "Gam^x_xy = -1/y \n",
       "Gam^y_xx = 1/y \n",
       "Gam^y_yy = -1/y "
      ]
     },
     "execution_count": 15,
     "metadata": {},
     "output_type": "execute_result"
    }
   ],
   "source": [
    "g.christoffel_symbols_display()"
   ]
  },
  {
   "cell_type": "markdown",
   "metadata": {},
   "source": [
    "Accessing to a Christoffel symbol specified by its indices (e.g. ${\\Gamma^r}_{\\theta\\,\\theta}$):"
   ]
  },
  {
   "cell_type": "code",
   "execution_count": 16,
   "metadata": {},
   "outputs": [
    {
     "data": {
      "text/html": [
       "<html><script type=\"math/tex; mode=display\">\\newcommand{\\Bold}[1]{\\mathbf{#1}}0</script></html>"
      ],
      "text/latex": [
       "\\begin{math}\n",
       "\\newcommand{\\Bold}[1]{\\mathbf{#1}}0\n",
       "\\end{math}"
      ],
      "text/plain": [
       "0"
      ]
     },
     "execution_count": 16,
     "metadata": {},
     "output_type": "execute_result"
    }
   ],
   "source": [
    "g.christoffel_symbols()[0,1,1]"
   ]
  },
  {
   "cell_type": "markdown",
   "metadata": {},
   "source": [
    "Checking the symmetry on the last two indices:"
   ]
  },
  {
   "cell_type": "code",
   "execution_count": 17,
   "metadata": {},
   "outputs": [
    {
     "data": {
      "text/html": [
       "<html><script type=\"math/tex; mode=display\">\\newcommand{\\Bold}[1]{\\mathbf{#1}}\\mathrm{True}</script></html>"
      ],
      "text/latex": [
       "\\begin{math}\n",
       "\\newcommand{\\Bold}[1]{\\mathbf{#1}}\\mathrm{True}\n",
       "\\end{math}"
      ],
      "text/plain": [
       "True"
      ]
     },
     "execution_count": 17,
     "metadata": {},
     "output_type": "execute_result"
    }
   ],
   "source": [
    "g.christoffel_symbols()[0,0,1] == g.christoffel_symbols()[0,1,0]"
   ]
  },
  {
   "cell_type": "markdown",
   "metadata": {},
   "source": [
    "## Riemann curvature tensor\n",
    "\n",
    "The Riemann curvature tensor is obtained by the method `riemann()`:"
   ]
  },
  {
   "cell_type": "code",
   "execution_count": 18,
   "metadata": {},
   "outputs": [
    {
     "name": "stdout",
     "output_type": "stream",
     "text": [
      "Tensor field Riem(g) of type (1,3) on the 2-dimensional differentiable manifold M\n"
     ]
    }
   ],
   "source": [
    "Riem = g.riemann()\n",
    "print(Riem)"
   ]
  },
  {
   "cell_type": "markdown",
   "metadata": {},
   "source": [
    "Displaying its nonredundant components:"
   ]
  },
  {
   "cell_type": "code",
   "execution_count": 19,
   "metadata": {},
   "outputs": [
    {
     "data": {
      "text/html": [
       "<html><script type=\"math/tex; mode=display\">\\newcommand{\\Bold}[1]{\\mathbf{#1}}\\begin{array}{lcl} \\mathrm{Riem}\\left(g\\right)_{ \\phantom{\\, x} \\, y \\, x \\, y }^{ \\, x \\phantom{\\, y} \\phantom{\\, x} \\phantom{\\, y} } & = & -\\frac{1}{y^{2}} \\\\ \\mathrm{Riem}\\left(g\\right)_{ \\phantom{\\, y} \\, x \\, x \\, y }^{ \\, y \\phantom{\\, x} \\phantom{\\, x} \\phantom{\\, y} } & = & \\frac{1}{y^{2}} \\end{array}</script></html>"
      ],
      "text/latex": [
       "\\begin{math}\n",
       "\\newcommand{\\Bold}[1]{\\mathbf{#1}}\\begin{array}{lcl} \\mathrm{Riem}\\left(g\\right)_{ \\phantom{\\, x} \\, y \\, x \\, y }^{ \\, x \\phantom{\\, y} \\phantom{\\, x} \\phantom{\\, y} } & = & -\\frac{1}{y^{2}} \\\\ \\mathrm{Riem}\\left(g\\right)_{ \\phantom{\\, y} \\, x \\, x \\, y }^{ \\, y \\phantom{\\, x} \\phantom{\\, x} \\phantom{\\, y} } & = & \\frac{1}{y^{2}} \\end{array}\n",
       "\\end{math}"
      ],
      "text/plain": [
       "Riem(g)^x_yxy = -1/y^2 \n",
       "Riem(g)^y_xxy = y^(-2) "
      ]
     },
     "execution_count": 19,
     "metadata": {},
     "output_type": "execute_result"
    }
   ],
   "source": [
    "Riem.display_comp(only_nonredundant=True) #If there is no elements displayed means that all of them are identically zero."
   ]
  },
  {
   "cell_type": "markdown",
   "metadata": {},
   "source": [
    "We can **lower and raise all the indices** of the components $R^\\lambda_{\\ \\, \\mu\\nu\\sigma}$ of the Riemann tensor, via the metric $g$ by the methods `down()` and `up()`."
   ]
  },
  {
   "cell_type": "code",
   "execution_count": 20,
   "metadata": {},
   "outputs": [],
   "source": [
    "Riemdown = Riem.down(g);\n",
    "Riemup = Riem.up(g);"
   ]
  },
  {
   "cell_type": "markdown",
   "metadata": {},
   "source": [
    "In order to raise and lower just one index, one should use the metric. That is, ${R^{\\lambda\\mu}}_{\\nu\\sigma}={R^{\\lambda}}_{\\alpha\\nu\\sigma} g^{\\alpha\\mu}$."
   ]
  },
  {
   "cell_type": "code",
   "execution_count": 21,
   "metadata": {},
   "outputs": [
    {
     "data": {
      "text/html": [
       "<html><script type=\"math/tex; mode=display\">\\newcommand{\\Bold}[1]{\\mathbf{#1}}\\begin{array}{lcl} X_{ \\phantom{\\, x}\\phantom{\\, y} \\, x \\, y }^{ \\, x \\, y \\phantom{\\, x} \\phantom{\\, y} } & = & -1 \\\\ X_{ \\phantom{\\, y}\\phantom{\\, x} \\, x \\, y }^{ \\, y \\, x \\phantom{\\, x} \\phantom{\\, y} } & = & 1 \\end{array}</script></html>"
      ],
      "text/latex": [
       "\\begin{math}\n",
       "\\newcommand{\\Bold}[1]{\\mathbf{#1}}\\begin{array}{lcl} X_{ \\phantom{\\, x}\\phantom{\\, y} \\, x \\, y }^{ \\, x \\, y \\phantom{\\, x} \\phantom{\\, y} } & = & -1 \\\\ X_{ \\phantom{\\, y}\\phantom{\\, x} \\, x \\, y }^{ \\, y \\, x \\phantom{\\, x} \\phantom{\\, y} } & = & 1 \\end{array}\n",
       "\\end{math}"
      ],
      "text/plain": [
       "X^xy_xy = -1 \n",
       "X^yx_xy = 1 "
      ]
     },
     "execution_count": 21,
     "metadata": {},
     "output_type": "execute_result"
    }
   ],
   "source": [
    "Rup2down2 = Riem['^a_{bcd}']*ginv['^{be}']\n",
    "Rup2down2.display_comp(only_nonredundant=True)"
   ]
  },
  {
   "cell_type": "markdown",
   "metadata": {},
   "source": [
    "Notice that the $X$ tensor is the Riemann tensor."
   ]
  },
  {
   "cell_type": "markdown",
   "metadata": {},
   "source": [
    "## Ricci tensor\n",
    "\n",
    "We know that the Ricci tensor is computed via the Riemann curvature tensor: $R_{\\mu\\nu}={R^\\lambda}_{\\mu\\lambda\\nu}$. However, Sage can give us directly the Ricci tensor from the metric $g$ with the method `g.ricci()`."
   ]
  },
  {
   "cell_type": "code",
   "execution_count": 22,
   "metadata": {},
   "outputs": [],
   "source": [
    "Ric = g.ricci()"
   ]
  },
  {
   "cell_type": "code",
   "execution_count": 23,
   "metadata": {},
   "outputs": [
    {
     "data": {
      "text/html": [
       "<html><script type=\"math/tex; mode=display\">\\newcommand{\\Bold}[1]{\\mathbf{#1}}\\mathrm{Ric}\\left(g\\right) = -\\frac{1}{y^{2}} \\mathrm{d} x\\otimes \\mathrm{d} x -\\frac{1}{y^{2}} \\mathrm{d} y\\otimes \\mathrm{d} y</script></html>"
      ],
      "text/latex": [
       "\\begin{math}\n",
       "\\newcommand{\\Bold}[1]{\\mathbf{#1}}\\mathrm{Ric}\\left(g\\right) = -\\frac{1}{y^{2}} \\mathrm{d} x\\otimes \\mathrm{d} x -\\frac{1}{y^{2}} \\mathrm{d} y\\otimes \\mathrm{d} y\n",
       "\\end{math}"
      ],
      "text/plain": [
       "Ric(g) = -1/y^2 dx*dx - 1/y^2 dy*dy"
      ]
     },
     "execution_count": 23,
     "metadata": {},
     "output_type": "execute_result"
    }
   ],
   "source": [
    "Ric.display()"
   ]
  },
  {
   "cell_type": "code",
   "execution_count": 24,
   "metadata": {},
   "outputs": [
    {
     "data": {
      "text/html": [
       "<html><script type=\"math/tex; mode=display\">\\newcommand{\\Bold}[1]{\\mathbf{#1}}\\left(\\begin{array}{rr}\n",
       "-\\frac{1}{y^{2}} & 0 \\\\\n",
       "0 & -\\frac{1}{y^{2}}\n",
       "\\end{array}\\right)</script></html>"
      ],
      "text/latex": [
       "\\begin{math}\n",
       "\\newcommand{\\Bold}[1]{\\mathbf{#1}}\\left(\\begin{array}{rr}\n",
       "-\\frac{1}{y^{2}} & 0 \\\\\n",
       "0 & -\\frac{1}{y^{2}}\n",
       "\\end{array}\\right)\n",
       "\\end{math}"
      ],
      "text/plain": [
       "[-1/y^2      0]\n",
       "[     0 -1/y^2]"
      ]
     },
     "execution_count": 24,
     "metadata": {},
     "output_type": "execute_result"
    }
   ],
   "source": [
    "Ric[:]"
   ]
  },
  {
   "cell_type": "markdown",
   "metadata": {},
   "source": [
    "Let us check that the definition of the Ricci tensor via the contraction of the Riemann tensor and the one given by the Sage method `g.ricci()` coincides. "
   ]
  },
  {
   "cell_type": "code",
   "execution_count": 25,
   "metadata": {},
   "outputs": [
    {
     "data": {
      "text/html": [
       "<html><script type=\"math/tex; mode=display\">\\newcommand{\\Bold}[1]{\\mathbf{#1}}\\mathrm{True}</script></html>"
      ],
      "text/latex": [
       "\\begin{math}\n",
       "\\newcommand{\\Bold}[1]{\\mathbf{#1}}\\mathrm{True}\n",
       "\\end{math}"
      ],
      "text/plain": [
       "True"
      ]
     },
     "execution_count": 25,
     "metadata": {},
     "output_type": "execute_result"
    }
   ],
   "source": [
    "Ric == Riem.down(g)['_{abcd}']*ginv['^{ac}']"
   ]
  },
  {
   "cell_type": "markdown",
   "metadata": {},
   "source": [
    "## Calculating the Scalar Curvature\n",
    "\n",
    "It is computed by the contraction of theinverse metric and the Ricci tensor, i.e., $R = g^{\\mu\\nu} R_{\\mu\\nu}$."
   ]
  },
  {
   "cell_type": "code",
   "execution_count": 26,
   "metadata": {},
   "outputs": [
    {
     "data": {
      "text/html": [
       "<html><script type=\"math/tex; mode=display\">\\newcommand{\\Bold}[1]{\\mathbf{#1}}-2</script></html>"
      ],
      "text/latex": [
       "\\begin{math}\n",
       "\\newcommand{\\Bold}[1]{\\mathbf{#1}}-2\n",
       "\\end{math}"
      ],
      "text/plain": [
       "-2"
      ]
     },
     "execution_count": 26,
     "metadata": {},
     "output_type": "execute_result"
    }
   ],
   "source": [
    "ScalarCurvature=ginv['^{ab}']*Ric['_ab']; ScalarCurvature.expr()"
   ]
  },
  {
   "cell_type": "markdown",
   "metadata": {},
   "source": [
    "## Kretschmann scalar\n",
    "\n",
    "The Kretschmann scalar is the \"square\" of the Riemann tensor defined by \n",
    "$$ K = R_{\\lambda\\mu\\nu\\sigma} R^{\\lambda\\mu\\nu\\sigma}$$\n",
    "To compute it, we must first form the tensor fields whose components are $R_{\\lambda\\mu\\nu\\sigma}$ and \n",
    "$R^{\\lambda\\mu\\nu\\sigma}$. They are obtained by respectively lowering and raising the indices of the components $R^\\lambda_{\\ \\, \\mu\\nu\\sigma}$ of the Riemann tensor, via the metric $g$. These two operations are performed by the methods `down()` and `up()`. The contraction is performed by summation on repeated indices:"
   ]
  },
  {
   "cell_type": "code",
   "execution_count": 27,
   "metadata": {},
   "outputs": [
    {
     "data": {
      "text/html": [
       "<html><script type=\"math/tex; mode=display\">\\newcommand{\\Bold}[1]{\\mathbf{#1}}\\mbox{Scalar field on the 2-dimensional differentiable manifold M}</script></html>"
      ],
      "text/latex": [
       "\\begin{math}\n",
       "\\newcommand{\\Bold}[1]{\\mathbf{#1}}\\mbox{Scalar field on the 2-dimensional differentiable manifold M}\n",
       "\\end{math}"
      ],
      "text/plain": [
       "Scalar field on the 2-dimensional differentiable manifold M"
      ]
     },
     "execution_count": 27,
     "metadata": {},
     "output_type": "execute_result"
    }
   ],
   "source": [
    "K = Riem.down(g)['_{abcd}'] * Riem.up(g)['^{abcd}']\n",
    "K"
   ]
  },
  {
   "cell_type": "code",
   "execution_count": 28,
   "metadata": {},
   "outputs": [
    {
     "data": {
      "text/html": [
       "<html><script type=\"math/tex; mode=display\">\\newcommand{\\Bold}[1]{\\mathbf{#1}}\\begin{array}{llcl} & M & \\longrightarrow & \\mathbb{R} \\\\ & \\left(x, y\\right) & \\longmapsto & 4 \\end{array}</script></html>"
      ],
      "text/latex": [
       "\\begin{math}\n",
       "\\newcommand{\\Bold}[1]{\\mathbf{#1}}\\begin{array}{llcl} & M & \\longrightarrow & \\mathbb{R} \\\\ & \\left(x, y\\right) & \\longmapsto & 4 \\end{array}\n",
       "\\end{math}"
      ],
      "text/plain": [
       "M --> R\n",
       "(x, y) |--> 4"
      ]
     },
     "execution_count": 28,
     "metadata": {},
     "output_type": "execute_result"
    }
   ],
   "source": [
    "K.display()"
   ]
  },
  {
   "cell_type": "code",
   "execution_count": 29,
   "metadata": {},
   "outputs": [
    {
     "data": {
      "text/html": [
       "<html><script type=\"math/tex; mode=display\">\\newcommand{\\Bold}[1]{\\mathbf{#1}}4</script></html>"
      ],
      "text/latex": [
       "\\begin{math}\n",
       "\\newcommand{\\Bold}[1]{\\mathbf{#1}}4\n",
       "\\end{math}"
      ],
      "text/plain": [
       "4"
      ]
     },
     "execution_count": 29,
     "metadata": {},
     "output_type": "execute_result"
    }
   ],
   "source": [
    "K.expr()"
   ]
  },
  {
   "cell_type": "markdown",
   "metadata": {},
   "source": [
    "## Levi-Civita Connection\n",
    "\n",
    "The Levi-Civita Connection $\\nabla$ associated with the metric $g$."
   ]
  },
  {
   "cell_type": "code",
   "execution_count": 30,
   "metadata": {},
   "outputs": [
    {
     "name": "stdout",
     "output_type": "stream",
     "text": [
      "Levi-Civita connection nabla_g associated with the Riemannian metric g on the 2-dimensional differentiable manifold M\n"
     ]
    }
   ],
   "source": [
    "nab = g.connection() ; print(nab)"
   ]
  },
  {
   "cell_type": "markdown",
   "metadata": {},
   "source": [
    "We check the compatibility of the connection with the metric (that is, $\\nabla_g g=0$)."
   ]
  },
  {
   "cell_type": "code",
   "execution_count": 31,
   "metadata": {},
   "outputs": [
    {
     "data": {
      "text/html": [
       "<html><script type=\"math/tex; mode=display\">\\newcommand{\\Bold}[1]{\\mathbf{#1}}\\nabla_{g} g = 0</script></html>"
      ],
      "text/latex": [
       "\\begin{math}\n",
       "\\newcommand{\\Bold}[1]{\\mathbf{#1}}\\nabla_{g} g = 0\n",
       "\\end{math}"
      ],
      "text/plain": [
       "nabla_g(g) = 0"
      ]
     },
     "execution_count": 31,
     "metadata": {},
     "output_type": "execute_result"
    }
   ],
   "source": [
    "nab(g).display()"
   ]
  },
  {
   "cell_type": "code",
   "execution_count": 32,
   "metadata": {},
   "outputs": [],
   "source": [
    "#w = M.vector_field('w')"
   ]
  },
  {
   "cell_type": "markdown",
   "metadata": {},
   "source": [
    "Compute the covariant derivative of the vector $w = (r,r\\sin\\theta)$, $\\nabla_\\nu w^\\nu$."
   ]
  },
  {
   "cell_type": "code",
   "execution_count": 33,
   "metadata": {},
   "outputs": [],
   "source": [
    "#w[:] = [r,r*sin(th)]\n",
    "#print(nab(w))"
   ]
  },
  {
   "cell_type": "code",
   "execution_count": 34,
   "metadata": {},
   "outputs": [],
   "source": [
    "#DW = (nab(w)['^a_b']*delta['_a^b'])\n",
    "#DW.expr()"
   ]
  },
  {
   "cell_type": "markdown",
   "metadata": {},
   "source": [
    "Check that $\\nabla_\\nu w^\\nu = \\partial_\\nu w^\\nu + w^\\gamma {\\Gamma^{\\nu}}_{\\gamma \\nu}$."
   ]
  },
  {
   "cell_type": "code",
   "execution_count": 35,
   "metadata": {},
   "outputs": [],
   "source": [
    "#sum([w[i].diff(i)+w[i]*sum([g.christoffel_symbols()[j,i,j] for j in M.irange()]) for i in M.irange()])    "
   ]
  },
  {
   "cell_type": "code",
   "execution_count": null,
   "metadata": {},
   "outputs": [],
   "source": []
  }
 ],
 "metadata": {
  "document": {
   "authors": {
    "author1": {
     "email": "albertom@unex.es",
     "name": "Megias, Alberto"
    },
    "author2": {
     "email": "ruiz@unex.es",
     "name": "Ruiz-Lorenzo, Juan Jesus"
    }
   },
   "title": "Basic Computations in Differential Geometry with SageManifolds"
  },
  "kernelspec": {
   "display_name": "SageMath 9.1",
   "language": "sage",
   "name": "sagemath"
  },
  "language_info": {
   "codemirror_mode": {
    "name": "ipython",
    "version": 3
   },
   "file_extension": ".py",
   "mimetype": "text/x-python",
   "name": "python",
   "nbconvert_exporter": "python",
   "pygments_lexer": "ipython3",
   "version": "3.7.3"
  }
 },
 "nbformat": 4,
 "nbformat_minor": 4
}
