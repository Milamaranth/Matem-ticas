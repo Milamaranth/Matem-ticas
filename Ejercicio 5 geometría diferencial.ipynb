{
 "cells": [
  {
   "cell_type": "code",
   "execution_count": 33,
   "metadata": {},
   "outputs": [],
   "source": [
    "%display latex"
   ]
  },
  {
   "cell_type": "code",
   "execution_count": 34,
   "metadata": {},
   "outputs": [],
   "source": [
    "d=4 # dimensión\n",
    "M = Manifold(d, 'M')"
   ]
  },
  {
   "cell_type": "code",
   "execution_count": 35,
   "metadata": {},
   "outputs": [
    {
     "data": {
      "text/html": [
       "<html><script type=\"math/tex; mode=display\">\\newcommand{\\Bold}[1]{\\mathbf{#1}}\\left(M,(t, r, \\theta, \\phi)\\right)</script></html>"
      ],
      "text/plain": [
       "Chart (M, (t, r, theta, phi))"
      ]
     },
     "execution_count": 35,
     "metadata": {},
     "output_type": "execute_result"
    }
   ],
   "source": [
    "X.<t,r, theta, phi> = M.chart(r\" t r theta phi\")\n",
    "X"
   ]
  },
  {
   "cell_type": "code",
   "execution_count": 13,
   "metadata": {},
   "outputs": [
    {
     "data": {
      "text/html": [
       "<html><script type=\"math/tex; mode=display\">\\newcommand{\\Bold}[1]{\\mathbf{#1}}g = -f_{1} \\mathrm{d} t\\otimes \\mathrm{d} t + \\frac{1}{f_{1}} \\mathrm{d} r\\otimes \\mathrm{d} r + f_{2}^{2} \\mathrm{d} \\theta\\otimes \\mathrm{d} \\theta + f_{2}^{2} \\sin\\left(\\theta\\right)^{2} \\mathrm{d} \\phi\\otimes \\mathrm{d} \\phi</script></html>"
      ],
      "text/plain": [
       "g = -f1 dt*dt + 1/f1 dr*dr + f2^2 dtheta*dtheta + f2^2*sin(theta)^2 dphi*dphi"
      ]
     },
     "execution_count": 13,
     "metadata": {},
     "output_type": "execute_result"
    }
   ],
   "source": [
    "g = M.metric('g')\n",
    "f1 = var('f1')\n",
    "f2 = var('f2')\n",
    "g[0,0] = -f1\n",
    "g[1,1] = 1/f1\n",
    "g[2,2] = f2^2\n",
    "g[3,3] = f2^2*sin(theta)^2\n",
    "\n",
    "g.display()"
   ]
  },
  {
   "cell_type": "code",
   "execution_count": 14,
   "metadata": {},
   "outputs": [
    {
     "data": {
      "text/html": [
       "<html><script type=\"math/tex; mode=display\">\\newcommand{\\Bold}[1]{\\mathbf{#1}}\\begin{array}{lcl} \\Gamma_{ \\phantom{\\, \\theta} \\, \\phi \\, \\phi }^{ \\, \\theta \\phantom{\\, \\phi} \\phantom{\\, \\phi} } & = & -\\cos\\left(\\theta\\right) \\sin\\left(\\theta\\right) \\\\ \\Gamma_{ \\phantom{\\, \\phi} \\, \\theta \\, \\phi }^{ \\, \\phi \\phantom{\\, \\theta} \\phantom{\\, \\phi} } & = & \\frac{\\cos\\left(\\theta\\right)}{\\sin\\left(\\theta\\right)} \\end{array}</script></html>"
      ],
      "text/plain": [
       "Gam^theta_phi,phi = -cos(theta)*sin(theta) \n",
       "Gam^phi_theta,phi = cos(theta)/sin(theta) "
      ]
     },
     "execution_count": 14,
     "metadata": {},
     "output_type": "execute_result"
    }
   ],
   "source": [
    "g.christoffel_symbols_display()"
   ]
  },
  {
   "cell_type": "code",
   "execution_count": 22,
   "metadata": {},
   "outputs": [],
   "source": []
  },
  {
   "cell_type": "code",
   "execution_count": 36,
   "metadata": {},
   "outputs": [
    {
     "data": {
      "text/html": [
       "<html><script type=\"math/tex; mode=display\">\\newcommand{\\Bold}[1]{\\mathbf{#1}}g = \\left( \\frac{2 \\, G M}{r} - 1 \\right) \\mathrm{d} t\\otimes \\mathrm{d} t + \\left( -\\frac{1}{\\frac{2 \\, G M}{r} - 1} \\right) \\mathrm{d} r\\otimes \\mathrm{d} r + r^{2} \\mathrm{d} \\theta\\otimes \\mathrm{d} \\theta + r^{2} \\sin\\left(\\theta\\right)^{2} \\mathrm{d} \\phi\\otimes \\mathrm{d} \\phi</script></html>"
      ],
      "text/plain": [
       "g = (2*G*M/r - 1) dt*dt - 1/(2*G*M/r - 1) dr*dr + r^2 dtheta*dtheta + r^2*sin(theta)^2 dphi*dphi"
      ]
     },
     "execution_count": 36,
     "metadata": {},
     "output_type": "execute_result"
    }
   ],
   "source": [
    "g = M.metric('g')\n",
    "G = var('G')\n",
    "M = var('M')\n",
    "g[0,0] = -(1-2*G*M/r)\n",
    "g[1,1] = 1/(1-2*G*M/r)\n",
    "g[2,2] = r^2\n",
    "g[3,3] = r^2*sin(theta)^2\n",
    "\n",
    "g.display()"
   ]
  },
  {
   "cell_type": "code",
   "execution_count": 37,
   "metadata": {},
   "outputs": [
    {
     "data": {
      "text/html": [
       "<html><script type=\"math/tex; mode=display\">\\newcommand{\\Bold}[1]{\\mathbf{#1}}\\begin{array}{lcl} \\Gamma_{ \\phantom{\\, t} \\, t \\, r }^{ \\, t \\phantom{\\, t} \\phantom{\\, r} } & = & -\\frac{G M}{2 \\, G M r - r^{2}} \\\\ \\Gamma_{ \\phantom{\\, r} \\, t \\, t }^{ \\, r \\phantom{\\, t} \\phantom{\\, t} } & = & -\\frac{2 \\, G^{2} M^{2} - G M r}{r^{3}} \\\\ \\Gamma_{ \\phantom{\\, r} \\, r \\, r }^{ \\, r \\phantom{\\, r} \\phantom{\\, r} } & = & \\frac{G M}{2 \\, G M r - r^{2}} \\\\ \\Gamma_{ \\phantom{\\, r} \\, \\theta \\, \\theta }^{ \\, r \\phantom{\\, \\theta} \\phantom{\\, \\theta} } & = & 2 \\, G M - r \\\\ \\Gamma_{ \\phantom{\\, r} \\, \\phi \\, \\phi }^{ \\, r \\phantom{\\, \\phi} \\phantom{\\, \\phi} } & = & {\\left(2 \\, G M - r\\right)} \\sin\\left(\\theta\\right)^{2} \\\\ \\Gamma_{ \\phantom{\\, \\theta} \\, r \\, \\theta }^{ \\, \\theta \\phantom{\\, r} \\phantom{\\, \\theta} } & = & \\frac{1}{r} \\\\ \\Gamma_{ \\phantom{\\, \\theta} \\, \\phi \\, \\phi }^{ \\, \\theta \\phantom{\\, \\phi} \\phantom{\\, \\phi} } & = & -\\cos\\left(\\theta\\right) \\sin\\left(\\theta\\right) \\\\ \\Gamma_{ \\phantom{\\, \\phi} \\, r \\, \\phi }^{ \\, \\phi \\phantom{\\, r} \\phantom{\\, \\phi} } & = & \\frac{1}{r} \\\\ \\Gamma_{ \\phantom{\\, \\phi} \\, \\theta \\, \\phi }^{ \\, \\phi \\phantom{\\, \\theta} \\phantom{\\, \\phi} } & = & \\frac{\\cos\\left(\\theta\\right)}{\\sin\\left(\\theta\\right)} \\end{array}</script></html>"
      ],
      "text/plain": [
       "Gam^t_t,r = -G*M/(2*G*M*r - r^2) \n",
       "Gam^r_t,t = -(2*G^2*M^2 - G*M*r)/r^3 \n",
       "Gam^r_r,r = G*M/(2*G*M*r - r^2) \n",
       "Gam^r_theta,theta = 2*G*M - r \n",
       "Gam^r_phi,phi = (2*G*M - r)*sin(theta)^2 \n",
       "Gam^theta_r,theta = 1/r \n",
       "Gam^theta_phi,phi = -cos(theta)*sin(theta) \n",
       "Gam^phi_r,phi = 1/r \n",
       "Gam^phi_theta,phi = cos(theta)/sin(theta) "
      ]
     },
     "execution_count": 37,
     "metadata": {},
     "output_type": "execute_result"
    }
   ],
   "source": [
    "g.christoffel_symbols_display()"
   ]
  },
  {
   "cell_type": "code",
   "execution_count": 53,
   "metadata": {},
   "outputs": [],
   "source": [
    "ap = (x^(1/2)).derivative(x)"
   ]
  },
  {
   "cell_type": "raw",
   "metadata": {},
   "source": [
    "ap.derivative(x)"
   ]
  },
  {
   "cell_type": "code",
   "execution_count": null,
   "metadata": {},
   "outputs": [],
   "source": []
  }
 ],
 "metadata": {
  "kernelspec": {
   "display_name": "SageMath 9.1",
   "language": "sage",
   "name": "sagemath"
  },
  "language_info": {
   "codemirror_mode": {
    "name": "ipython",
    "version": 3
   },
   "file_extension": ".py",
   "mimetype": "text/x-python",
   "name": "python",
   "nbconvert_exporter": "python",
   "pygments_lexer": "ipython3",
   "version": "3.7.3"
  }
 },
 "nbformat": 4,
 "nbformat_minor": 4
}
