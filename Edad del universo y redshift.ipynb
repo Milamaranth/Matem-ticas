{
 "cells": [
  {
   "cell_type": "markdown",
   "metadata": {},
   "source": [
    "In this notebook we present some useful routines for certain computations in Cosmology.\n",
    "\n",
    "Let us define the Hubble's constant $H_0$."
   ]
  },
  {
   "cell_type": "code",
   "execution_count": 121,
   "metadata": {},
   "outputs": [],
   "source": [
    "Hzero =  1/(9.78*10^9) #years."
   ]
  },
  {
   "cell_type": "markdown",
   "metadata": {},
   "source": [
    "We are interested in computing the age of the Universe for given values of $\\Omega_\\Lambda$, $\\Omega_{\\mathrm{M}}$, $\\Omega_{\\mathrm{R}}$ and $h$, where we will take into account\n",
    "$$\n",
    "    1 = \\Omega_\\Lambda + \\Omega_{\\mathrm{R}} + \\Omega_{\\mathrm{M}} + \\Omega_{\\mathrm{k}},\n",
    "$$\n",
    "being $\\Omega_{\\mathrm{k}}$ the curvature density parameter, that for a flat spacetime is equal to 0. Therefore, the age of the Universe is given by\n",
    "$$\n",
    "    t_{\\mathrm{U}} = \\frac{1}{h H_0}\\int_0^1 \\mathrm{d}x \\, \\frac{1}{\\sqrt{\\Omega_\\Lambda+\\Omega_{\\mathrm{M}}x^{-3}+\\Omega_{\\mathrm{R}}x^{-4}+(1 - \\Omega_\\Lambda - \\Omega_{\\mathrm{R}} - \\Omega_{\\mathrm{M}})x^{-2}}}.\n",
    "$$"
   ]
  },
  {
   "cell_type": "code",
   "execution_count": 124,
   "metadata": {},
   "outputs": [],
   "source": [
    "def AgeUniverse(OmegaLambda, OmegaM, OmegaR, h):\n",
    "    Omegak = 1 - OmegaLambda - OmegaM - OmegaR\n",
    "    return numerical_integral(1/(x*sqrt(OmegaLambda + OmegaM/x^3 + OmegaR/x^4 + Omegak/x^2)), 0, 1)[0]/(h*Hzero)"
   ]
  },
  {
   "cell_type": "code",
   "execution_count": 125,
   "metadata": {},
   "outputs": [
    {
     "data": {
      "text/plain": [
       "1.37973598140939e10"
      ]
     },
     "execution_count": 125,
     "metadata": {},
     "output_type": "execute_result"
    }
   ],
   "source": [
    "AgeUniverse(0.68,0.32,0,0.6711)"
   ]
  },
  {
   "cell_type": "markdown",
   "metadata": {},
   "source": [
    "If we want to compute the age of the Universe for a given redshift $z$,\n",
    "   $$\n",
    "       t_{\\mathrm{U}}(z) = \\frac{1}{h H_0}\\int_0^{1/(1+z)} \\mathrm{d}x \\, \\frac{1}{\\sqrt{\\Omega_\\Lambda+\\Omega_{\\mathrm{M}}x^{-3}+\\Omega_{\\mathrm{R}}x^{-4}+(1 - \\Omega_\\Lambda - \\Omega_{\\mathrm{R}} - \\Omega_{\\mathrm{M}})x^{-2}}}.\n",
    "   $$"
   ]
  },
  {
   "cell_type": "code",
   "execution_count": 6,
   "metadata": {},
   "outputs": [],
   "source": [
    "def AgeUniverseRedshift(OmegaLambda,OmegaM,OmegaR,h,z):\n",
    "    Omegak = 1-OmegaLambda-OmegaM-OmegaR\n",
    "    return integral(1/(x*sqrt(OmegaLambda+OmegaM/x^3+OmegaR/x^4+Omegak/x^2)),(x,0,1/(1+z)))/(h*Hzero)"
   ]
  },
  {
   "cell_type": "code",
   "execution_count": 5,
   "metadata": {},
   "outputs": [
    {
     "data": {
      "text/plain": [
       "329759.746260644"
      ]
     },
     "execution_count": 5,
     "metadata": {},
     "output_type": "execute_result"
    }
   ],
   "source": [
    "AgeUniverseRedshift(0.75, 0.25, 0, 0.68, 1500)"
   ]
  },
  {
   "cell_type": "markdown",
   "metadata": {},
   "source": [
    "Plot of the difference between apparent and absolute magnitudes, i.e., $m-M$, for a given redshift in a zero curvature universe."
   ]
  },
  {
   "cell_type": "code",
   "execution_count": 6,
   "metadata": {},
   "outputs": [],
   "source": [
    "def RedshiftKZero(OmegaLambda,OmegaM,OmegaR,h,z):\n",
    "    return integral(1/(x^2*sqrt(OmegaLambda+OmegaM/x^3+OmegaR/x^4)),(x,1/(1+z),1))*(1+z)*3*10^8/h\n",
    "def mM(OmegaLambda,OmegaM,OmegaR,h,z):\n",
    "    return 5*log(RedshiftKZero(OmegaLambda,OmegaM,OmegaR,h,z))/log(10.)"
   ]
  },
  {
   "cell_type": "code",
   "execution_count": 9,
   "metadata": {},
   "outputs": [
    {
     "data": {
      "image/png": "[encoded data removed]",
      "text/plain": [
       "Graphics object consisting of 1 graphics primitive"
      ]
     },
     "metadata": {},
     "output_type": "display_data"
    }
   ],
   "source": [
    "plot(mM(0.76, 0.24, 0, 0.64,x),(x,0.004,1), axes_labels=[r'$z$', r'$m-M$'],frame=True).show(figsize=5)"
   ]
  },
  {
   "cell_type": "markdown",
   "metadata": {},
   "source": [
    "#### Consideramos un universo plano con solo materia. Calcula la edad del univero hoy y cuando z = 100. Asumir h = 0.68."
   ]
  },
  {
   "cell_type": "code",
   "execution_count": 9,
   "metadata": {},
   "outputs": [
    {
     "data": {
      "text/html": [
       "<html><script type=\"math/tex; mode=display\">\\newcommand{\\Bold}[1]{\\mathbf{#1}}9.58823529411765 \\times 10^{9}</script></html>"
      ],
      "text/plain": [
       "9.58823529411765e9"
      ]
     },
     "metadata": {},
     "output_type": "display_data"
    }
   ],
   "source": [
    "##     Omegak + OmegaLambda + OmegaM + OmegaR = 0\n",
    "## En este caso, OmegaM = 1 y el resto 0.\n",
    "## AgeUniverse(OmegaLambda,OmegaM,OmegaR,h)\n",
    "show(AgeUniverse(0,1,0,0.68))"
   ]
  },
  {
   "cell_type": "code",
   "execution_count": 8,
   "metadata": {},
   "outputs": [
    {
     "data": {
      "text/html": [
       "<html><script type=\"math/tex; mode=display\">\\newcommand{\\Bold}[1]{\\mathbf{#1}}939930.917960754 \\, \\sqrt{101}</script></html>"
      ],
      "text/plain": [
       "939930.917960754*sqrt(101)"
      ]
     },
     "metadata": {},
     "output_type": "display_data"
    }
   ],
   "source": [
    "show(AgeUniverseRedshift(0,1,0,0.68,100))"
   ]
  },
  {
   "cell_type": "markdown",
   "metadata": {},
   "source": [
    "$$\n",
    "D_{\\mathrm{U}} = \\frac{1}{H_0}\\int_0^\\infty \\, \\frac{\\mathrm{d}z}{\\sqrt{\\Omega_\\Lambda+\\Omega_{\\mathrm{M}}(1+z)^{-3}+\\Omega_{\\mathrm{R}}(1+z)^{-4}+\\Omega_K(1+z)^{-2}}}.\n",
    "$$"
   ]
  },
  {
   "cell_type": "code",
   "execution_count": 104,
   "metadata": {},
   "outputs": [],
   "source": [
    "megaparsec_a_kilometros = 30856775812799586000"
   ]
  },
  {
   "cell_type": "code",
   "execution_count": 111,
   "metadata": {},
   "outputs": [],
   "source": [
    "var('z')\n",
    "def ProperDistanceUniverse(OmegaLambda,OmegaM,OmegaR,h):\n",
    "    Hzero = h * 100\n",
    "    c=299792 # km/s\n",
    "    Omegak = round(1 - OmegaLambda-OmegaM-OmegaR, 3)\n",
    "    return c*integral(1/(sqrt(OmegaLambda+OmegaM*(1+z)^3+OmegaR*(1+z)^4+Omegak*(1+z)^2)),(z,0,infinity), algorithm='mathematica_free')/(Hzero)\n",
    "# La solución da en Mpa megaparsecs"
   ]
  },
  {
   "cell_type": "code",
   "execution_count": 112,
   "metadata": {},
   "outputs": [
    {
     "data": {
      "text/plain": [
       "14378.28884235294"
      ]
     },
     "execution_count": 112,
     "metadata": {},
     "output_type": "execute_result"
    }
   ],
   "source": [
    "ProperDistanceUniverse(0.69, 0.31, 0, 0.68)"
   ]
  },
  {
   "cell_type": "code",
   "execution_count": 27,
   "metadata": {},
   "outputs": [],
   "source": [
    "def DistanceLuminosity(OmegaLambda,OmegaM,OmegaR,h):\n",
    "    Omegak = 1-OmegaLambda-OmegaM-OmegaR\n",
    "    return integral(1/(x*sqrt(OmegaLambda+OmegaM/x^3+OmegaR/x^4+Omegak/x^2)),(x,1/(1+z),1))/(h*Hzero)"
   ]
  },
  {
   "cell_type": "code",
   "execution_count": null,
   "metadata": {},
   "outputs": [],
   "source": []
  }
 ],
 "metadata": {
  "kernelspec": {
   "display_name": "SageMath 9.1",
   "language": "sage",
   "name": "sagemath"
  },
  "language_info": {
   "codemirror_mode": {
    "name": "ipython",
    "version": 3
   },
   "file_extension": ".py",
   "mimetype": "text/x-python",
   "name": "python",
   "nbconvert_exporter": "python",
   "pygments_lexer": "ipython3",
   "version": "3.7.3"
  }
 },
 "nbformat": 4,
 "nbformat_minor": 4
}
